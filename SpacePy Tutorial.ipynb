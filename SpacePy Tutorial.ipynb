{
 "metadata": {
  "name": "SpacePy Tutorial"
 }, 
 "nbformat": 2, 
 "worksheets": [
  {
   "cells": [
    {
     "cell_type": "markdown", 
     "source": [
      "This is a quick tour of SpacePy/Python. It's not comprehensive by any means.", 
      "If at any time you want to get help on anything, type the command and put a question mark at the end.", 
      "", 
      "(I am assuming you're running iPython. If you're just in a plain Python interpreter, please do yourself a favor and quit. Go use iPython.)"
     ]
    }, 
    {
     "cell_type": "code", 
     "collapsed": true, 
     "input": [
      "list?"
     ], 
     "language": "python", 
     "outputs": [], 
     "prompt_number": 116
    }, 
    {
     "cell_type": "markdown", 
     "source": [
      "This will work for anything in Python, including SpacePy. SpacePy also has HTML documentation.", 
      "Launch it by importing SpacePy, then calling the help function."
     ]
    }, 
    {
     "cell_type": "code", 
     "collapsed": false, 
     "input": [
      "import spacepy", 
      "spacepy.help()"
     ], 
     "language": "python", 
     "outputs": [
      {
       "output_type": "stream", 
       "stream": "stdout", 
       "text": [
        "Can't find help files in /home/steve/.local/lib/python2.7/site-packages/spacepy"
       ]
      }
     ], 
     "prompt_number": 117
    }, 
    {
     "cell_type": "markdown", 
     "source": [
      "That'll work on the SpacePy releases out of the box. If you pulled from SpacePy's git repository then", 
      "you'll need to explicitly build the documentation on install.", 
      "", 
      "First let's grab some data from the web. Let's start with magnetic ephemeris data from the Van Allen Probes mission."
     ]
    }, 
    {
     "cell_type": "code", 
     "collapsed": true, 
     "input": [
      "import urllib"
     ], 
     "language": "python", 
     "outputs": [], 
     "prompt_number": 1
    }, 
    {
     "cell_type": "code", 
     "collapsed": false, 
     "input": [
      "urllib.urlretrieve(\"http://www.rbsp-ect.lanl.gov/data_pub/rbspa/MagEphem/def/2012/rbspa_def_MagEphem_TS04D_20121004_v2.1.0.txt\", filename='rbspa_def_MagEphem_TS04D_20121004_v2.1.0.txt')"
     ], 
     "language": "python", 
     "outputs": [
      {
       "output_type": "pyout", 
       "prompt_number": 4, 
       "text": [
        "('rbspa_def_MagEphem_TS04D_20121004_v2.1.0.txt',", 
        " <httplib.HTTPMessage instance at 0x878c44c>)"
       ]
      }
     ], 
     "prompt_number": 4
    }, 
    {
     "cell_type": "markdown", 
     "source": [
      "Now to do something with it. First we should open the data file in a text editor and take a look at the file.", 
      "When that's done we'll go ahead and load it using SpacePy's \"datamodel\" module.", 
      "This type of file is a JSON-headed ASCII file. The header contains all the metadata and is written using", 
      "JSON - JavaScript Object Notation."
     ]
    }, 
    {
     "cell_type": "code", 
     "collapsed": true, 
     "input": [
      "import spacepy.datamodel as dm"
     ], 
     "language": "python", 
     "outputs": [], 
     "prompt_number": 148
    }, 
    {
     "cell_type": "code", 
     "collapsed": true, 
     "input": [
      "data = dm.readJSONheadedASCII('rbspa_def_MagEphem_TS04D_20121004_v2.1.0.txt', convert=True)"
     ], 
     "language": "python", 
     "outputs": [], 
     "prompt_number": 149
    }, 
    {
     "cell_type": "markdown", 
     "source": [
      "The \"convert\" keyword has some defaults set and will attempt to convert ISO format times to the Python", 
      "native datetime format. You can specify your own dictionary of functions to pass in to convert data.", 
      "For example, if you wanted the dipole tilt angle in radians instead of degrees... well, first we need", 
      "to find out what the tilt angle is called in the file."
     ]
    }, 
    {
     "cell_type": "code", 
     "collapsed": false, 
     "input": [
      "data.tree()"
     ], 
     "language": "python", 
     "outputs": [
      {
       "output_type": "stream", 
       "stream": "stdout", 
       "text": [
        "+", 
        "|____Alpha", 
        "|____ApogeePosGeod", 
        "|____ApogeeTimes", 
        "|____AscendingNodeTimes", 
        "|____AscendingPosGeod", 
        "|____Bfn_geo", 
        "|____Bfn_gsm", 
        "|____Bfs_geo", 
        "|____Bfs_gsm", 
        "|____Bm", 
        "|____Bmin_gsm", 
        "|____BoverBeq", 
        "|____Bsc_gsm", 
        "|____CDMAG_MLAT", 
        "|____CDMAG_MLON", 
        "|____CDMAG_MLT", 
        "|____CDMAG_R", 
        "|____DOY", 
        "|____Date", 
        "|____DateTime", 
        "|____DipoleTiltAngle", 
        "|____DriftShellType", 
        "|____Dst", 
        "|____EDMAG_MLAT", 
        "|____EDMAG_MLON", 
        "|____EDMAG_MLT", 
        "|____EDMAG_R", 
        "|____ExtModel", 
        "|____FieldLineType", 
        "|____GpsTime", 
        "|____I", 
        "|____InOut", 
        "|____IntModel", 
        "|____InvLat", 
        "|____InvLat_eq", 
        "|____JulianDate", 
        "|____K", 
        "|____Kappa", 
        "|____Kp", 
        "|____L", 
        "|____Lm_eq", 
        "|____Loss_Cone_Alpha_n", 
        "|____Loss_Cone_Alpha_s", 
        "|____Lsimple", 
        "|____Lstar", 
        "|____M_igrf", 
        "|____M_ref", 
        "|____M_used", 
        "|____MlatFromBoverBeq", 
        "|____OrbitNumber", 
        "|____PerigeePosGeod", 
        "|____PerigeeTimes", 
        "|____Pfn_CD_MLAT", 
        "|____Pfn_CD_MLON", 
        "|____Pfn_CD_MLT", 
        "|____Pfn_ED_MLAT", 
        "|____Pfn_ED_MLON", 
        "|____Pfn_ED_MLT", 
        "|____Pfn_geo", 
        "|____Pfn_geod_Height", 
        "|____Pfn_geod_LatLon", 
        "|____Pfn_gsm", 
        "|____Pfs_CD_MLAT", 
        "|____Pfs_CD_MLON", 
        "|____Pfs_CD_MLT", 
        "|____Pfs_ED_MLAT", 
        "|____Pfs_ED_MLON", 
        "|____Pfs_ED_MLT", 
        "|____Pfs_geo", 
        "|____Pfs_geod_Height", 
        "|____Pfs_geod_LatLon", 
        "|____Pfs_gsm", 
        "|____Pmin_gsm", 
        "|____RadiusOfCurv", 
        "|____Rgei", 
        "|____Rgeo", 
        "|____Rgeod_Height", 
        "|____Rgeod_LatLon", 
        "|____Rgse", 
        "|____Rgsm", 
        "|____Rsm", 
        "|____S_Bmin_to_sc", 
        "|____S_pfs_to_Bmin", 
        "|____S_sc_to_pfn", 
        "|____S_sc_to_pfs", 
        "|____S_total", 
        "|____Sb", 
        "|____Sb0", 
        "|____Tb", 
        "|____UTC", 
        "|____d2B_ds2"
       ]
      }
     ], 
     "prompt_number": 150
    }, 
    {
     "cell_type": "markdown", 
     "source": [
      "Each variable has associated metadata, and the \"tree\" method can display more information about that."
     ]
    }, 
    {
     "cell_type": "code", 
     "collapsed": false, 
     "input": [
      "data.tree(attrs=True, verbose=True)"
     ], 
     "language": "python", 
     "outputs": [
      {
       "output_type": "stream", 
       "stream": "stdout", 
       "text": [
        "+", 
        "|____Alpha (spacepy.datamodel.dmarray (18,))", 
        "    :|____DESCRIPTION (unicode [13])", 
        "    :|____DIMENSION (list [1])", 
        "    :|____ELEMENT_LABELS (list [18])", 
        "    :|____ELEMENT_NAMES (list [18])", 
        "    :|____FILL_VALUE (float)", 
        "    :|____LABEL (unicode [11])", 
        "    :|____NAME (unicode [11])", 
        "    :|____TITLE (unicode [11])", 
        "    :|____UNITS (unicode [7])", 
        "    :|____VALID_MAX (float)", 
        "    :|____VALID_MIN (float)", 
        "|____ApogeePosGeod (spacepy.datamodel.dmarray (2,))", 
        "    :|____DESCRIPTION (unicode [62])", 
        "    :|____DIMENSION (list [1])", 
        "    :|____ELEMENT_NAMES (list [2])", 
        "    :|____LABEL (unicode [19])", 
        "    :|____NAME (unicode [19])", 
        "    :|____TITLE (unicode [19])", 
        "    :|____UNITS (unicode [14])", 
        "|____ApogeeTimes (spacepy.datamodel.dmarray (2,))", 
        "    :|____DESCRIPTION (unicode [25])", 
        "    :|____DIMENSION (list [1])", 
        "    :|____ELEMENT_NAMES (list [2])", 
        "    :|____LABEL (unicode [12])", 
        "    :|____NAME (unicode [12])", 
        "    :|____TITLE (unicode [12])", 
        "    :|____UNITS (unicode [3])", 
        "|____AscendingNodeTimes (spacepy.datamodel.dmarray (3,))", 
        "    :|____DESCRIPTION (unicode [42])", 
        "    :|____DIMENSION (list [1])", 
        "    :|____ELEMENT_NAMES (list [3])", 
        "    :|____LABEL (unicode [29])", 
        "    :|____NAME (unicode [29])", 
        "    :|____TITLE (unicode [29])", 
        "    :|____UNITS (unicode [3])", 
        "|____AscendingPosGeod (spacepy.datamodel.dmarray (3,))", 
        "    :|____DESCRIPTION (unicode [79])", 
        "    :|____DIMENSION (list [1])", 
        "    :|____ELEMENT_NAMES (list [3])", 
        "    :|____LABEL (unicode [36])", 
        "    :|____NAME (unicode [36])", 
        "    :|____TITLE (unicode [36])", 
        "    :|____UNITS (unicode [14])", 
        "|____Bfn_geo (spacepy.datamodel.dmarray (289, 4))", 
        "    :|____DESCRIPTION (unicode [60])", 
        "    :|____DIMENSION (list [1])", 
        "    :|____ELEMENT_LABELS (list [4])", 
        "    :|____ELEMENT_NAMES (list [4])", 
        "    :|____FILL_VALUE (float)", 
        "    :|____LABEL (unicode [18])", 
        "    :|____NAME (unicode [7])", 
        "    :|____START_COLUMN (int)", 
        "    :|____TITLE (unicode [59])", 
        "    :|____UNITS (unicode [2])", 
        "    :|____VALID_MAX (float)", 
        "    :|____VALID_MIN (float)", 
        "|____Bfn_gsm (spacepy.datamodel.dmarray (289, 4))", 
        "    :|____DESCRIPTION (unicode [60])", 
        "    :|____DIMENSION (list [1])", 
        "    :|____ELEMENT_LABELS (list [4])", 
        "    :|____ELEMENT_NAMES (list [4])", 
        "    :|____FILL_VALUE (float)", 
        "    :|____LABEL (unicode [18])", 
        "    :|____NAME (unicode [7])", 
        "    :|____START_COLUMN (int)", 
        "    :|____TITLE (unicode [59])", 
        "    :|____UNITS (unicode [2])", 
        "    :|____VALID_MAX (float)", 
        "    :|____VALID_MIN (float)", 
        "|____Bfs_geo (spacepy.datamodel.dmarray (289, 4))", 
        "    :|____DESCRIPTION (unicode [60])", 
        "    :|____DIMENSION (list [1])", 
        "    :|____ELEMENT_LABELS (list [4])", 
        "    :|____ELEMENT_NAMES (list [4])", 
        "    :|____FILL_VALUE (float)", 
        "    :|____LABEL (unicode [18])", 
        "    :|____NAME (unicode [7])", 
        "    :|____START_COLUMN (int)", 
        "    :|____TITLE (unicode [59])", 
        "    :|____UNITS (unicode [2])", 
        "|____Bfs_gsm (spacepy.datamodel.dmarray (289, 4))", 
        "    :|____DESCRIPTION (unicode [60])", 
        "    :|____DIMENSION (list [1])", 
        "    :|____ELEMENT_LABELS (list [4])", 
        "    :|____ELEMENT_NAMES (list [4])", 
        "    :|____FILL_VALUE (float)", 
        "    :|____LABEL (unicode [18])", 
        "    :|____NAME (unicode [7])", 
        "    :|____START_COLUMN (int)", 
        "    :|____TITLE (unicode [59])", 
        "    :|____UNITS (unicode [2])", 
        "|____Bm (spacepy.datamodel.dmarray (289, 18))", 
        "    :|____DEPEND_1 (unicode [5])", 
        "    :|____DESCRIPTION (unicode [62])", 
        "    :|____DIMENSION (list [1])", 
        "    :|____ELEMENT_LABELS (list [18])", 
        "    :|____ELEMENT_NAMES (list [18])", 
        "    :|____FILL_VALUE (float)", 
        "    :|____LABEL (unicode [13])", 
        "    :|____NAME (unicode [2])", 
        "    :|____START_COLUMN (int)", 
        "    :|____TITLE (unicode [30])", 
        "    :|____UNITS (unicode [2])", 
        "|____Bmin_gsm (spacepy.datamodel.dmarray (289, 4))", 
        "    :|____DESCRIPTION (unicode [45])", 
        "    :|____DIMENSION (list [1])", 
        "    :|____ELEMENT_LABELS (list [4])", 
        "    :|____ELEMENT_NAMES (list [4])", 
        "    :|____FILL_VALUE (float)", 
        "    :|____LABEL (unicode [19])", 
        "    :|____NAME (unicode [8])", 
        "    :|____START_COLUMN (int)", 
        "    :|____TITLE (unicode [32])", 
        "    :|____UNITS (unicode [2])", 
        "|____BoverBeq (spacepy.datamodel.dmarray (289,))", 
        "    :|____DESCRIPTION (unicode [40])", 
        "    :|____FILL_VALUE (float)", 
        "    :|____LABEL (unicode [14])", 
        "    :|____NAME (unicode [8])", 
        "    :|____START_COLUMN (int)", 
        "    :|____TITLE (unicode [8])", 
        "    :|____UNITS (unicode [7])", 
        "|____Bsc_gsm (spacepy.datamodel.dmarray (289, 4))", 
        "    :|____DESCRIPTION (unicode [51])", 
        "    :|____DIMENSION (list [1])", 
        "    :|____ELEMENT_LABELS (list [4])", 
        "    :|____ELEMENT_NAMES (list [4])", 
        "    :|____FILL_VALUE (float)", 
        "    :|____LABEL (unicode [18])", 
        "    :|____NAME (unicode [7])", 
        "    :|____START_COLUMN (int)", 
        "    :|____TITLE (unicode [28])", 
        "    :|____UNITS (unicode [2])", 
        "    :|____VALID_MAX (float)", 
        "    :|____VALID_MIN (float)", 
        "|____CDMAG_MLAT (spacepy.datamodel.dmarray (289,))", 
        "    :|____DESCRIPTION (unicode [57])", 
        "    :|____FILL_VALUE (float)", 
        "    :|____LABEL (unicode [17])", 
        "    :|____NAME (unicode [10])", 
        "    :|____START_COLUMN (int)", 
        "    :|____TITLE (unicode [37])", 
        "    :|____UNITS (unicode [7])", 
        "    :|____VALID_MAX (float)", 
        "    :|____VALID_MIN (float)", 
        "|____CDMAG_MLON (spacepy.datamodel.dmarray (289,))", 
        "    :|____DESCRIPTION (unicode [55])", 
        "    :|____FILL_VALUE (float)", 
        "    :|____LABEL (unicode [17])", 
        "    :|____NAME (unicode [10])", 
        "    :|____START_COLUMN (int)", 
        "    :|____TITLE (unicode [38])", 
        "    :|____UNITS (unicode [7])", 
        "    :|____VALID_MAX (float)", 
        "    :|____VALID_MIN (float)", 
        "|____CDMAG_MLT (spacepy.datamodel.dmarray (289,))", 
        "    :|____DESCRIPTION (unicode [59])", 
        "    :|____FILL_VALUE (float)", 
        "    :|____LABEL (unicode [14])", 
        "    :|____NAME (unicode [9])", 
        "    :|____START_COLUMN (int)", 
        "    :|____TITLE (unicode [45])", 
        "    :|____UNITS (unicode [5])", 
        "    :|____VALID_MAX (float)", 
        "    :|____VALID_MIN (float)", 
        "|____CDMAG_R (spacepy.datamodel.dmarray (289,))", 
        "    :|____DESCRIPTION (unicode [62])", 
        "    :|____FILL_VALUE (float)", 
        "    :|____LABEL (unicode [9])", 
        "    :|____NAME (unicode [7])", 
        "    :|____START_COLUMN (int)", 
        "    :|____TITLE (unicode [35])", 
        "    :|____UNITS (unicode [2])", 
        "    :|____VALID_MAX (float)", 
        "    :|____VALID_MIN (float)", 
        "|____DOY (spacepy.datamodel.dmarray (289,))", 
        "    :|____DESCRIPTION (unicode [20])", 
        "    :|____LABEL (unicode [3])", 
        "    :|____NAME (unicode [3])", 
        "    :|____START_COLUMN (int)", 
        "    :|____TITLE (unicode [11])", 
        "    :|____UNITS (unicode [4])", 
        "    :|____VALID_MAX (int)", 
        "    :|____VALID_MIN (int)", 
        "|____Date (spacepy.datamodel.dmarray (289,))", 
        "    :|____DESCRIPTION (unicode [28])", 
        "    :|____LABEL (unicode [4])", 
        "    :|____NAME (unicode [4])", 
        "    :|____START_COLUMN (int)", 
        "    :|____TITLE (unicode [4])", 
        "|____DateTime (spacepy.datamodel.dmarray (289,))", 
        "    :|____DESCRIPTION (unicode [47])", 
        "    :|____LABEL (unicode [4])", 
        "    :|____NAME (unicode [11])", 
        "    :|____START_COLUMN (int)", 
        "    :|____TITLE (unicode [12])", 
        "    :|____UNITS (unicode [3])", 
        "|____DipoleTiltAngle (spacepy.datamodel.dmarray (289,))", 
        "    :|____DESCRIPTION (unicode [73])", 
        "    :|____LABEL (unicode [27])", 
        "    :|____NAME (unicode [15])", 
        "    :|____START_COLUMN (int)", 
        "    :|____TITLE (unicode [17])", 
        "    :|____UNITS (unicode [7])", 
        "|____DriftShellType (spacepy.datamodel.dmarray (289, 18))", 
        "    :|____DEPEND_1 (unicode [5])", 
        "    :|____DESCRIPTION (unicode [81])", 
        "    :|____DIMENSION (list [1])", 
        "    :|____ELEMENT_LABELS (list [18])", 
        "    :|____ELEMENT_NAMES (list [18])", 
        "    :|____FILL_VALUE (float)", 
        "    :|____LABEL (unicode [13])", 
        "    :|____NAME (unicode [14])", 
        "    :|____START_COLUMN (int)", 
        "    :|____TITLE (unicode [16])", 
        "    :|____UNITS (unicode [13])", 
        "|____Dst (spacepy.datamodel.dmarray (289,))", 
        "    :|____DESCRIPTION (unicode [16])", 
        "    :|____FILL_VALUE (float)", 
        "    :|____LABEL (unicode [8])", 
        "    :|____NAME (unicode [3])", 
        "    :|____START_COLUMN (int)", 
        "    :|____TITLE (unicode [9])", 
        "    :|____UNITS (unicode [2])", 
        "    :|____VALID_MAX (float)", 
        "    :|____VALID_MIN (float)", 
        "|____EDMAG_MLAT (spacepy.datamodel.dmarray (289,))", 
        "    :|____DESCRIPTION (unicode [57])", 
        "    :|____FILL_VALUE (float)", 
        "    :|____LABEL (unicode [17])", 
        "    :|____NAME (unicode [10])", 
        "    :|____START_COLUMN (int)", 
        "    :|____TITLE (unicode [38])", 
        "    :|____UNITS (unicode [7])", 
        "    :|____VALID_MAX (float)", 
        "    :|____VALID_MIN (float)", 
        "|____EDMAG_MLON (spacepy.datamodel.dmarray (289,))", 
        "    :|____DESCRIPTION (unicode [55])", 
        "    :|____FILL_VALUE (float)", 
        "    :|____LABEL (unicode [17])", 
        "    :|____NAME (unicode [10])", 
        "    :|____START_COLUMN (int)", 
        "    :|____TITLE (unicode [39])", 
        "    :|____UNITS (unicode [7])", 
        "    :|____VALID_MAX (float)", 
        "    :|____VALID_MIN (float)", 
        "|____EDMAG_MLT (spacepy.datamodel.dmarray (289,))", 
        "    :|____DESCRIPTION (unicode [59])", 
        "    :|____FILL_VALUE (float)", 
        "    :|____LABEL (unicode [14])", 
        "    :|____NAME (unicode [9])", 
        "    :|____START_COLUMN (int)", 
        "    :|____TITLE (unicode [46])", 
        "    :|____UNITS (unicode [5])", 
        "    :|____VALID_MAX (float)", 
        "    :|____VALID_MIN (float)", 
        "|____EDMAG_R (spacepy.datamodel.dmarray (289,))", 
        "    :|____DESCRIPTION (unicode [62])", 
        "    :|____FILL_VALUE (float)", 
        "    :|____LABEL (unicode [9])", 
        "    :|____NAME (unicode [7])", 
        "    :|____START_COLUMN (int)", 
        "    :|____TITLE (unicode [36])", 
        "    :|____UNITS (unicode [2])", 
        "    :|____VALID_MAX (float)", 
        "    :|____VALID_MIN (float)", 
        "|____ExtModel (spacepy.datamodel.dmarray (289,))", 
        "    :|____DESCRIPTION (unicode [30])", 
        "    :|____ENUM (list [3])", 
        "    :|____LABEL (unicode [20])", 
        "    :|____NAME (unicode [8])", 
        "    :|____START_COLUMN (int)", 
        "    :|____TITLE (unicode [29])", 
        "|____FieldLineType (spacepy.datamodel.dmarray (289,))", 
        "    :|____DESCRIPTION (unicode [332])", 
        "    :|____ENUM (list [4])", 
        "    :|____LABEL (unicode [21])", 
        "    :|____NAME (unicode [13])", 
        "    :|____START_COLUMN (int)", 
        "    :|____TITLE (unicode [15])", 
        "|____GpsTime (spacepy.datamodel.dmarray (289,))", 
        "    :|____DESCRIPTION (unicode [46])", 
        "    :|____LABEL (unicode [18])", 
        "    :|____NAME (unicode [7])", 
        "    :|____START_COLUMN (int)", 
        "    :|____TITLE (unicode [8])", 
        "    :|____UNITS (unicode [7])", 
        "|____I (spacepy.datamodel.dmarray (289, 18))", 
        "    :|____DEPEND_1 (unicode [5])", 
        "    :|____DESCRIPTION (unicode [40])", 
        "    :|____DIMENSION (list [1])", 
        "    :|____ELEMENT_LABELS (list [18])", 
        "    :|____ELEMENT_NAMES (list [18])", 
        "    :|____FILL_VALUE (float)", 
        "    :|____LABEL (unicode [14])", 
        "    :|____NAME (unicode [1])", 
        "    :|____START_COLUMN (int)", 
        "    :|____TITLE (unicode [18])", 
        "    :|____UNITS (unicode [6])", 
        "|____InOut (spacepy.datamodel.dmarray (289,))", 
        "    :|____DESCRIPTION (unicode [61])", 
        "    :|____LABEL (unicode [5])", 
        "    :|____NAME (unicode [5])", 
        "    :|____START_COLUMN (int)", 
        "    :|____TITLE (unicode [5])", 
        "    :|____UNITS (unicode [7])", 
        "|____IntModel (spacepy.datamodel.dmarray (289,))", 
        "    :|____DESCRIPTION (unicode [30])", 
        "    :|____ENUM (list [3])", 
        "    :|____LABEL (unicode [20])", 
        "    :|____NAME (unicode [8])", 
        "    :|____START_COLUMN (int)", 
        "    :|____TITLE (unicode [29])", 
        "|____InvLat (spacepy.datamodel.dmarray (289,))", 
        "    :|____DESCRIPTION (unicode [73])", 
        "    :|____FILL_VALUE (float)", 
        "    :|____LABEL (unicode [34])", 
        "    :|____NAME (unicode [6])", 
        "    :|____START_COLUMN (int)", 
        "    :|____TITLE (unicode [18])", 
        "    :|____UNITS (unicode [7])", 
        "|____InvLat_eq (spacepy.datamodel.dmarray (289,))", 
        "    :|____DESCRIPTION (unicode [73])", 
        "    :|____FILL_VALUE (float)", 
        "    :|____LABEL (unicode [40])", 
        "    :|____NAME (unicode [9])", 
        "    :|____START_COLUMN (int)", 
        "    :|____TITLE (unicode [24])", 
        "    :|____UNITS (unicode [7])", 
        "|____JulianDate (spacepy.datamodel.dmarray (289,))", 
        "    :|____DESCRIPTION (unicode [29])", 
        "    :|____LABEL (unicode [11])", 
        "    :|____NAME (unicode [10])", 
        "    :|____START_COLUMN (int)", 
        "    :|____TITLE (unicode [11])", 
        "    :|____UNITS (unicode [4])", 
        "|____K (spacepy.datamodel.dmarray (289, 18))", 
        "    :|____DEPEND_1 (unicode [5])", 
        "    :|____DESCRIPTION (unicode [53])", 
        "    :|____DIMENSION (list [1])", 
        "    :|____ELEMENT_LABELS (list [18])", 
        "    :|____ELEMENT_NAMES (list [18])", 
        "    :|____FILL_VALUE (float)", 
        "    :|____LABEL (unicode [25])", 
        "    :|____NAME (unicode [1])", 
        "    :|____START_COLUMN (int)", 
        "    :|____TITLE (unicode [16])", 
        "    :|____UNITS (unicode [15])", 
        "|____Kappa (spacepy.datamodel.dmarray (289, 18))", 
        "    :|____DEPEND_1 (unicode [5])", 
        "    :|____DESCRIPTION (unicode [323])", 
        "    :|____DIMENSION (list [1])", 
        "    :|____ELEMENT_LABELS (list [18])", 
        "    :|____ELEMENT_NAMES (list [18])", 
        "    :|____FILL_VALUE (float)", 
        "    :|____LABEL (unicode [5])", 
        "    :|____NAME (unicode [5])", 
        "    :|____START_COLUMN (int)", 
        "    :|____TITLE (unicode [34])", 
        "    :|____UNITS (unicode [13])", 
        "|____Kp (spacepy.datamodel.dmarray (289,))", 
        "    :|____DESCRIPTION (unicode [15])", 
        "    :|____FILL_VALUE (float)", 
        "    :|____LABEL (unicode [2])", 
        "    :|____NAME (unicode [2])", 
        "    :|____START_COLUMN (int)", 
        "    :|____TITLE (unicode [8])", 
        "    :|____VALID_MAX (float)", 
        "    :|____VALID_MIN (float)", 
        "|____L (spacepy.datamodel.dmarray (289, 18))", 
        "    :|____DEPEND_1 (unicode [5])", 
        "    :|____DESCRIPTION (unicode [23])", 
        "    :|____DIMENSION (list [1])", 
        "    :|____ELEMENT_LABELS (list [18])", 
        "    :|____ELEMENT_NAMES (list [18])", 
        "    :|____FILL_VALUE (float)", 
        "    :|____LABEL (unicode [7])", 
        "    :|____NAME (unicode [1])", 
        "    :|____START_COLUMN (int)", 
        "    :|____TITLE (unicode [1])", 
        "    :|____UNITS (unicode [13])", 
        "|____Lm_eq (spacepy.datamodel.dmarray (289,))", 
        "    :|____DESCRIPTION (unicode [120])", 
        "    :|____FILL_VALUE (float)", 
        "    :|____LABEL (unicode [32])", 
        "    :|____NAME (unicode [5])", 
        "    :|____START_COLUMN (int)", 
        "    :|____TITLE (unicode [47])", 
        "    :|____UNITS (unicode [7])", 
        "|____Loss_Cone_Alpha_n (spacepy.datamodel.dmarray (289,))", 
        "    :|____DESCRIPTION (unicode [258])", 
        "    :|____FILL_VALUE (float)", 
        "    :|____LABEL (unicode [29])", 
        "    :|____NAME (unicode [17])", 
        "    :|____START_COLUMN (int)", 
        "    :|____TITLE (unicode [24])", 
        "    :|____UNITS (unicode [7])", 
        "|____Loss_Cone_Alpha_s (spacepy.datamodel.dmarray (289,))", 
        "    :|____DESCRIPTION (unicode [258])", 
        "    :|____FILL_VALUE (float)", 
        "    :|____LABEL (unicode [29])", 
        "    :|____NAME (unicode [17])", 
        "    :|____START_COLUMN (int)", 
        "    :|____TITLE (unicode [24])", 
        "    :|____UNITS (unicode [7])", 
        "|____Lsimple (spacepy.datamodel.dmarray (289,))", 
        "    :|____DESCRIPTION (unicode [73])", 
        "    :|____FILL_VALUE (float)", 
        "    :|____LABEL (unicode [13])", 
        "    :|____NAME (unicode [7])", 
        "    :|____START_COLUMN (int)", 
        "    :|____TITLE (unicode [7])", 
        "    :|____UNITS (unicode [7])", 
        "|____Lstar (spacepy.datamodel.dmarray (289, 18))", 
        "    :|____DEPEND_1 (unicode [5])", 
        "    :|____DESCRIPTION (unicode [54])", 
        "    :|____DIMENSION (list [1])", 
        "    :|____ELEMENT_LABELS (list [18])", 
        "    :|____ELEMENT_NAMES (list [18])", 
        "    :|____FILL_VALUE (float)", 
        "    :|____LABEL (unicode [12])", 
        "    :|____NAME (unicode [5])", 
        "    :|____START_COLUMN (int)", 
        "    :|____TITLE (unicode [6])", 
        "    :|____UNITS (unicode [13])", 
        "|____M_igrf (spacepy.datamodel.dmarray (289,))", 
        "    :|____DESCRIPTION (unicode [139])", 
        "    :|____FILL_VALUE (float)", 
        "    :|____LABEL (unicode [11])", 
        "    :|____NAME (unicode [6])", 
        "    :|____START_COLUMN (int)", 
        "    :|____TITLE (unicode [6])", 
        "    :|____UNITS (unicode [2])", 
        "|____M_ref (spacepy.datamodel.dmarray (289,))", 
        "    :|____DESCRIPTION (unicode [94])", 
        "    :|____FILL_VALUE (float)", 
        "    :|____LABEL (unicode [10])", 
        "    :|____NAME (unicode [5])", 
        "    :|____START_COLUMN (int)", 
        "    :|____TITLE (unicode [5])", 
        "    :|____UNITS (unicode [2])", 
        "|____M_used (spacepy.datamodel.dmarray (289,))", 
        "    :|____DESCRIPTION (unicode [88])", 
        "    :|____FILL_VALUE (float)", 
        "    :|____LABEL (unicode [11])", 
        "    :|____NAME (unicode [6])", 
        "    :|____START_COLUMN (int)", 
        "    :|____TITLE (unicode [6])", 
        "    :|____UNITS (unicode [2])", 
        "|____MlatFromBoverBeq (spacepy.datamodel.dmarray (289,))", 
        "    :|____DESCRIPTION (unicode [49])", 
        "    :|____FILL_VALUE (float)", 
        "    :|____LABEL (unicode [32])", 
        "    :|____NAME (unicode [16])", 
        "    :|____START_COLUMN (int)", 
        "    :|____TITLE (unicode [16])", 
        "    :|____UNITS (unicode [7])", 
        "|____OrbitNumber (spacepy.datamodel.dmarray (289,))", 
        "    :|____DESCRIPTION (unicode [13])", 
        "    :|____LABEL (unicode [12])", 
        "    :|____NAME (unicode [11])", 
        "    :|____START_COLUMN (int)", 
        "    :|____TITLE (unicode [12])", 
        "    :|____UNITS (unicode [7])", 
        "|____PerigeePosGeod (spacepy.datamodel.dmarray (3,))", 
        "    :|____DESCRIPTION (unicode [63])", 
        "    :|____DIMENSION (list [1])", 
        "    :|____ELEMENT_NAMES (list [3])", 
        "    :|____LABEL (unicode [20])", 
        "    :|____NAME (unicode [20])", 
        "    :|____TITLE (unicode [20])", 
        "    :|____UNITS (unicode [14])", 
        "|____PerigeeTimes (spacepy.datamodel.dmarray (3,))", 
        "    :|____DESCRIPTION (unicode [26])", 
        "    :|____DIMENSION (list [1])", 
        "    :|____ELEMENT_NAMES (list [3])", 
        "    :|____LABEL (unicode [13])", 
        "    :|____NAME (unicode [13])", 
        "    :|____TITLE (unicode [13])", 
        "    :|____UNITS (unicode [3])", 
        "|____Pfn_CD_MLAT (spacepy.datamodel.dmarray (289,))", 
        "    :|____DESCRIPTION (unicode [72])", 
        "    :|____FILL_VALUE (float)", 
        "    :|____LABEL (unicode [23])", 
        "    :|____NAME (unicode [11])", 
        "    :|____START_COLUMN (int)", 
        "    :|____TITLE (unicode [29])", 
        "    :|____UNITS (unicode [7])", 
        "    :|____VALID_MAX (float)", 
        "    :|____VALID_MIN (float)", 
        "|____Pfn_CD_MLON (spacepy.datamodel.dmarray (289,))", 
        "    :|____DESCRIPTION (unicode [70])", 
        "    :|____FILL_VALUE (float)", 
        "    :|____LABEL (unicode [23])", 
        "    :|____NAME (unicode [11])", 
        "    :|____START_COLUMN (int)", 
        "    :|____TITLE (unicode [29])", 
        "    :|____UNITS (unicode [7])", 
        "    :|____VALID_MAX (float)", 
        "    :|____VALID_MIN (float)", 
        "|____Pfn_CD_MLT (spacepy.datamodel.dmarray (289,))", 
        "    :|____DESCRIPTION (unicode [74])", 
        "    :|____FILL_VALUE (float)", 
        "    :|____LABEL (unicode [20])", 
        "    :|____NAME (unicode [10])", 
        "    :|____START_COLUMN (int)", 
        "    :|____TITLE (unicode [28])", 
        "    :|____UNITS (unicode [5])", 
        "    :|____VALID_MAX (float)", 
        "    :|____VALID_MIN (float)", 
        "|____Pfn_ED_MLAT (spacepy.datamodel.dmarray (289,))", 
        "    :|____DESCRIPTION (unicode [72])", 
        "    :|____FILL_VALUE (float)", 
        "    :|____LABEL (unicode [23])", 
        "    :|____NAME (unicode [11])", 
        "    :|____START_COLUMN (int)", 
        "    :|____TITLE (unicode [29])", 
        "    :|____UNITS (unicode [7])", 
        "    :|____VALID_MAX (float)", 
        "    :|____VALID_MIN (float)", 
        "|____Pfn_ED_MLON (spacepy.datamodel.dmarray (289,))", 
        "    :|____DESCRIPTION (unicode [70])", 
        "    :|____FILL_VALUE (float)", 
        "    :|____LABEL (unicode [23])", 
        "    :|____NAME (unicode [11])", 
        "    :|____START_COLUMN (int)", 
        "    :|____TITLE (unicode [29])", 
        "    :|____UNITS (unicode [7])", 
        "    :|____VALID_MAX (float)", 
        "    :|____VALID_MIN (float)", 
        "|____Pfn_ED_MLT (spacepy.datamodel.dmarray (289,))", 
        "    :|____DESCRIPTION (unicode [74])", 
        "    :|____FILL_VALUE (float)", 
        "    :|____LABEL (unicode [20])", 
        "    :|____NAME (unicode [10])", 
        "    :|____START_COLUMN (int)", 
        "    :|____TITLE (unicode [28])", 
        "    :|____UNITS (unicode [5])", 
        "    :|____VALID_MAX (float)", 
        "    :|____VALID_MIN (float)", 
        "|____Pfn_geo (spacepy.datamodel.dmarray (289, 3))", 
        "    :|____DESCRIPTION (unicode [47])", 
        "    :|____DIMENSION (list [1])", 
        "    :|____ELEMENT_LABELS (list [3])", 
        "    :|____ELEMENT_NAMES (list [3])", 
        "    :|____FILL_VALUE (float)", 
        "    :|____LABEL (unicode [20])", 
        "    :|____NAME (unicode [7])", 
        "    :|____START_COLUMN (int)", 
        "    :|____TITLE (unicode [29])", 
        "    :|____UNITS (unicode [6])", 
        "    :|____VALID_MAX (float)", 
        "    :|____VALID_MIN (float)", 
        "|____Pfn_geod_Height (spacepy.datamodel.dmarray (289,))", 
        "    :|____DESCRIPTION (unicode [38])", 
        "    :|____FILL_VALUE (float)", 
        "    :|____LABEL (unicode [20])", 
        "    :|____NAME (unicode [15])", 
        "    :|____START_COLUMN (int)", 
        "    :|____TITLE (unicode [37])", 
        "    :|____UNITS (unicode [2])", 
        "    :|____VALID_MAX (float)", 
        "    :|____VALID_MIN (float)", 
        "|____Pfn_geod_LatLon (spacepy.datamodel.dmarray (289, 2))", 
        "    :|____DESCRIPTION (unicode [54])", 
        "    :|____DIMENSION (list [1])", 
        "    :|____ELEMENT_LABELS (list [2])", 
        "    :|____ELEMENT_NAMES (list [2])", 
        "    :|____FILL_VALUE (float)", 
        "    :|____LABEL (unicode [31])", 
        "    :|____NAME (unicode [15])", 
        "    :|____START_COLUMN (int)", 
        "    :|____TITLE (unicode [53])", 
        "    :|____UNITS (unicode [7])", 
        "    :|____VALID_MAX (float)", 
        "    :|____VALID_MIN (float)", 
        "|____Pfn_gsm (spacepy.datamodel.dmarray (289, 3))", 
        "    :|____DESCRIPTION (unicode [47])", 
        "    :|____DIMENSION (list [1])", 
        "    :|____ELEMENT_LABELS (list [3])", 
        "    :|____ELEMENT_NAMES (list [3])", 
        "    :|____FILL_VALUE (float)", 
        "    :|____LABEL (unicode [20])", 
        "    :|____NAME (unicode [7])", 
        "    :|____START_COLUMN (int)", 
        "    :|____TITLE (unicode [34])", 
        "    :|____UNITS (unicode [6])", 
        "    :|____VALID_MAX (float)", 
        "    :|____VALID_MIN (float)", 
        "|____Pfs_CD_MLAT (spacepy.datamodel.dmarray (289,))", 
        "    :|____DESCRIPTION (unicode [72])", 
        "    :|____FILL_VALUE (float)", 
        "    :|____LABEL (unicode [23])", 
        "    :|____NAME (unicode [11])", 
        "    :|____START_COLUMN (int)", 
        "    :|____TITLE (unicode [29])", 
        "    :|____UNITS (unicode [7])", 
        "    :|____VALID_MAX (float)", 
        "    :|____VALID_MIN (float)", 
        "|____Pfs_CD_MLON (spacepy.datamodel.dmarray (289,))", 
        "    :|____DESCRIPTION (unicode [70])", 
        "    :|____FILL_VALUE (float)", 
        "    :|____LABEL (unicode [23])", 
        "    :|____NAME (unicode [11])", 
        "    :|____START_COLUMN (int)", 
        "    :|____TITLE (unicode [29])", 
        "    :|____UNITS (unicode [7])", 
        "    :|____VALID_MAX (float)", 
        "    :|____VALID_MIN (float)", 
        "|____Pfs_CD_MLT (spacepy.datamodel.dmarray (289,))", 
        "    :|____DESCRIPTION (unicode [74])", 
        "    :|____FILL_VALUE (float)", 
        "    :|____LABEL (unicode [20])", 
        "    :|____NAME (unicode [10])", 
        "    :|____START_COLUMN (int)", 
        "    :|____TITLE (unicode [28])", 
        "    :|____UNITS (unicode [5])", 
        "    :|____VALID_MAX (float)", 
        "    :|____VALID_MIN (float)", 
        "|____Pfs_ED_MLAT (spacepy.datamodel.dmarray (289,))", 
        "    :|____DESCRIPTION (unicode [72])", 
        "    :|____FILL_VALUE (float)", 
        "    :|____LABEL (unicode [23])", 
        "    :|____NAME (unicode [11])", 
        "    :|____START_COLUMN (int)", 
        "    :|____TITLE (unicode [29])", 
        "    :|____UNITS (unicode [7])", 
        "    :|____VALID_MAX (float)", 
        "    :|____VALID_MIN (float)", 
        "|____Pfs_ED_MLON (spacepy.datamodel.dmarray (289,))", 
        "    :|____DESCRIPTION (unicode [70])", 
        "    :|____FILL_VALUE (float)", 
        "    :|____LABEL (unicode [23])", 
        "    :|____NAME (unicode [11])", 
        "    :|____START_COLUMN (int)", 
        "    :|____TITLE (unicode [29])", 
        "    :|____UNITS (unicode [7])", 
        "    :|____VALID_MAX (float)", 
        "    :|____VALID_MIN (float)", 
        "|____Pfs_ED_MLT (spacepy.datamodel.dmarray (289,))", 
        "    :|____DESCRIPTION (unicode [74])", 
        "    :|____FILL_VALUE (float)", 
        "    :|____LABEL (unicode [20])", 
        "    :|____NAME (unicode [10])", 
        "    :|____START_COLUMN (int)", 
        "    :|____TITLE (unicode [28])", 
        "    :|____UNITS (unicode [5])", 
        "    :|____VALID_MAX (float)", 
        "    :|____VALID_MIN (float)", 
        "|____Pfs_geo (spacepy.datamodel.dmarray (289, 3))", 
        "    :|____DESCRIPTION (unicode [47])", 
        "    :|____DIMENSION (list [1])", 
        "    :|____ELEMENT_LABELS (list [3])", 
        "    :|____ELEMENT_NAMES (list [3])", 
        "    :|____FILL_VALUE (float)", 
        "    :|____LABEL (unicode [20])", 
        "    :|____NAME (unicode [7])", 
        "    :|____START_COLUMN (int)", 
        "    :|____TITLE (unicode [29])", 
        "    :|____UNITS (unicode [6])", 
        "    :|____VALID_MAX (float)", 
        "    :|____VALID_MIN (float)", 
        "|____Pfs_geod_Height (spacepy.datamodel.dmarray (289,))", 
        "    :|____DESCRIPTION (unicode [38])", 
        "    :|____FILL_VALUE (float)", 
        "    :|____LABEL (unicode [26])", 
        "    :|____NAME (unicode [15])", 
        "    :|____START_COLUMN (int)", 
        "    :|____TITLE (unicode [37])", 
        "    :|____UNITS (unicode [2])", 
        "    :|____VALID_MAX (float)", 
        "    :|____VALID_MIN (float)", 
        "|____Pfs_geod_LatLon (spacepy.datamodel.dmarray (289, 2))", 
        "    :|____DESCRIPTION (unicode [54])", 
        "    :|____DIMENSION (list [1])", 
        "    :|____ELEMENT_LABELS (list [2])", 
        "    :|____ELEMENT_NAMES (list [2])", 
        "    :|____FILL_VALUE (float)", 
        "    :|____LABEL (unicode [31])", 
        "    :|____NAME (unicode [15])", 
        "    :|____START_COLUMN (int)", 
        "    :|____TITLE (unicode [53])", 
        "    :|____UNITS (unicode [7])", 
        "    :|____VALID_MAX (float)", 
        "    :|____VALID_MIN (float)", 
        "|____Pfs_gsm (spacepy.datamodel.dmarray (289, 3))", 
        "    :|____DESCRIPTION (unicode [47])", 
        "    :|____DIMENSION (list [1])", 
        "    :|____ELEMENT_LABELS (list [3])", 
        "    :|____ELEMENT_NAMES (list [3])", 
        "    :|____FILL_VALUE (float)", 
        "    :|____LABEL (unicode [20])", 
        "    :|____NAME (unicode [7])", 
        "    :|____START_COLUMN (int)", 
        "    :|____TITLE (unicode [22])", 
        "    :|____UNITS (unicode [6])", 
        "    :|____VALID_MAX (float)", 
        "    :|____VALID_MIN (float)", 
        "|____Pmin_gsm (spacepy.datamodel.dmarray (289, 3))", 
        "    :|____DESCRIPTION (unicode [46])", 
        "    :|____DIMENSION (list [1])", 
        "    :|____ELEMENT_LABELS (list [3])", 
        "    :|____ELEMENT_NAMES (list [3])", 
        "    :|____FILL_VALUE (float)", 
        "    :|____LABEL (unicode [21])", 
        "    :|____NAME (unicode [8])", 
        "    :|____START_COLUMN (int)", 
        "    :|____TITLE (unicode [38])", 
        "    :|____UNITS (unicode [6])", 
        "|____RadiusOfCurv (spacepy.datamodel.dmarray (289,))", 
        "    :|____DESCRIPTION (unicode [52])", 
        "    :|____FILL_VALUE (float)", 
        "    :|____LABEL (unicode [34])", 
        "    :|____NAME (unicode [12])", 
        "    :|____START_COLUMN (int)", 
        "    :|____TITLE (unicode [30])", 
        "    :|____UNITS (unicode [6])", 
        "|____Rgei (spacepy.datamodel.dmarray (289, 3))", 
        "    :|____DESCRIPTION (unicode [54])", 
        "    :|____DIMENSION (list [1])", 
        "    :|____ELEMENT_LABELS (list [3])", 
        "    :|____ELEMENT_NAMES (list [3])", 
        "    :|____FILL_VALUE (float)", 
        "    :|____LABEL (unicode [15])", 
        "    :|____NAME (unicode [4])", 
        "    :|____START_COLUMN (int)", 
        "    :|____TITLE (unicode [39])", 
        "    :|____UNITS (unicode [6])", 
        "    :|____VALID_MAX (float)", 
        "    :|____VALID_MIN (float)", 
        "|____Rgeo (spacepy.datamodel.dmarray (289, 3))", 
        "    :|____DESCRIPTION (unicode [45])", 
        "    :|____DIMENSION (list [1])", 
        "    :|____ELEMENT_LABELS (list [3])", 
        "    :|____ELEMENT_NAMES (list [3])", 
        "    :|____FILL_VALUE (float)", 
        "    :|____LABEL (unicode [15])", 
        "    :|____NAME (unicode [4])", 
        "    :|____START_COLUMN (int)", 
        "    :|____TITLE (unicode [30])", 
        "    :|____UNITS (unicode [6])", 
        "    :|____VALID_MAX (float)", 
        "    :|____VALID_MIN (float)", 
        "|____Rgeod_Height (spacepy.datamodel.dmarray (289,))", 
        "    :|____DESCRIPTION (unicode [58])", 
        "    :|____FILL_VALUE (float)", 
        "    :|____LABEL (unicode [21])", 
        "    :|____NAME (unicode [12])", 
        "    :|____START_COLUMN (int)", 
        "    :|____TITLE (unicode [15])", 
        "    :|____UNITS (unicode [2])", 
        "    :|____VALID_MAX (float)", 
        "    :|____VALID_MIN (float)", 
        "|____Rgeod_LatLon (spacepy.datamodel.dmarray (289, 2))", 
        "    :|____DESCRIPTION (unicode [50])", 
        "    :|____DIMENSION (list [1])", 
        "    :|____ELEMENT_LABELS (list [2])", 
        "    :|____ELEMENT_NAMES (list [2])", 
        "    :|____FILL_VALUE (float)", 
        "    :|____LABEL (unicode [42])", 
        "    :|____NAME (unicode [12])", 
        "    :|____START_COLUMN (int)", 
        "    :|____TITLE (unicode [31])", 
        "    :|____UNITS (unicode [7])", 
        "    :|____VALID_MAX (float)", 
        "    :|____VALID_MIN (float)", 
        "|____Rgse (spacepy.datamodel.dmarray (289, 3))", 
        "    :|____DESCRIPTION (unicode [49])", 
        "    :|____DIMENSION (list [1])", 
        "    :|____ELEMENT_LABELS (list [3])", 
        "    :|____ELEMENT_NAMES (list [3])", 
        "    :|____FILL_VALUE (float)", 
        "    :|____LABEL (unicode [15])", 
        "    :|____NAME (unicode [4])", 
        "    :|____START_COLUMN (int)", 
        "    :|____TITLE (unicode [34])", 
        "    :|____UNITS (unicode [6])", 
        "    :|____VALID_MAX (float)", 
        "    :|____VALID_MIN (float)", 
        "|____Rgsm (spacepy.datamodel.dmarray (289, 3))", 
        "    :|____DESCRIPTION (unicode [55])", 
        "    :|____DIMENSION (list [1])", 
        "    :|____ELEMENT_LABELS (list [3])", 
        "    :|____ELEMENT_NAMES (list [3])", 
        "    :|____FILL_VALUE (float)", 
        "    :|____LABEL (unicode [15])", 
        "    :|____NAME (unicode [4])", 
        "    :|____START_COLUMN (int)", 
        "    :|____TITLE (unicode [40])", 
        "    :|____UNITS (unicode [6])", 
        "    :|____VALID_MAX (float)", 
        "    :|____VALID_MIN (float)", 
        "|____Rsm (spacepy.datamodel.dmarray (289, 3))", 
        "    :|____DESCRIPTION (unicode [49])", 
        "    :|____DIMENSION (list [1])", 
        "    :|____ELEMENT_LABELS (list [3])", 
        "    :|____ELEMENT_NAMES (list [3])", 
        "    :|____FILL_VALUE (float)", 
        "    :|____LABEL (unicode [15])", 
        "    :|____NAME (unicode [3])", 
        "    :|____START_COLUMN (int)", 
        "    :|____TITLE (unicode [34])", 
        "    :|____UNITS (unicode [6])", 
        "    :|____VALID_MAX (float)", 
        "    :|____VALID_MIN (float)", 
        "|____S_Bmin_to_sc (spacepy.datamodel.dmarray (289,))", 
        "    :|____DESCRIPTION (unicode [81])", 
        "    :|____FILL_VALUE (float)", 
        "    :|____LABEL (unicode [36])", 
        "    :|____NAME (unicode [12])", 
        "    :|____START_COLUMN (int)", 
        "    :|____TITLE (unicode [34])", 
        "    :|____UNITS (unicode [2])", 
        "|____S_pfs_to_Bmin (spacepy.datamodel.dmarray (289,))", 
        "    :|____DESCRIPTION (unicode [68])", 
        "    :|____FILL_VALUE (float)", 
        "    :|____LABEL (unicode [41])", 
        "    :|____NAME (unicode [13])", 
        "    :|____START_COLUMN (int)", 
        "    :|____TITLE (unicode [30])", 
        "    :|____UNITS (unicode [2])", 
        "|____S_sc_to_pfn (spacepy.datamodel.dmarray (289,))", 
        "    :|____DESCRIPTION (unicode [61])", 
        "    :|____FILL_VALUE (float)", 
        "    :|____LABEL (unicode [31])", 
        "    :|____NAME (unicode [11])", 
        "    :|____START_COLUMN (int)", 
        "    :|____TITLE (unicode [20])", 
        "    :|____UNITS (unicode [2])", 
        "|____S_sc_to_pfs (spacepy.datamodel.dmarray (289,))", 
        "    :|____DESCRIPTION (unicode [61])", 
        "    :|____FILL_VALUE (float)", 
        "    :|____LABEL (unicode [31])", 
        "    :|____NAME (unicode [11])", 
        "    :|____START_COLUMN (int)", 
        "    :|____TITLE (unicode [20])", 
        "    :|____UNITS (unicode [2])", 
        "|____S_total (spacepy.datamodel.dmarray (289,))", 
        "    :|____DESCRIPTION (unicode [43])", 
        "    :|____FILL_VALUE (float)", 
        "    :|____LABEL (unicode [28])", 
        "    :|____NAME (unicode [7])", 
        "    :|____START_COLUMN (int)", 
        "    :|____TITLE (unicode [17])", 
        "    :|____UNITS (unicode [2])", 
        "|____Sb (spacepy.datamodel.dmarray (289, 18))", 
        "    :|____DEPEND_1 (unicode [5])", 
        "    :|____DESCRIPTION (unicode [33])", 
        "    :|____DIMENSION (list [1])", 
        "    :|____ELEMENT_LABELS (list [18])", 
        "    :|____ELEMENT_NAMES (list [18])", 
        "    :|____FILL_VALUE (float)", 
        "    :|____LABEL (unicode [11])", 
        "    :|____NAME (unicode [2])", 
        "    :|____START_COLUMN (int)", 
        "    :|____TITLE (unicode [11])", 
        "    :|____UNITS (unicode [6])", 
        "|____Sb0 (spacepy.datamodel.dmarray (289,))", 
        "    :|____DESCRIPTION (unicode [85])", 
        "    :|____FILL_VALUE (float)", 
        "    :|____LABEL (unicode [14])", 
        "    :|____NAME (unicode [3])", 
        "    :|____START_COLUMN (int)", 
        "    :|____TITLE (unicode [3])", 
        "    :|____UNITS (unicode [2])", 
        "|____Tb (spacepy.datamodel.dmarray (289, 18))", 
        "    :|____DEPEND_1 (unicode [5])", 
        "    :|____DESCRIPTION (unicode [34])", 
        "    :|____DIMENSION (list [1])", 
        "    :|____ELEMENT_LABELS (list [18])", 
        "    :|____ELEMENT_NAMES (list [18])", 
        "    :|____FILL_VALUE (float)", 
        "    :|____LABEL (unicode [6])", 
        "    :|____NAME (unicode [2])", 
        "    :|____START_COLUMN (int)", 
        "    :|____TITLE (unicode [33])", 
        "    :|____UNITS (unicode [1])", 
        "|____UTC (spacepy.datamodel.dmarray (289,))", 
        "    :|____DESCRIPTION (unicode [47])", 
        "    :|____LABEL (unicode [3])", 
        "    :|____NAME (unicode [3])", 
        "    :|____START_COLUMN (int)", 
        "    :|____TITLE (unicode [3])", 
        "    :|____UNITS (unicode [5])", 
        "    :|____VALID_MAX (float)", 
        "    :|____VALID_MIN (float)", 
        "|____d2B_ds2 (spacepy.datamodel.dmarray (289,))", 
        "    :|____DESCRIPTION (unicode [80])", 
        "    :|____FILL_VALUE (float)", 
        "    :|____LABEL (unicode [39])", 
        "    :|____NAME (unicode [7])", 
        "    :|____START_COLUMN (int)", 
        "    :|____TITLE (unicode [15])", 
        "    :|____UNITS (unicode [15])"
       ]
      }
     ], 
     "prompt_number": 151
    }, 
    {
     "cell_type": "markdown", 
     "source": [
      "So let's check that the tilt angle is actually specified in degrees...", 
      "", 
      "* Note that everything here is stored in a SpaceData object or a dmarray object. We will briefly come back to these later."
     ]
    }, 
    {
     "cell_type": "code", 
     "collapsed": false, 
     "input": [
      "print(data['DipoleTiltAngle'].attrs['UNITS'])"
     ], 
     "language": "python", 
     "outputs": [
      {
       "output_type": "stream", 
       "stream": "stdout", 
       "text": [
        "Degrees"
       ]
      }
     ], 
     "prompt_number": 152
    }, 
    {
     "cell_type": "code", 
     "collapsed": true, 
     "input": [
      "import spacepy.toolbox as tb"
     ], 
     "language": "python", 
     "outputs": [], 
     "prompt_number": 153
    }, 
    {
     "cell_type": "code", 
     "collapsed": false, 
     "input": [
      "tb.pmm(data['DipoleTiltAngle'])"
     ], 
     "language": "python", 
     "outputs": [
      {
       "output_type": "pyout", 
       "prompt_number": 154, 
       "text": [
        "[[-14.3343253, 5.14875462]]"
       ]
      }
     ], 
     "prompt_number": 154
    }, 
    {
     "cell_type": "markdown", 
     "source": [
      "SpacePy's toolbox function pmm prints the maximum and minimum of the input array.", 
      "", 
      "Now let's make a conversions dictionary to make that conversion happen."
     ]
    }, 
    {
     "cell_type": "code", 
     "collapsed": true, 
     "input": [
      "import numpy as np", 
      "import dateutil.parser as dup"
     ], 
     "language": "python", 
     "outputs": [], 
     "prompt_number": 127
    }, 
    {
     "cell_type": "code", 
     "collapsed": false, 
     "input": [
      "conv_dict = {'DipoleTiltAngle': lambda x: np.deg2rad(float(x)),", 
      "             'DateTime': lambda x: dup.parse(x, ignoretz=True)}"
     ], 
     "language": "python", 
     "outputs": [], 
     "prompt_number": 155
    }, 
    {
     "cell_type": "markdown", 
     "source": [
      "We need to specify the conversion to a floating point data type as the data are strings in the file."
     ]
    }, 
    {
     "cell_type": "code", 
     "collapsed": false, 
     "input": [
      "data = dm.readJSONheadedASCII('rbspa_def_MagEphem_TS04D_20121004_v2.1.0.txt', convert=conv_dict)"
     ], 
     "language": "python", 
     "outputs": [], 
     "prompt_number": 156
    }, 
    {
     "cell_type": "markdown", 
     "source": [
      "Now we can check the tilt is in radians like we wanted.", 
      "First we'll force the array storage type to be float (when you don't know what type of data you're reading", 
      "with NumPy, it's usual to force the datatype to \"object\" which can hold strings... it can hold anything,", 
      "so if you need an array of functions, say, you can do that.)"
     ]
    }, 
    {
     "cell_type": "code", 
     "collapsed": false, 
     "input": [
      "dm.dmarray([np.deg2rad], attrs={'Description': 'An array containing a function'})"
     ], 
     "language": "python", 
     "outputs": [
      {
       "output_type": "pyout", 
       "prompt_number": 159, 
       "text": [
        "dmarray([<ufunc 'deg2rad'>], dtype=object)"
       ]
      }
     ], 
     "prompt_number": 159
    }, 
    {
     "cell_type": "markdown", 
     "source": [
      "SpacePy's datamodel contains two basic datatypes:", 
      "", 
      "* SpaceData, which is a modified dictionary.", 
      "* dmarray, which is a modified NumPy array.", 
      "", 
      "Both are modified to carry attributes, so you can combine the two to represent data and metadata stored in", 
      "hierarchical self-describing formats like HDF5 or CDF.", 
      "", 
      "Anyway, back to what we were doing."
     ]
    }, 
    {
     "cell_type": "code", 
     "collapsed": true, 
     "input": [
      "data['DipoleTiltAngle'] = data['DipoleTiltAngle'].astype(float)"
     ], 
     "language": "python", 
     "outputs": [], 
     "prompt_number": 157
    }, 
    {
     "cell_type": "code", 
     "collapsed": false, 
     "input": [
      "tb.pmm(data['DipoleTiltAngle'])"
     ], 
     "language": "python", 
     "outputs": [
      {
       "output_type": "pyout", 
       "prompt_number": 158, 
       "text": [
        "[[-0.25018117253692396, 0.08986272049626949]]"
       ]
      }
     ], 
     "prompt_number": 158
    }, 
    {
     "cell_type": "markdown", 
     "source": [
      "We should make sure we keep the metadata current..."
     ]
    }, 
    {
     "cell_type": "code", 
     "collapsed": true, 
     "input": [
      "data['DipoleTiltAngle'].attrs['UNITS'] = 'radians'"
     ], 
     "language": "python", 
     "outputs": [], 
     "prompt_number": 160
    }, 
    {
     "cell_type": "markdown", 
     "source": [
      "Now to do something with the data. I'm going to concentrate on the magnetic latitude.", 
      "The data we've loaded are at 5 minute cadence, so first we should do a boxcar average of that and get it at 30 minute cadence."
     ]
    }, 
    {
     "cell_type": "code", 
     "collapsed": true, 
     "input": [
      "import datetime as dt"
     ], 
     "language": "python", 
     "outputs": [], 
     "prompt_number": 12
    }, 
    {
     "cell_type": "code", 
     "collapsed": false, 
     "input": [
      "avdata, avtime = tb.windowMean(data['MlatFromBoverBeq'], data['DateTime'], st_time=dt.datetime(2012,10,4,0), overlap=dt.timedelta(0), winsize=dt.timedelta(minutes=30))"
     ], 
     "language": "python", 
     "outputs": [], 
     "prompt_number": 17
    }, 
    {
     "cell_type": "markdown", 
     "source": [
      "So what did that give us?"
     ]
    }, 
    {
     "cell_type": "code", 
     "collapsed": false, 
     "input": [
      "avdata[:4], avtime[:4]"
     ], 
     "language": "python", 
     "outputs": [
      {
       "output_type": "pyout", 
       "prompt_number": 18, 
       "text": [
        "([-17.456842857142856,", 
        "  -17.985885714285715,", 
        "  -18.401028571428572,", 
        "  -18.981457142857145],", 
        " [datetime.datetime(2012, 10, 4, 0, 15),", 
        "  datetime.datetime(2012, 10, 4, 0, 45),", 
        "  datetime.datetime(2012, 10, 4, 1, 15),", 
        "  datetime.datetime(2012, 10, 4, 1, 45)])"
       ]
      }
     ], 
     "prompt_number": 18
    }, 
    {
     "cell_type": "markdown", 
     "source": [
      "It's probably time to visualize some of this. The de-facto standard plotting package for Python is MatPlotLib.", 
      "The syntax (and output) will probably look eerily familar to MatLab users. This is by design."
     ]
    }, 
    {
     "cell_type": "code", 
     "collapsed": true, 
     "input": [
      "import matplotlib.pyplot as plt"
     ], 
     "language": "python", 
     "outputs": [], 
     "prompt_number": 19
    }, 
    {
     "cell_type": "code", 
     "collapsed": true, 
     "input": [
      "fig = plt.figure()"
     ], 
     "language": "python", 
     "outputs": [], 
     "prompt_number": 29
    }, 
    {
     "cell_type": "code", 
     "collapsed": true, 
     "input": [
      "ax0 = fig.add_subplot(111)"
     ], 
     "language": "python", 
     "outputs": [], 
     "prompt_number": 30
    }, 
    {
     "cell_type": "code", 
     "collapsed": false, 
     "input": [
      "ax0.plot(avtime, avdata, 'r-d')"
     ], 
     "language": "python", 
     "outputs": [
      {
       "output_type": "pyout", 
       "prompt_number": 31, 
       "text": [
        "[<matplotlib.lines.Line2D at 0x99eafac>]"
       ]
      }
     ], 
     "prompt_number": 31
    }, 
    {
     "cell_type": "code", 
     "collapsed": false, 
     "input": [
      "ax0.plot(data['DateTime'], data['MlatFromBoverBeq'], 'k--o')"
     ], 
     "language": "python", 
     "outputs": [
      {
       "output_type": "pyout", 
       "prompt_number": 32, 
       "text": [
        "[<matplotlib.lines.Line2D at 0x9a6c1cc>]"
       ]
      }
     ], 
     "prompt_number": 32
    }, 
    {
     "cell_type": "code", 
     "collapsed": true, 
     "input": [
      "plt.show()"
     ], 
     "language": "python", 
     "outputs": [], 
     "prompt_number": 33
    }, 
    {
     "cell_type": "markdown", 
     "source": [
      "Okay, that all looked good. The smoothed data preserves the mean, but we've lost the short term peaks and troughs.", 
      "If you look at the help for windowMean you'll note that you can easily do running means too (using the overlap keyword).", 
      "", 
      "Next we'll take a look at **where** RBSP-A is."
     ]
    }, 
    {
     "cell_type": "code", 
     "collapsed": false, 
     "input": [
      "import spacepy.time as spt", 
      "import spacepy.coordinates as spc", 
      "import spacepy.irbempy as ib"
     ], 
     "language": "python", 
     "outputs": [], 
     "prompt_number": 35
    }, 
    {
     "cell_type": "markdown", 
     "source": [
      "SpacePy has modules that handle time format conversion and coordinate conversion. The latter uses the IRBEM library - a FORTRAN library quite widely used in the field. At LANL we have our own C-based library to do all the jobs IRBEM does (but at high precision), and that's what produced the data in the file. Let's compare some results."
     ]
    }, 
    {
     "cell_type": "code", 
     "collapsed": true, 
     "input": [
      "ticks = spt.Ticktock(data['DateTime'][:3], 'UTC')"
     ], 
     "language": "python", 
     "outputs": [], 
     "prompt_number": 36
    }, 
    {
     "cell_type": "code", 
     "collapsed": false, 
     "input": [
      "ticks"
     ], 
     "language": "python", 
     "outputs": [
      {
       "output_type": "pyout", 
       "prompt_number": 37, 
       "text": [
        "Ticktock( [2012-10-04 00:00:00 2012-10-04 00:05:00 2012-10-04 00:10:00], dtype=UTC)"
       ]
      }
     ], 
     "prompt_number": 37
    }, 
    {
     "cell_type": "code", 
     "collapsed": true, 
     "input": [
      "loci = spc.Coords(data['Rgeo'][:3,:], 'GEO', 'car')"
     ], 
     "language": "python", 
     "outputs": [], 
     "prompt_number": 40
    }, 
    {
     "cell_type": "code", 
     "collapsed": true, 
     "input": [
      "loci.ticks = ticks"
     ], 
     "language": "python", 
     "outputs": [], 
     "prompt_number": 41
    }, 
    {
     "cell_type": "markdown", 
     "source": [
      "We'll use the IRBEM library to calculate Roederer's generalized L (aka L*). You may remember that this is inversely proportional to the 3rd adiabatic invariant ($\\Phi$)."
     ]
    }, 
    {
     "cell_type": "code", 
     "collapsed": false, 
     "input": [
      "LS90 = ib.get_Lstar(ticks, loci, 90, extMag='T05')"
     ], 
     "language": "python", 
     "outputs": [], 
     "prompt_number": 44
    }, 
    {
     "cell_type": "code", 
     "collapsed": false, 
     "input": [
      "LS90"
     ], 
     "language": "python", 
     "outputs": [
      {
       "output_type": "pyout", 
       "prompt_number": 45, 
       "text": [
        "{'Bmin': array([ 116.02411042,  115.99801328,  116.13599689]),", 
        " 'Bmirr': array([[ 172.48454832],", 
        "       [ 173.01443811],", 
        "       [ 173.77861693]]),", 
        " 'Lm': array([[ 6.22553064],", 
        "       [ 6.22699647],", 
        "       [ 6.22640562]]),", 
        " 'Lstar': array([[ 5.42743629],", 
        "       [ 5.43698251],", 
        "       [ 5.42745582]]),", 
        " 'MLT': array([ 7.02932132,  7.08495634,  7.14073245]),", 
        " 'Xj': array([[ 1.47800742],", 
        "       [ 1.49471351],", 
        "       [ 1.51242621]])}"
       ]
      }
     ], 
     "prompt_number": 45
    }, 
    {
     "cell_type": "markdown", 
     "source": [
      "Print the difference between the two Lstar series.", 
      "** Lstar here is in a 2-D array, so we need to pay attention to that.**"
     ]
    }, 
    {
     "cell_type": "code", 
     "collapsed": false, 
     "input": [
      "print(LS90['Lstar'].ravel()-data['Lstar'][:3,0])"
     ], 
     "language": "python", 
     "outputs": [
      {
       "output_type": "stream", 
       "stream": "stdout", 
       "text": [
        "[-0.04553371 -0.03791749 -0.04415418]"
       ]
      }
     ], 
     "prompt_number": 161
    }, 
    {
     "cell_type": "markdown", 
     "source": [
      "Just to prove that column 0 in the Lstar variable is for 90 degree pitch angle..."
     ]
    }, 
    {
     "cell_type": "code", 
     "collapsed": false, 
     "input": [
      "data['Lstar'].attrs"
     ], 
     "language": "python", 
     "outputs": [
      {
       "output_type": "pyout", 
       "prompt_number": 47, 
       "text": [
        "{u'DEPEND_1': u'Alpha',", 
        " u'DESCRIPTION': u'Generalized Roederer L-shell value (also known as L*).',", 
        " u'DIMENSION': [18],", 
        " u'ELEMENT_LABELS': [u'TS04D L!A*!N 90!Ao!N',", 
        "  u'TS04D L!A*!N 85!Ao!N',", 
        "  u'TS04D L!A*!N 80!Ao!N',", 
        "  u'TS04D L!A*!N 75!Ao!N',", 
        "  u'TS04D L!A*!N 70!Ao!N',", 
        "  u'TS04D L!A*!N 65!Ao!N',", 
        "  u'TS04D L!A*!N 60!Ao!N',", 
        "  u'TS04D L!A*!N 55!Ao!N',", 
        "  u'TS04D L!A*!N 50!Ao!N',", 
        "  u'TS04D L!A*!N 45!Ao!N',", 
        "  u'TS04D L!A*!N 40!Ao!N',", 
        "  u'TS04D L!A*!N 35!Ao!N',", 
        "  u'TS04D L!A*!N 30!Ao!N',", 
        "  u'TS04D L!A*!N 25!Ao!N',", 
        "  u'TS04D L!A*!N 20!Ao!N',", 
        "  u'TS04D L!A*!N 15!Ao!N',", 
        "  u'TS04D L!A*!N 10!Ao!N',", 
        "  u'L!A*!N 5!Ao!N'],", 
        " u'ELEMENT_NAMES': [u'Lstar_90',", 
        "  u'Lstar_85',", 
        "  u'Lstar_80',", 
        "  u'Lstar_75',", 
        "  u'Lstar_70',", 
        "  u'Lstar_65',", 
        "  u'Lstar_60',", 
        "  u'Lstar_55',", 
        "  u'Lstar_50',", 
        "  u'Lstar_45',", 
        "  u'Lstar_40',", 
        "  u'Lstar_35',", 
        "  u'Lstar_30',", 
        "  u'Lstar_25',", 
        "  u'Lstar_20',", 
        "  u'Lstar_15',", 
        "  u'Lstar_10',", 
        "  u'Lstar_5'],", 
        " u'FILL_VALUE': -1e+31,", 
        " u'LABEL': u'TS04D L!A*!N',", 
        " u'NAME': u'Lstar',", 
        " u'START_COLUMN': 116,", 
        " u'TITLE': u'L!A*!N',", 
        " u'UNITS': u'Dimensionless'}"
       ]
      }
     ], 
     "prompt_number": 47
    }, 
    {
     "cell_type": "markdown", 
     "source": [
      "So we'll see what IRBEM gives us if we run at the maximum precision."
     ]
    }, 
    {
     "cell_type": "code", 
     "collapsed": true, 
     "input": [
      "LS90_HQ = ib.get_Lstar(ticks, loci, 90, extMag='T05', options=[1,1,9,9,0])"
     ], 
     "language": "python", 
     "outputs": [], 
     "prompt_number": 48
    }, 
    {
     "cell_type": "code", 
     "collapsed": false, 
     "input": [
      "print(LS90_HQ['Lstar'].ravel()-data['Lstar'][:3,0])"
     ], 
     "language": "python", 
     "outputs": [
      {
       "output_type": "stream", 
       "stream": "stdout", 
       "text": [
        "[-0.02985712 -0.02994497 -0.02404014]"
       ]
      }
     ], 
     "prompt_number": 57
    }, 
    {
     "cell_type": "markdown", 
     "source": [
      "Much closer. Testing on analytic magnetic field models has shown that as IRBEM runs at higher precision the answers converge to the expected values. LanlGeoMag reproduces the expected values to near machine-precision.", 
      "", 
      "Let's check out the coordinate conversions. We already used the geographic coordinates to calculate L*. Now we'll change to GSM (Geocentric Solar Magnetospheric) coordinates and compare that to the calculated values in the file."
     ]
    }, 
    {
     "cell_type": "code", 
     "collapsed": true, 
     "input": [
      "loci_GSM = loci.convert('GSM', 'car')"
     ], 
     "language": "python", 
     "outputs": [], 
     "prompt_number": 50
    }, 
    {
     "cell_type": "code", 
     "collapsed": false, 
     "input": [
      "print(loci_GSM.data - data['Rgsm'][:3,:])"
     ], 
     "language": "python", 
     "outputs": [
      {
       "output_type": "stream", 
       "stream": "stdout", 
       "text": [
        "[[ 0.00051601  0.00021826 -0.00024754]", 
        " [ 0.00051191  0.00022256 -0.00023337]", 
        " [ 0.00050847  0.00022773 -0.00022074]]"
       ]
      }
     ], 
     "prompt_number": 58
    }, 
    {
     "cell_type": "markdown", 
     "source": [
      "I'm a bit curious to see which latitudes Van Allen Probes sampled today. Let's plot a histogram of the latitudes sampled."
     ]
    }, 
    {
     "cell_type": "code", 
     "collapsed": true, 
     "input": [
      "binwidth, nbins = tb.binHisto(data['MlatFromBoverBeq'])"
     ], 
     "language": "python", 
     "outputs": [], 
     "prompt_number": 60
    }, 
    {
     "cell_type": "code", 
     "collapsed": false, 
     "input": [
      "fig = plt.figure(1)"
     ], 
     "language": "python", 
     "outputs": [], 
     "prompt_number": 174
    }, 
    {
     "cell_type": "code", 
     "collapsed": true, 
     "input": [
      "ax = fig.add_subplot(211)"
     ], 
     "language": "python", 
     "outputs": [], 
     "prompt_number": 175
    }, 
    {
     "cell_type": "markdown", 
     "source": [
      "I'm adding a second plot window to my figure. Choosing the right number of bins can be important for interpreting histogram data. SpacePy's toolbox implements the Freedman-Diaconis method for determining the optimal number of bins. It's good for most distributions (extreme value distributions may not give great results)."
     ]
    }, 
    {
     "cell_type": "code", 
     "collapsed": true, 
     "input": [
      "ax2 = fig.add_subplot(212)"
     ], 
     "language": "python", 
     "outputs": [], 
     "prompt_number": 176
    }, 
    {
     "cell_type": "code", 
     "collapsed": false, 
     "input": [
      "ax.hist(data['MlatFromBoverBeq'])"
     ], 
     "language": "python", 
     "outputs": [
      {
       "output_type": "pyout", 
       "prompt_number": 177, 
       "text": [
        "(array([50, 17, 37, 35, 54, 61, 18,  8,  5,  4]),", 
        " array([-20.4319 , -16.20957, -11.98724,  -7.76491,  -3.54258,   0.67975,", 
        "         4.90208,   9.12441,  13.34674,  17.56907,  21.7914 ]),", 
        " <a list of 10 Patch objects>)"
       ]
      }
     ], 
     "prompt_number": 177
    }, 
    {
     "cell_type": "code", 
     "collapsed": false, 
     "input": [
      "ax2.hist(data['MlatFromBoverBeq'], bins=nbins)"
     ], 
     "language": "python", 
     "outputs": [
      {
       "output_type": "pyout", 
       "prompt_number": 178, 
       "text": [
        "(array([50,  1, 45, 29, 37, 70, 32, 11,  6,  4,  4]),", 
        " array([-20.4319    , -16.59341818, -12.75493636,  -8.91645455,", 
        "        -5.07797273,  -1.23949091,   2.59899091,   6.43747273,", 
        "        10.27595455,  14.11443636,  17.95291818,  21.7914    ]),", 
        " <a list of 11 Patch objects>)"
       ]
      }
     ], 
     "prompt_number": 178
    }, 
    {
     "cell_type": "markdown", 
     "source": [
      "We should probably pretty the plot up too. Let's get some titles and labels on there."
     ]
    }, 
    {
     "cell_type": "code", 
     "collapsed": true, 
     "input": [
      "date_str = '{0}'.format((data['DateTime'][0]).date().isoformat())"
     ], 
     "language": "python", 
     "outputs": [], 
     "prompt_number": 179
    }, 
    {
     "cell_type": "code", 
     "collapsed": false, 
     "input": [
      "fig.suptitle('Distribution of RBSP-A Magnetic Latitude on {0}'.format(date_str))"
     ], 
     "language": "python", 
     "outputs": [
      {
       "output_type": "pyout", 
       "prompt_number": 180, 
       "text": [
        "<matplotlib.text.Text at 0xb58d30c>"
       ]
      }
     ], 
     "prompt_number": 180
    }, 
    {
     "cell_type": "code", 
     "collapsed": false, 
     "input": [
      "ax.set_title('Default Bins')"
     ], 
     "language": "python", 
     "outputs": [
      {
       "output_type": "pyout", 
       "prompt_number": 181, 
       "text": [
        "<matplotlib.text.Text at 0xb71a3ec>"
       ]
      }
     ], 
     "prompt_number": 181
    }, 
    {
     "cell_type": "code", 
     "collapsed": false, 
     "input": [
      "ax2.set_title('F-D Bins')"
     ], 
     "language": "python", 
     "outputs": [
      {
       "output_type": "pyout", 
       "prompt_number": 182, 
       "text": [
        "<matplotlib.text.Text at 0xb64050c>"
       ]
      }
     ], 
     "prompt_number": 182
    }, 
    {
     "cell_type": "code", 
     "collapsed": false, 
     "input": [
      "ax2.set_xlabel('{0}'.format(data['MlatFromBoverBeq'].attrs['LABEL']))"
     ], 
     "language": "python", 
     "outputs": [
      {
       "output_type": "pyout", 
       "prompt_number": 183, 
       "text": [
        "<matplotlib.text.Text at 0xb65d7ec>"
       ]
      }
     ], 
     "prompt_number": 183
    }, 
    {
     "cell_type": "markdown", 
     "source": [
      "I want to keep this figure, so we'll save it. Publication quality PNG?"
     ]
    }, 
    {
     "cell_type": "code", 
     "collapsed": true, 
     "input": [
      "plt.savefig('MLat_plot.png', dpi=300)"
     ], 
     "language": "python", 
     "outputs": [], 
     "prompt_number": 184
    }, 
    {
     "cell_type": "markdown", 
     "source": [
      "And maybe as PDF too."
     ]
    }, 
    {
     "cell_type": "code", 
     "collapsed": true, 
     "input": [
      "plt.savefig('MLat_plot.pdf')"
     ], 
     "language": "python", 
     "outputs": [], 
     "prompt_number": 185
    }, 
    {
     "cell_type": "code", 
     "collapsed": true, 
     "input": [
      "plt.show()"
     ], 
     "language": "python", 
     "outputs": [], 
     "prompt_number": 186
    }, 
    {
     "cell_type": "markdown", 
     "source": [
      "What was the solar wind doing at this time? And how about some geomagnetic indices? Well, we could go fill in some web forms, but for a quick look we can just use SpacePy's omni module."
     ]
    }, 
    {
     "cell_type": "code", 
     "collapsed": true, 
     "input": [
      "import spacepy.omni as om"
     ], 
     "language": "python", 
     "outputs": [], 
     "prompt_number": 187
    }, 
    {
     "cell_type": "markdown", 
     "source": [
      "So let's grab the data for that day. I forget which day we were looking at, but I know where the timestamps are so we'll just use those."
     ]
    }, 
    {
     "cell_type": "code", 
     "collapsed": true, 
     "input": [
      "omnidata = om.get_omni(data['DateTime'])"
     ], 
     "language": "python", 
     "outputs": [], 
     "prompt_number": 188
    }, 
    {
     "cell_type": "code", 
     "collapsed": false, 
     "input": [
      "plt.plot(omnidata['UTC'], omnidata['velo'])"
     ], 
     "language": "python", 
     "outputs": [
      {
       "output_type": "pyout", 
       "prompt_number": 190, 
       "text": [
        "[<matplotlib.lines.Line2D at 0xb478b0c>]"
       ]
      }
     ], 
     "prompt_number": 190
    }, 
    {
     "cell_type": "code", 
     "collapsed": true, 
     "input": [
      "plt.show()"
     ], 
     "language": "python", 
     "outputs": [], 
     "prompt_number": 191
    }, 
    {
     "cell_type": "markdown", 
     "source": [
      "Wow, those timestamps are a mess! Let's fix them up with a little magic."
     ]
    }, 
    {
     "cell_type": "code", 
     "collapsed": true, 
     "input": [
      "import spacepy.plot.utils as spu"
     ], 
     "language": "python", 
     "outputs": [], 
     "prompt_number": 197
    }, 
    {
     "cell_type": "code", 
     "collapsed": false, 
     "input": [
      "plt.plot(omnidata['UTC'], omnidata['velo'])"
     ], 
     "language": "python", 
     "outputs": [
      {
       "output_type": "pyout", 
       "prompt_number": 202, 
       "text": [
        "[<matplotlib.lines.Line2D at 0xb45cfac>]"
       ]
      }
     ], 
     "prompt_number": 202
    }, 
    {
     "cell_type": "code", 
     "collapsed": true, 
     "input": [
      "messyaxis = plt.gca()"
     ], 
     "language": "python", 
     "outputs": [], 
     "prompt_number": 203
    }, 
    {
     "cell_type": "markdown", 
     "source": [
      "That's a handy thing to know. Also borrowed from MatLab, the gca (get current axis) function returns the handle for the current plot axis object."
     ]
    }, 
    {
     "cell_type": "code", 
     "collapsed": true, 
     "input": [
      "spu.applySmartTimeTicks(messyaxis, omnidata['UTC'])"
     ], 
     "language": "python", 
     "outputs": [], 
     "prompt_number": 204
    }, 
    {
     "cell_type": "markdown", 
     "source": [
      "And we should add an axis label too..."
     ]
    }, 
    {
     "cell_type": "code", 
     "collapsed": false, 
     "input": [
      "messyaxis.set_ylabel('Vsw [km s$^{-1}$]')"
     ], 
     "language": "python", 
     "outputs": [
      {
       "output_type": "pyout", 
       "prompt_number": 205, 
       "text": [
        "<matplotlib.text.Text at 0xb45cd4c>"
       ]
      }
     ], 
     "prompt_number": 205
    }, 
    {
     "cell_type": "code", 
     "collapsed": true, 
     "input": [
      "plt.show()"
     ], 
     "language": "python", 
     "outputs": [], 
     "prompt_number": 206
    }, 
    {
     "cell_type": "markdown", 
     "source": [
      "Now let's assume that we have a collaborator (or advisor) who really, really wants the smoothed magnetic latitude data in a CDF file.", 
      "", 
      "For some reason they also want the solar wind velocity on the same timebase, and the magnetopause stand-off location.", 
      "", 
      "If you've got the CDF library installed, great, otherwise assume that the mystery collaborator changed their mind and wants HDF5.", 
      "Can we do this?", 
      "", 
      "***Of course!***"
     ]
    }, 
    {
     "cell_type": "code", 
     "collapsed": true, 
     "input": [
      "import spacepy.pycdf"
     ], 
     "language": "python", 
     "outputs": [], 
     "prompt_number": 207
    }, 
    {
     "cell_type": "markdown", 
     "source": [
      "Version check."
     ]
    }, 
    {
     "cell_type": "code", 
     "collapsed": false, 
     "input": [
      "spacepy.pycdf.lib.version"
     ], 
     "language": "python", 
     "outputs": [
      {
       "output_type": "pyout", 
       "prompt_number": 208, 
       "text": [
        "(3, 4, 1, '0')"
       ]
      }
     ], 
     "prompt_number": 208
    }, 
    {
     "cell_type": "markdown", 
     "source": [
      "Remember, you can always find out what's in modules by tab-completing in the ipython interpreter.", 
      "", 
      "pycdf is great for the expert user, or for tricky jobs, but when you just want a file read or written quickly, head for the datamodel module."
     ]
    }, 
    {
     "cell_type": "code", 
     "collapsed": true, 
     "input": [
      "avSWdata, avSWtime = tb.windowMean(omnidata['velo'], omnidata['UTC'], st_time=dt.datetime(2012,10,4,0), overlap=dt.timedelta(0), winsize=dt.timedelta(minutes=30))"
     ], 
     "language": "python", 
     "outputs": [], 
     "prompt_number": 209
    }, 
    {
     "cell_type": "markdown", 
     "source": [
      "We should probably check that the timebase is the same..."
     ]
    }, 
    {
     "cell_type": "code", 
     "collapsed": false, 
     "input": [
      "avSWtime == avtime"
     ], 
     "language": "python", 
     "outputs": [
      {
       "output_type": "pyout", 
       "prompt_number": 210, 
       "text": [
        "True"
       ]
      }
     ], 
     "prompt_number": 210
    }, 
    {
     "cell_type": "markdown", 
     "source": [
      "Phew.", 
      "", 
      "Time to put everything in a data structure."
     ]
    }, 
    {
     "cell_type": "code", 
     "collapsed": true, 
     "input": [
      "out = dm.SpaceData(attrs={'Created By': 'Me'}) #Good to have traceability"
     ], 
     "language": "python", 
     "outputs": [], 
     "prompt_number": 219
    }, 
    {
     "cell_type": "code", 
     "collapsed": true, 
     "input": [
      "out['Epoch'] = dm.dmarray(avtime) #doesn't matter which we take since they're the same"
     ], 
     "language": "python", 
     "outputs": [], 
     "prompt_number": 220
    }, 
    {
     "cell_type": "code", 
     "collapsed": true, 
     "input": [
      "out['Vsw'] = dm.dmarray(avSWdata)"
     ], 
     "language": "python", 
     "outputs": [], 
     "prompt_number": 221
    }, 
    {
     "cell_type": "markdown", 
     "source": [
      "We should probably keep any metadata these variables have."
     ]
    }, 
    {
     "cell_type": "code", 
     "collapsed": true, 
     "input": [
      "out['Vsw'].attrs = dm.dmcopy(omnidata['velo'].attrs)"
     ], 
     "language": "python", 
     "outputs": [], 
     "prompt_number": 222
    }, 
    {
     "cell_type": "code", 
     "collapsed": true, 
     "input": [
      "out['MLat'] = dm.dmarray(avdata, attrs=dm.dmcopy(data['MlatFromBoverBeq'].attrs))"
     ], 
     "language": "python", 
     "outputs": [], 
     "prompt_number": 223
    }, 
    {
     "cell_type": "code", 
     "collapsed": false, 
     "input": [
      "out.tree(attrs=True)"
     ], 
     "language": "python", 
     "outputs": [
      {
       "output_type": "stream", 
       "stream": "stdout", 
       "text": [
        "+", 
        ":|____Created By", 
        "|____Epoch", 
        "|____MLat", 
        "    :|____DESCRIPTION", 
        "    :|____FILL_VALUE", 
        "    :|____LABEL", 
        "    :|____NAME", 
        "    :|____START_COLUMN", 
        "    :|____TITLE", 
        "    :|____UNITS", 
        "|____Vsw"
       ]
      }
     ], 
     "prompt_number": 224
    }, 
    {
     "cell_type": "markdown", 
     "source": [
      "We're still missing the magnetopause stand-off location."
     ]
    }, 
    {
     "cell_type": "code", 
     "collapsed": true, 
     "input": [
      "import spacepy.empiricals as emp"
     ], 
     "language": "python", 
     "outputs": [], 
     "prompt_number": 227
    }, 
    {
     "cell_type": "code", 
     "collapsed": false, 
     "input": [
      "mp_loc = emp.getMPstandoff(spt.Ticktock(avSWtime)) #most of SpacePy likes to use Ticktock to hold time"
     ], 
     "language": "python", 
     "outputs": [], 
     "prompt_number": 230
    }, 
    {
     "cell_type": "code", 
     "collapsed": true, 
     "input": [
      "out['ShueMP'] = dm.dmarray(mp_loc)"
     ], 
     "language": "python", 
     "outputs": [], 
     "prompt_number": 231
    }, 
    {
     "cell_type": "code", 
     "collapsed": false, 
     "input": [
      "dm.toCDF('DataForTheBoss.cdf', out)"
     ], 
     "language": "python", 
     "outputs": [], 
     "prompt_number": 232
    }, 
    {
     "cell_type": "markdown", 
     "source": [
      "If you have Autoplot (or if you have a functioning Java web start and launch Autoplot from their website), you should be able to view the contents of the CDF.", 
      "", 
      "So what if we're working and something goes wrong?", 
      "(Has anyone here used the fabulous but maddening gdb?)", 
      "", 
      "Let's make something go wrong.", 
      "We'll want a script to run, so copy the following into a file and save it with a .py extension.", 
      "", 
      "", 
      "----", 
      "", 
      "import itertools as it", 
      "", 
      "for player in it.product(['Brazil', 'Netherlands'], range(1,12)):", 
      "", 
      "    print(player)", 
      "", 
      "    if player > 7:", 
      "", 
      "         player**2"
     ]
    }, 
    {
     "cell_type": "code", 
     "collapsed": false, 
     "input": [
      "run -i myscript.py"
     ], 
     "language": "python", 
     "outputs": [
      {
       "ename": "TypeError", 
       "evalue": "unsupported operand type(s) for ** or pow(): 'tuple' and 'int'", 
       "output_type": "pyerr", 
       "traceback": [
        "\u001b[0;31m---------------------------------------------------------------------------\u001b[0m\n\u001b[0;31mTypeError\u001b[0m                                 Traceback (most recent call last)", 
        "\u001b[0;32m/usr/lib/python2.7/dist-packages/IPython/utils/py3compat.pyc\u001b[0m in \u001b[0;36mexecfile\u001b[0;34m(fname, *where)\u001b[0m\n\u001b[1;32m    173\u001b[0m             \u001b[0;32melse\u001b[0m\u001b[0;34m:\u001b[0m\u001b[0;34m\u001b[0m\u001b[0m\n\u001b[1;32m    174\u001b[0m                 \u001b[0mfilename\u001b[0m \u001b[0;34m=\u001b[0m \u001b[0mfname\u001b[0m\u001b[0;34m\u001b[0m\u001b[0m\n\u001b[0;32m--> 175\u001b[0;31m             \u001b[0m__builtin__\u001b[0m\u001b[0;34m.\u001b[0m\u001b[0mexecfile\u001b[0m\u001b[0;34m(\u001b[0m\u001b[0mfilename\u001b[0m\u001b[0;34m,\u001b[0m \u001b[0;34m*\u001b[0m\u001b[0mwhere\u001b[0m\u001b[0;34m)\u001b[0m\u001b[0;34m\u001b[0m\u001b[0m\n\u001b[0m", 
        "\u001b[0;32m/home/steve/python-code/myscript.py\u001b[0m in \u001b[0;36m<module>\u001b[0;34m()\u001b[0m\n\u001b[1;32m      4\u001b[0m     \u001b[0;32mprint\u001b[0m\u001b[0;34m(\u001b[0m\u001b[0mplayer\u001b[0m\u001b[0;34m)\u001b[0m\u001b[0;34m\u001b[0m\u001b[0m\n\u001b[1;32m      5\u001b[0m     \u001b[0;32mif\u001b[0m \u001b[0mplayer\u001b[0m \u001b[0;34m>\u001b[0m \u001b[0;36m7\u001b[0m\u001b[0;34m:\u001b[0m\u001b[0;34m\u001b[0m\u001b[0m\n\u001b[0;32m----> 6\u001b[0;31m         \u001b[0mplayer\u001b[0m\u001b[0;34m**\u001b[0m\u001b[0;36m2\u001b[0m\u001b[0;34m\u001b[0m\u001b[0m\n\u001b[0m", 
        "\u001b[0;31mTypeError\u001b[0m: unsupported operand type(s) for ** or pow(): 'tuple' and 'int'"
       ]
      }, 
      {
       "output_type": "stream", 
       "stream": "stdout", 
       "text": [
        "('Brazil', 1)"
       ]
      }
     ], 
     "prompt_number": 234
    }, 
    {
     "cell_type": "markdown", 
     "source": [
      "So now we have an error we can inspect what was happening...", 
      "", 
      "Run the \"magic\" command %debug", 
      "", 
      "Then try typing \"help\"."
     ]
    }
   ]
  }
 ]
}