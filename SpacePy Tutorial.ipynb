{
 "metadata": {
  "name": "",
  "signature": "sha256:6c213f525d91f38b81e7e9801327eee1e816309a9d8a2a5d7ffb6831aafa5dc6"
 },
 "nbformat": 3,
 "nbformat_minor": 0,
 "worksheets": [
  {
   "cells": [
    {
     "cell_type": "markdown",
     "metadata": {},
     "source": [
      "This is a quick tour of SpacePy/Python. It's not comprehensive by any means.\n",
      "If at any time you want to get help on anything, type the command and put a question mark at the end.\n",
      "\n",
      "(I am assuming you're running iPython. If you're just in a plain Python interpreter, please do yourself a favor and quit. Go use iPython.)"
     ]
    },
    {
     "cell_type": "code",
     "collapsed": true,
     "input": [
      "%matplotlib inline #this is some ipython magic to make the plots appear in the tutorial, just ignore it for now"
     ],
     "language": "python",
     "metadata": {},
     "outputs": [],
     "prompt_number": 1
    },
    {
     "cell_type": "code",
     "collapsed": true,
     "input": [
      "list?"
     ],
     "language": "python",
     "metadata": {},
     "outputs": [],
     "prompt_number": 2
    },
    {
     "cell_type": "markdown",
     "metadata": {},
     "source": [
      "This will work for anything in Python, including SpacePy. SpacePy also has HTML documentation.\n",
      "Launch it by importing SpacePy, then calling the help function."
     ]
    },
    {
     "cell_type": "code",
     "collapsed": false,
     "input": [
      "import spacepy\n",
      "spacepy.help()"
     ],
     "language": "python",
     "metadata": {},
     "outputs": [
      {
       "output_type": "stream",
       "stream": "stdout",
       "text": [
        "This unreleased version of SpacePy is not supported by the SpacePy team.\n"
       ]
      }
     ],
     "prompt_number": 3
    },
    {
     "cell_type": "markdown",
     "metadata": {},
     "source": [
      "That'll work on the SpacePy releases out of the box. If you pulled from SpacePy's git repository and built it yourself then\n",
      "you'll need to explicitly build the documentation on install. The warning above will also only be seen if you aren't using an official release.\n",
      "\n",
      "First let's grab some data from the web. Let's start with magnetic ephemeris data from the Van Allen Probes mission."
     ]
    },
    {
     "cell_type": "code",
     "collapsed": true,
     "input": [
      "import urllib, os\n",
      "siteurl = \"http://www.rbsp-ect.lanl.gov/data_pub/rbspa/MagEphem/def/2012\"\n",
      "filename = \"rbspa_def_MagEphem_TS04D_20121004_v2.1.0.txt\"\n",
      "urllib.urlretrieve(os.path.join(siteurl,filename), filename=filename)"
     ],
     "language": "python",
     "metadata": {},
     "outputs": [
      {
       "metadata": {},
       "output_type": "pyout",
       "prompt_number": 4,
       "text": [
        "('rbspa_def_MagEphem_TS04D_20121004_v2.1.0.txt',\n",
        " <httplib.HTTPMessage instance at 0x7f700a9435f0>)"
       ]
      }
     ],
     "prompt_number": 4
    },
    {
     "cell_type": "markdown",
     "metadata": {},
     "source": [
      "Now to do something with it. First we should open the data file in a text editor and take a look at the file.\n",
      "When that's done we'll go ahead and load it using SpacePy's \"datamodel\" module.\n",
      "This type of file is a JSON-headed ASCII file. The header contains all the metadata and is written using\n",
      "JSON - JavaScript Object Notation."
     ]
    },
    {
     "cell_type": "code",
     "collapsed": true,
     "input": [
      "import spacepy.datamodel as dm\n",
      "data = dm.readJSONheadedASCII('rbspa_def_MagEphem_TS04D_20121004_v2.1.0.txt', convert=True)"
     ],
     "language": "python",
     "metadata": {},
     "outputs": [],
     "prompt_number": 5
    },
    {
     "cell_type": "markdown",
     "metadata": {},
     "source": [
      "The \"convert\" keyword has some defaults set and will attempt to convert ISO format times to the Python\n",
      "native datetime format. You can specify your own dictionary of functions to pass in to convert data.\n",
      "We're not going to cover that, but please check out the documentation."
     ]
    },
    {
     "cell_type": "code",
     "collapsed": false,
     "input": [
      "data.tree()"
     ],
     "language": "python",
     "metadata": {},
     "outputs": [
      {
       "output_type": "stream",
       "stream": "stdout",
       "text": [
        "+\n",
        "|____Alpha\n",
        "|____ApogeePosGeod\n",
        "|____ApogeeTimes\n",
        "|____AscendingNodeTimes\n",
        "|____AscendingPosGeod\n",
        "|____Bfn_geo\n",
        "|____Bfn_gsm\n",
        "|____Bfs_geo\n",
        "|____Bfs_gsm\n",
        "|____Bm\n",
        "|____Bmin_gsm\n",
        "|____BoverBeq\n",
        "|____Bsc_gsm\n",
        "|____CDMAG_MLAT\n",
        "|____CDMAG_MLON\n",
        "|____CDMAG_MLT\n",
        "|____CDMAG_R\n",
        "|____DOY\n",
        "|____Date\n",
        "|____DateTime\n",
        "|____DipoleTiltAngle\n",
        "|____DriftShellType\n",
        "|____Dst\n",
        "|____EDMAG_MLAT\n",
        "|____EDMAG_MLON\n",
        "|____EDMAG_MLT\n",
        "|____EDMAG_R\n",
        "|____ExtModel\n",
        "|____FieldLineType\n",
        "|____GpsTime\n",
        "|____I\n",
        "|____InOut\n",
        "|____IntModel\n",
        "|____InvLat\n",
        "|____InvLat_eq\n",
        "|____JulianDate\n",
        "|____K\n",
        "|____Kappa\n",
        "|____Kp\n",
        "|____L\n",
        "|____Lm_eq\n",
        "|____Loss_Cone_Alpha_n\n",
        "|____Loss_Cone_Alpha_s\n",
        "|____Lsimple\n",
        "|____Lstar\n",
        "|____M_igrf\n",
        "|____M_ref\n",
        "|____M_used\n",
        "|____MlatFromBoverBeq\n",
        "|____OrbitNumber\n",
        "|____PerigeePosGeod\n",
        "|____PerigeeTimes\n",
        "|____Pfn_CD_MLAT\n",
        "|____Pfn_CD_MLON\n",
        "|____Pfn_CD_MLT\n",
        "|____Pfn_ED_MLAT\n",
        "|____Pfn_ED_MLON\n",
        "|____Pfn_ED_MLT\n",
        "|____Pfn_geo\n",
        "|____Pfn_geod_Height\n",
        "|____Pfn_geod_LatLon\n",
        "|____Pfn_gsm\n",
        "|____Pfs_CD_MLAT\n",
        "|____Pfs_CD_MLON\n",
        "|____Pfs_CD_MLT\n",
        "|____Pfs_ED_MLAT\n",
        "|____Pfs_ED_MLON\n",
        "|____Pfs_ED_MLT\n",
        "|____Pfs_geo\n",
        "|____Pfs_geod_Height\n",
        "|____Pfs_geod_LatLon\n",
        "|____Pfs_gsm\n",
        "|____Pmin_gsm\n",
        "|____RadiusOfCurv\n",
        "|____Rgei\n",
        "|____Rgeo\n",
        "|____Rgeod_Height\n",
        "|____Rgeod_LatLon\n",
        "|____Rgse\n",
        "|____Rgsm\n",
        "|____Rsm\n",
        "|____S_Bmin_to_sc\n",
        "|____S_pfs_to_Bmin\n",
        "|____S_sc_to_pfn\n",
        "|____S_sc_to_pfs\n",
        "|____S_total\n",
        "|____Sb\n",
        "|____Sb0\n",
        "|____Tb\n",
        "|____UTC\n",
        "|____d2B_ds2\n"
       ]
      }
     ],
     "prompt_number": 6
    },
    {
     "cell_type": "markdown",
     "metadata": {},
     "source": [
      "Each variable has associated metadata, and the \"tree\" method can display more information about that. Since thee are so many variables, let's cut it down a bit and only keep the ones we're going to explore here."
     ]
    },
    {
     "cell_type": "code",
     "collapsed": false,
     "input": [
      "allkeys = data.keys()\n",
      "keepme = ['DateTime', 'DipoleTiltAngle', 'MlatFromBoverBeq', 'Rgeo']\n",
      "for key in allkeys:\n",
      "    if key not in keepme:\n",
      "        del data[key]\n",
      "    else:\n",
      "        pass #does nothing - often used as a placeholder of to make the flow of code easier to read"
     ],
     "language": "python",
     "metadata": {},
     "outputs": [],
     "prompt_number": 7
    },
    {
     "cell_type": "code",
     "collapsed": false,
     "input": [
      "data.tree(attrs=True, verbose=True)"
     ],
     "language": "python",
     "metadata": {},
     "outputs": [
      {
       "output_type": "stream",
       "stream": "stdout",
       "text": [
        "+\n",
        "|____DateTime (spacepy.datamodel.dmarray (289,))\n",
        "    :|____DESCRIPTION (unicode [47])\n",
        "    :|____LABEL (unicode [4])\n",
        "    :|____NAME (unicode [11])\n",
        "    :|____START_COLUMN (int)\n",
        "    :|____TITLE (unicode [12])\n",
        "    :|____UNITS (unicode [3])\n",
        "|____DipoleTiltAngle (spacepy.datamodel.dmarray (289,))\n",
        "    :|____DESCRIPTION (unicode [73])\n",
        "    :|____LABEL (unicode [27])\n",
        "    :|____NAME (unicode [15])\n",
        "    :|____START_COLUMN (int)\n",
        "    :|____TITLE (unicode [17])\n",
        "    :|____UNITS (unicode [7])\n",
        "|____MlatFromBoverBeq (spacepy.datamodel.dmarray (289,))\n",
        "    :|____DESCRIPTION (unicode [49])\n",
        "    :|____FILL_VALUE (float)\n",
        "    :|____LABEL (unicode [32])\n",
        "    :|____NAME (unicode [16])\n",
        "    :|____START_COLUMN (int)\n",
        "    :|____TITLE (unicode [16])\n",
        "    :|____UNITS (unicode [7])\n",
        "|____Rgeo (spacepy.datamodel.dmarray (289, 3))\n",
        "    :|____DESCRIPTION (unicode [45])\n",
        "    :|____DIMENSION (list [1])\n",
        "    :|____ELEMENT_LABELS (list [3])\n",
        "    :|____ELEMENT_NAMES (list [3])\n",
        "    :|____FILL_VALUE (float)\n",
        "    :|____LABEL (unicode [15])\n",
        "    :|____NAME (unicode [4])\n",
        "    :|____START_COLUMN (int)\n",
        "    :|____TITLE (unicode [30])\n",
        "    :|____UNITS (unicode [6])\n",
        "    :|____VALID_MAX (float)\n",
        "    :|____VALID_MIN (float)\n"
       ]
      }
     ],
     "prompt_number": 8
    },
    {
     "cell_type": "markdown",
     "metadata": {},
     "source": [
      "Assume that we want tilt angle in radians... is it already? How would we know?\n",
      "\n",
      "So let's check that the tilt angle is actually specified in degrees...\n",
      "\n",
      "* Note that everything here is stored in a SpaceData object or a dmarray object. We will briefly come back to these later."
     ]
    },
    {
     "cell_type": "code",
     "collapsed": false,
     "input": [
      "print(data['DipoleTiltAngle'].attrs['UNITS'])"
     ],
     "language": "python",
     "metadata": {},
     "outputs": [
      {
       "output_type": "stream",
       "stream": "stdout",
       "text": [
        "Degrees\n"
       ]
      }
     ],
     "prompt_number": 12
    },
    {
     "cell_type": "code",
     "collapsed": true,
     "input": [
      "import spacepy.toolbox as tb\n",
      "tb.pmm(data['DipoleTiltAngle'])"
     ],
     "language": "python",
     "metadata": {},
     "outputs": [
      {
       "metadata": {},
       "output_type": "pyout",
       "prompt_number": 13,
       "text": [
        "[[-14.3343253, 5.14875462]]"
       ]
      }
     ],
     "prompt_number": 13
    },
    {
     "cell_type": "markdown",
     "metadata": {},
     "source": [
      "SpacePy's toolbox function pmm prints the maximum and minimum of the input array. That's a decent sanity check on the values, since the metadata might not be trustworthy!\n",
      "\n",
      "Let's use numpy to convert the tilt angle to radians, then remember to update the metadata!"
     ]
    },
    {
     "cell_type": "code",
     "collapsed": true,
     "input": [
      "import numpy as np\n",
      "data['DipoleTiltAngle'][...] = np.deg2rad(data['DipoleTiltAngle'])\n",
      "data['DipoleTiltAngle'].attrs['UNITS'] = 'radians'"
     ],
     "language": "python",
     "metadata": {},
     "outputs": [],
     "prompt_number": 14
    },
    {
     "cell_type": "markdown",
     "metadata": {},
     "source": [
      "Note that we have a dictionary called \"attrs\" on our array of data!\n",
      "\n",
      "SpacePy's datamodel contains two basic datatypes:\n",
      "\n",
      "* SpaceData, which is a modified dictionary.\n",
      "* dmarray, which is a modified NumPy array.\n",
      "\n",
      "Both are modified to carry attributes, so you can combine the two to represent data and metadata stored in\n",
      "hierarchical self-describing formats like HDF5 or CDF.\n",
      "\n",
      "Anyway, back to what we were doing."
     ]
    },
    {
     "cell_type": "code",
     "collapsed": true,
     "input": [
      "tb.pmm(data['DipoleTiltAngle'])"
     ],
     "language": "python",
     "metadata": {},
     "outputs": [
      {
       "metadata": {},
       "output_type": "pyout",
       "prompt_number": 17,
       "text": [
        "[[-0.25018117253692396, 0.08986272049626949]]"
       ]
      }
     ],
     "prompt_number": 17
    },
    {
     "cell_type": "markdown",
     "metadata": {},
     "source": [
      "Now to do something with the data. I'm going to concentrate on the magnetic latitude.\n",
      "The data we've loaded are at 5 minute cadence, so first we should do a boxcar average of that and get it at 30 minute cadence. This is made simple with SpacePy's toolbox."
     ]
    },
    {
     "cell_type": "code",
     "collapsed": true,
     "input": [
      "import datetime as dt"
     ],
     "language": "python",
     "metadata": {},
     "outputs": [],
     "prompt_number": 18
    },
    {
     "cell_type": "code",
     "collapsed": false,
     "input": [
      "values, tt = data['MlatFromBoverBeq'], data['DateTime']\n",
      "starttime, overlap, winsize = dt.datetime(2012,10,4,0), dt.timedelta(0), dt.timedelta(minutes=30)\n",
      "avdata, avtime = tb.windowMean(values, tt, st_time=starttime, overlap=overlap, winsize=winsize)"
     ],
     "language": "python",
     "metadata": {},
     "outputs": [],
     "prompt_number": 19
    },
    {
     "cell_type": "markdown",
     "metadata": {},
     "source": [
      "So what did that give us?"
     ]
    },
    {
     "cell_type": "code",
     "collapsed": false,
     "input": [
      "avdata[:4], avtime[:4]"
     ],
     "language": "python",
     "metadata": {},
     "outputs": [
      {
       "metadata": {},
       "output_type": "pyout",
       "prompt_number": 20,
       "text": [
        "([-17.456842857142856,\n",
        "  -17.985885714285711,\n",
        "  -18.401028571428572,\n",
        "  -18.981457142857145],\n",
        " [datetime.datetime(2012, 10, 4, 0, 15),\n",
        "  datetime.datetime(2012, 10, 4, 0, 45),\n",
        "  datetime.datetime(2012, 10, 4, 1, 15),\n",
        "  datetime.datetime(2012, 10, 4, 1, 45)])"
       ]
      }
     ],
     "prompt_number": 20
    },
    {
     "cell_type": "markdown",
     "metadata": {},
     "source": [
      "It's probably time to visualize some of this. The de-facto standard plotting package for Python is MatPlotLib.\n",
      "The syntax (and output) will probably look eerily familar to MatLab users. This is by design."
     ]
    },
    {
     "cell_type": "code",
     "collapsed": true,
     "input": [
      "import matplotlib.pyplot as plt   # <---- If I hadn't done magic near the top, I'd need this to import plotting functions"
     ],
     "language": "python",
     "metadata": {},
     "outputs": [],
     "prompt_number": 21
    },
    {
     "cell_type": "code",
     "collapsed": true,
     "input": [
      "fig = plt.figure()\n",
      "ax0 = fig.add_subplot(111)\n",
      "ax0.plot(avtime, avdata, 'r-d')\n",
      "ax0.plot(data['DateTime'], data['MlatFromBoverBeq'], 'k--o')"
     ],
     "language": "python",
     "metadata": {},
     "outputs": [
      {
       "metadata": {},
       "output_type": "pyout",
       "prompt_number": 24,
       "text": [
        "[<matplotlib.lines.Line2D at 0x7f7009e2a150>]"
       ]
      },
      {
       "metadata": {},
       "output_type": "display_data",
       "png": "[encoded data removed]",
       "text": [
        "<matplotlib.figure.Figure at 0x7f700a1f4350>"
       ]
      }
     ],
     "prompt_number": 24
    },
    {
     "cell_type": "code",
     "collapsed": true,
     "input": [
      "#plt.show() #<--- and for those you you following along, to display the figure you might need this command\n",
      "#so that figures are always shown, and don't interrupt the console, use plt.ion()"
     ],
     "language": "python",
     "metadata": {},
     "outputs": [],
     "prompt_number": 25
    },
    {
     "cell_type": "markdown",
     "metadata": {},
     "source": [
      "Okay, that all looked good. The smoothed data preserves the mean, but we've lost the short term peaks and troughs.\n",
      "If you look at the help for windowMean you'll note that you can easily do running means too (using the overlap keyword).\n",
      "\n",
      "Next we'll take a look at **where** RBSP-A is."
     ]
    },
    {
     "cell_type": "code",
     "collapsed": false,
     "input": [
      "import spacepy.time as spt\n",
      "import spacepy.coordinates as spc\n",
      "import spacepy.irbempy as ib"
     ],
     "language": "python",
     "metadata": {},
     "outputs": [],
     "prompt_number": 26
    },
    {
     "cell_type": "markdown",
     "metadata": {},
     "source": [
      "SpacePy has modules that handle time format conversion and coordinate conversion. The latter uses the IRBEM library - a FORTRAN library quite widely used in the field. At LANL we have our own C-based library to do all the jobs IRBEM does (but at high precision), and that's what produced the data in the file. Let's compare some results."
     ]
    },
    {
     "cell_type": "code",
     "collapsed": true,
     "input": [
      "ticks = spt.Ticktock(data['DateTime'][:3], 'UTC')\n",
      "ticks"
     ],
     "language": "python",
     "metadata": {},
     "outputs": [
      {
       "metadata": {},
       "output_type": "pyout",
       "prompt_number": 27,
       "text": [
        "Ticktock( [datetime.datetime(2012, 10, 4, 0, 0) datetime.datetime(2012, 10, 4, 0, 5)\n",
        " datetime.datetime(2012, 10, 4, 0, 10)], dtype=UTC)"
       ]
      }
     ],
     "prompt_number": 27
    },
    {
     "cell_type": "markdown",
     "metadata": {},
     "source": [
      "To illustrate the sort of time system conversion available, we can print the first value out in several systems."
     ]
    },
    {
     "cell_type": "code",
     "collapsed": false,
     "input": [
      "print('Original time was {0}\\n\\nGPS time = {1}\\nJulian day = {2}\\n')"
     ],
     "language": "python",
     "metadata": {},
     "outputs": []
    },
    {
     "cell_type": "code",
     "collapsed": true,
     "input": [
      "loci = spc.Coords(data['Rgeo'][:3,:], 'GEO', 'car')"
     ],
     "language": "python",
     "metadata": {},
     "outputs": [],
     "prompt_number": 40
    },
    {
     "cell_type": "code",
     "collapsed": true,
     "input": [
      "loci.ticks = ticks"
     ],
     "language": "python",
     "metadata": {},
     "outputs": [],
     "prompt_number": 41
    },
    {
     "cell_type": "markdown",
     "metadata": {},
     "source": [
      "We'll use the IRBEM library to calculate Roederer's generalized L (aka L*). You may remember that this is inversely proportional to the 3rd adiabatic invariant ($\\Phi$)."
     ]
    },
    {
     "cell_type": "code",
     "collapsed": false,
     "input": [
      "LS90 = ib.get_Lstar(ticks, loci, 90, extMag='T05')"
     ],
     "language": "python",
     "metadata": {},
     "outputs": [],
     "prompt_number": 44
    },
    {
     "cell_type": "code",
     "collapsed": false,
     "input": [
      "LS90"
     ],
     "language": "python",
     "metadata": {},
     "outputs": [
      {
       "metadata": {},
       "output_type": "pyout",
       "prompt_number": 45,
       "text": [
        "{'Bmin': array([ 116.02411042,  115.99801328,  116.13599689]),\n",
        " 'Bmirr': array([[ 172.48454832],\n",
        "       [ 173.01443811],\n",
        "       [ 173.77861693]]),\n",
        " 'Lm': array([[ 6.22553064],\n",
        "       [ 6.22699647],\n",
        "       [ 6.22640562]]),\n",
        " 'Lstar': array([[ 5.42743629],\n",
        "       [ 5.43698251],\n",
        "       [ 5.42745582]]),\n",
        " 'MLT': array([ 7.02932132,  7.08495634,  7.14073245]),\n",
        " 'Xj': array([[ 1.47800742],\n",
        "       [ 1.49471351],\n",
        "       [ 1.51242621]])}"
       ]
      }
     ],
     "prompt_number": 45
    },
    {
     "cell_type": "markdown",
     "metadata": {},
     "source": [
      "Print the difference between the two Lstar series.\n",
      "** Lstar here is in a 2-D array, so we need to pay attention to that.**"
     ]
    },
    {
     "cell_type": "code",
     "collapsed": false,
     "input": [
      "print(LS90['Lstar'].ravel()-data['Lstar'][:3,0])"
     ],
     "language": "python",
     "metadata": {},
     "outputs": [
      {
       "output_type": "stream",
       "stream": "stdout",
       "text": [
        "[-0.04553371 -0.03791749 -0.04415418]"
       ]
      }
     ],
     "prompt_number": 161
    },
    {
     "cell_type": "markdown",
     "metadata": {},
     "source": [
      "Just to prove that column 0 in the Lstar variable is for 90 degree pitch angle..."
     ]
    },
    {
     "cell_type": "code",
     "collapsed": false,
     "input": [
      "data['Lstar'].attrs"
     ],
     "language": "python",
     "metadata": {},
     "outputs": [
      {
       "metadata": {},
       "output_type": "pyout",
       "prompt_number": 47,
       "text": [
        "{u'DEPEND_1': u'Alpha',\n",
        " u'DESCRIPTION': u'Generalized Roederer L-shell value (also known as L*).',\n",
        " u'DIMENSION': [18],\n",
        " u'ELEMENT_LABELS': [u'TS04D L!A*!N 90!Ao!N',\n",
        "  u'TS04D L!A*!N 85!Ao!N',\n",
        "  u'TS04D L!A*!N 80!Ao!N',\n",
        "  u'TS04D L!A*!N 75!Ao!N',\n",
        "  u'TS04D L!A*!N 70!Ao!N',\n",
        "  u'TS04D L!A*!N 65!Ao!N',\n",
        "  u'TS04D L!A*!N 60!Ao!N',\n",
        "  u'TS04D L!A*!N 55!Ao!N',\n",
        "  u'TS04D L!A*!N 50!Ao!N',\n",
        "  u'TS04D L!A*!N 45!Ao!N',\n",
        "  u'TS04D L!A*!N 40!Ao!N',\n",
        "  u'TS04D L!A*!N 35!Ao!N',\n",
        "  u'TS04D L!A*!N 30!Ao!N',\n",
        "  u'TS04D L!A*!N 25!Ao!N',\n",
        "  u'TS04D L!A*!N 20!Ao!N',\n",
        "  u'TS04D L!A*!N 15!Ao!N',\n",
        "  u'TS04D L!A*!N 10!Ao!N',\n",
        "  u'L!A*!N 5!Ao!N'],\n",
        " u'ELEMENT_NAMES': [u'Lstar_90',\n",
        "  u'Lstar_85',\n",
        "  u'Lstar_80',\n",
        "  u'Lstar_75',\n",
        "  u'Lstar_70',\n",
        "  u'Lstar_65',\n",
        "  u'Lstar_60',\n",
        "  u'Lstar_55',\n",
        "  u'Lstar_50',\n",
        "  u'Lstar_45',\n",
        "  u'Lstar_40',\n",
        "  u'Lstar_35',\n",
        "  u'Lstar_30',\n",
        "  u'Lstar_25',\n",
        "  u'Lstar_20',\n",
        "  u'Lstar_15',\n",
        "  u'Lstar_10',\n",
        "  u'Lstar_5'],\n",
        " u'FILL_VALUE': -1e+31,\n",
        " u'LABEL': u'TS04D L!A*!N',\n",
        " u'NAME': u'Lstar',\n",
        " u'START_COLUMN': 116,\n",
        " u'TITLE': u'L!A*!N',\n",
        " u'UNITS': u'Dimensionless'}"
       ]
      }
     ],
     "prompt_number": 47
    },
    {
     "cell_type": "markdown",
     "metadata": {},
     "source": [
      "So we'll see what IRBEM gives us if we run at the maximum precision."
     ]
    },
    {
     "cell_type": "code",
     "collapsed": true,
     "input": [
      "LS90_HQ = ib.get_Lstar(ticks, loci, 90, extMag='T05', options=[1,1,9,9,0])"
     ],
     "language": "python",
     "metadata": {},
     "outputs": [],
     "prompt_number": 48
    },
    {
     "cell_type": "code",
     "collapsed": false,
     "input": [
      "print(LS90_HQ['Lstar'].ravel()-data['Lstar'][:3,0])"
     ],
     "language": "python",
     "metadata": {},
     "outputs": [
      {
       "output_type": "stream",
       "stream": "stdout",
       "text": [
        "[-0.02985712 -0.02994497 -0.02404014]"
       ]
      }
     ],
     "prompt_number": 57
    },
    {
     "cell_type": "markdown",
     "metadata": {},
     "source": [
      "Much closer. Testing on analytic magnetic field models has shown that as IRBEM runs at higher precision the answers converge to the expected values. LanlGeoMag reproduces the expected values to near machine-precision.\n",
      "\n",
      "Let's check out the coordinate conversions. We already used the geographic coordinates to calculate L*. Now we'll change to GSM (Geocentric Solar Magnetospheric) coordinates and compare that to the calculated values in the file."
     ]
    },
    {
     "cell_type": "code",
     "collapsed": true,
     "input": [
      "loci_GSM = loci.convert('GSM', 'car')"
     ],
     "language": "python",
     "metadata": {},
     "outputs": [],
     "prompt_number": 50
    },
    {
     "cell_type": "code",
     "collapsed": false,
     "input": [
      "print(loci_GSM.data - data['Rgsm'][:3,:])"
     ],
     "language": "python",
     "metadata": {},
     "outputs": [
      {
       "output_type": "stream",
       "stream": "stdout",
       "text": [
        "[[ 0.00051601  0.00021826 -0.00024754]\n",
        " [ 0.00051191  0.00022256 -0.00023337]\n",
        " [ 0.00050847  0.00022773 -0.00022074]]"
       ]
      }
     ],
     "prompt_number": 58
    },
    {
     "cell_type": "markdown",
     "metadata": {},
     "source": [
      "I'm a bit curious to see which latitudes Van Allen Probes sampled today. Let's plot a histogram of the latitudes sampled."
     ]
    },
    {
     "cell_type": "code",
     "collapsed": true,
     "input": [
      "binwidth, nbins = tb.binHisto(data['MlatFromBoverBeq'])"
     ],
     "language": "python",
     "metadata": {},
     "outputs": [],
     "prompt_number": 60
    },
    {
     "cell_type": "code",
     "collapsed": false,
     "input": [
      "fig = plt.figure(1)"
     ],
     "language": "python",
     "metadata": {},
     "outputs": [],
     "prompt_number": 174
    },
    {
     "cell_type": "code",
     "collapsed": true,
     "input": [
      "ax = fig.add_subplot(211)"
     ],
     "language": "python",
     "metadata": {},
     "outputs": [],
     "prompt_number": 175
    },
    {
     "cell_type": "markdown",
     "metadata": {},
     "source": [
      "I'm adding a second plot window to my figure. Choosing the right number of bins can be important for interpreting histogram data. SpacePy's toolbox implements the Freedman-Diaconis method for determining the optimal number of bins. It's good for most distributions (extreme value distributions may not give great results)."
     ]
    },
    {
     "cell_type": "code",
     "collapsed": true,
     "input": [
      "ax2 = fig.add_subplot(212)"
     ],
     "language": "python",
     "metadata": {},
     "outputs": [],
     "prompt_number": 176
    },
    {
     "cell_type": "code",
     "collapsed": false,
     "input": [
      "ax.hist(data['MlatFromBoverBeq'])"
     ],
     "language": "python",
     "metadata": {},
     "outputs": [
      {
       "metadata": {},
       "output_type": "pyout",
       "prompt_number": 177,
       "text": [
        "(array([50, 17, 37, 35, 54, 61, 18,  8,  5,  4]),\n",
        " array([-20.4319 , -16.20957, -11.98724,  -7.76491,  -3.54258,   0.67975,\n",
        "         4.90208,   9.12441,  13.34674,  17.56907,  21.7914 ]),\n",
        " <a list of 10 Patch objects>)"
       ]
      }
     ],
     "prompt_number": 177
    },
    {
     "cell_type": "code",
     "collapsed": false,
     "input": [
      "ax2.hist(data['MlatFromBoverBeq'], bins=nbins)"
     ],
     "language": "python",
     "metadata": {},
     "outputs": [
      {
       "metadata": {},
       "output_type": "pyout",
       "prompt_number": 178,
       "text": [
        "(array([50,  1, 45, 29, 37, 70, 32, 11,  6,  4,  4]),\n",
        " array([-20.4319    , -16.59341818, -12.75493636,  -8.91645455,\n",
        "        -5.07797273,  -1.23949091,   2.59899091,   6.43747273,\n",
        "        10.27595455,  14.11443636,  17.95291818,  21.7914    ]),\n",
        " <a list of 11 Patch objects>)"
       ]
      }
     ],
     "prompt_number": 178
    },
    {
     "cell_type": "markdown",
     "metadata": {},
     "source": [
      "We should probably pretty the plot up too. Let's get some titles and labels on there."
     ]
    },
    {
     "cell_type": "code",
     "collapsed": true,
     "input": [
      "date_str = '{0}'.format((data['DateTime'][0]).date().isoformat())"
     ],
     "language": "python",
     "metadata": {},
     "outputs": [],
     "prompt_number": 179
    },
    {
     "cell_type": "code",
     "collapsed": false,
     "input": [
      "fig.suptitle('Distribution of RBSP-A Magnetic Latitude on {0}'.format(date_str))"
     ],
     "language": "python",
     "metadata": {},
     "outputs": [
      {
       "metadata": {},
       "output_type": "pyout",
       "prompt_number": 180,
       "text": [
        "<matplotlib.text.Text at 0xb58d30c>"
       ]
      }
     ],
     "prompt_number": 180
    },
    {
     "cell_type": "code",
     "collapsed": false,
     "input": [
      "ax.set_title('Default Bins')"
     ],
     "language": "python",
     "metadata": {},
     "outputs": [
      {
       "metadata": {},
       "output_type": "pyout",
       "prompt_number": 181,
       "text": [
        "<matplotlib.text.Text at 0xb71a3ec>"
       ]
      }
     ],
     "prompt_number": 181
    },
    {
     "cell_type": "code",
     "collapsed": false,
     "input": [
      "ax2.set_title('F-D Bins')"
     ],
     "language": "python",
     "metadata": {},
     "outputs": [
      {
       "metadata": {},
       "output_type": "pyout",
       "prompt_number": 182,
       "text": [
        "<matplotlib.text.Text at 0xb64050c>"
       ]
      }
     ],
     "prompt_number": 182
    },
    {
     "cell_type": "code",
     "collapsed": false,
     "input": [
      "ax2.set_xlabel('{0}'.format(data['MlatFromBoverBeq'].attrs['LABEL']))"
     ],
     "language": "python",
     "metadata": {},
     "outputs": [
      {
       "metadata": {},
       "output_type": "pyout",
       "prompt_number": 183,
       "text": [
        "<matplotlib.text.Text at 0xb65d7ec>"
       ]
      }
     ],
     "prompt_number": 183
    },
    {
     "cell_type": "markdown",
     "metadata": {},
     "source": [
      "I want to keep this figure, so we'll save it. Publication quality PNG?"
     ]
    },
    {
     "cell_type": "code",
     "collapsed": true,
     "input": [
      "plt.savefig('MLat_plot.png', dpi=300)"
     ],
     "language": "python",
     "metadata": {},
     "outputs": [],
     "prompt_number": 184
    },
    {
     "cell_type": "markdown",
     "metadata": {},
     "source": [
      "And maybe as PDF too."
     ]
    },
    {
     "cell_type": "code",
     "collapsed": true,
     "input": [
      "plt.savefig('MLat_plot.pdf')"
     ],
     "language": "python",
     "metadata": {},
     "outputs": [],
     "prompt_number": 185
    },
    {
     "cell_type": "code",
     "collapsed": true,
     "input": [
      "plt.show()"
     ],
     "language": "python",
     "metadata": {},
     "outputs": [],
     "prompt_number": 186
    },
    {
     "cell_type": "markdown",
     "metadata": {},
     "source": [
      "What was the solar wind doing at this time? And how about some geomagnetic indices? Well, we could go fill in some web forms, but for a quick look we can just use SpacePy's omni module."
     ]
    },
    {
     "cell_type": "code",
     "collapsed": true,
     "input": [
      "import spacepy.omni as om"
     ],
     "language": "python",
     "metadata": {},
     "outputs": [],
     "prompt_number": 187
    },
    {
     "cell_type": "markdown",
     "metadata": {},
     "source": [
      "So let's grab the data for that day. I forget which day we were looking at, but I know where the timestamps are so we'll just use those."
     ]
    },
    {
     "cell_type": "code",
     "collapsed": true,
     "input": [
      "omnidata = om.get_omni(data['DateTime'])"
     ],
     "language": "python",
     "metadata": {},
     "outputs": [],
     "prompt_number": 188
    },
    {
     "cell_type": "code",
     "collapsed": false,
     "input": [
      "plt.plot(omnidata['UTC'], omnidata['velo'])"
     ],
     "language": "python",
     "metadata": {},
     "outputs": [
      {
       "metadata": {},
       "output_type": "pyout",
       "prompt_number": 190,
       "text": [
        "[<matplotlib.lines.Line2D at 0xb478b0c>]"
       ]
      }
     ],
     "prompt_number": 190
    },
    {
     "cell_type": "code",
     "collapsed": true,
     "input": [
      "plt.show()"
     ],
     "language": "python",
     "metadata": {},
     "outputs": [],
     "prompt_number": 191
    },
    {
     "cell_type": "markdown",
     "metadata": {},
     "source": [
      "Wow, those timestamps are a mess! Let's fix them up with a little magic."
     ]
    },
    {
     "cell_type": "code",
     "collapsed": true,
     "input": [
      "import spacepy.plot.utils as spu"
     ],
     "language": "python",
     "metadata": {},
     "outputs": [],
     "prompt_number": 197
    },
    {
     "cell_type": "code",
     "collapsed": false,
     "input": [
      "plt.plot(omnidata['UTC'], omnidata['velo'])"
     ],
     "language": "python",
     "metadata": {},
     "outputs": [
      {
       "metadata": {},
       "output_type": "pyout",
       "prompt_number": 202,
       "text": [
        "[<matplotlib.lines.Line2D at 0xb45cfac>]"
       ]
      }
     ],
     "prompt_number": 202
    },
    {
     "cell_type": "code",
     "collapsed": true,
     "input": [
      "messyaxis = plt.gca()"
     ],
     "language": "python",
     "metadata": {},
     "outputs": [],
     "prompt_number": 203
    },
    {
     "cell_type": "markdown",
     "metadata": {},
     "source": [
      "That's a handy thing to know. Also borrowed from MatLab, the gca (get current axis) function returns the handle for the current plot axis object."
     ]
    },
    {
     "cell_type": "code",
     "collapsed": true,
     "input": [
      "spu.applySmartTimeTicks(messyaxis, omnidata['UTC'])"
     ],
     "language": "python",
     "metadata": {},
     "outputs": [],
     "prompt_number": 204
    },
    {
     "cell_type": "markdown",
     "metadata": {},
     "source": [
      "And we should add an axis label too..."
     ]
    },
    {
     "cell_type": "code",
     "collapsed": false,
     "input": [
      "messyaxis.set_ylabel('Vsw [km s$^{-1}$]')"
     ],
     "language": "python",
     "metadata": {},
     "outputs": [
      {
       "metadata": {},
       "output_type": "pyout",
       "prompt_number": 205,
       "text": [
        "<matplotlib.text.Text at 0xb45cd4c>"
       ]
      }
     ],
     "prompt_number": 205
    },
    {
     "cell_type": "code",
     "collapsed": true,
     "input": [
      "plt.show()"
     ],
     "language": "python",
     "metadata": {},
     "outputs": [],
     "prompt_number": 206
    },
    {
     "cell_type": "markdown",
     "metadata": {},
     "source": [
      "Now let's assume that we have a collaborator (or advisor) who really, really wants the smoothed magnetic latitude data in a CDF file.\n",
      "\n",
      "For some reason they also want the solar wind velocity on the same timebase, and the magnetopause stand-off location.\n",
      "\n",
      "***THE OMNI MODULE, BY DEFAULT, WORKS WITH HOURLY DATA. IT WILL INTERPOLATE HOURLY DATA TO WHATEVER TIMES YOU ASK FOR.***\n",
      "It's totally possible to use higher time resolution data with the omni module, but I'm not going to cover it here. Let me know if you want to know about that.\n",
      "\n",
      "If you've got the CDF library installed, great, otherwise assume that the mystery collaborator changed their mind and wants HDF5.\n",
      "Can we do this?\n",
      "\n",
      "***Of course!***"
     ]
    },
    {
     "cell_type": "code",
     "collapsed": true,
     "input": [
      "import spacepy.pycdf"
     ],
     "language": "python",
     "metadata": {},
     "outputs": [],
     "prompt_number": 207
    },
    {
     "cell_type": "markdown",
     "metadata": {},
     "source": [
      "Version check."
     ]
    },
    {
     "cell_type": "code",
     "collapsed": false,
     "input": [
      "spacepy.pycdf.lib.version"
     ],
     "language": "python",
     "metadata": {},
     "outputs": [
      {
       "metadata": {},
       "output_type": "pyout",
       "prompt_number": 208,
       "text": [
        "(3, 4, 1, '0')"
       ]
      }
     ],
     "prompt_number": 208
    },
    {
     "cell_type": "markdown",
     "metadata": {},
     "source": [
      "Remember, you can always find out what's in modules by tab-completing in the ipython interpreter.\n",
      "\n",
      "pycdf is great for the expert user, or for tricky jobs, but when you just want a file read or written quickly, head for the datamodel module."
     ]
    },
    {
     "cell_type": "code",
     "collapsed": true,
     "input": [
      "avSWdata, avSWtime = tb.windowMean(omnidata['velo'], omnidata['UTC'], st_time=dt.datetime(2012,10,4,0), overlap=dt.timedelta(0), winsize=dt.timedelta(minutes=30))"
     ],
     "language": "python",
     "metadata": {},
     "outputs": [],
     "prompt_number": 209
    },
    {
     "cell_type": "markdown",
     "metadata": {},
     "source": [
      "We should probably check that the timebase is the same..."
     ]
    },
    {
     "cell_type": "code",
     "collapsed": false,
     "input": [
      "avSWtime == avtime"
     ],
     "language": "python",
     "metadata": {},
     "outputs": [
      {
       "metadata": {},
       "output_type": "pyout",
       "prompt_number": 210,
       "text": [
        "True"
       ]
      }
     ],
     "prompt_number": 210
    },
    {
     "cell_type": "markdown",
     "metadata": {},
     "source": [
      "Phew.\n",
      "\n",
      "Time to put everything in a data structure."
     ]
    },
    {
     "cell_type": "code",
     "collapsed": true,
     "input": [
      "out = dm.SpaceData(attrs={'Created By': 'Me'}) #Good to have traceability"
     ],
     "language": "python",
     "metadata": {},
     "outputs": [],
     "prompt_number": 219
    },
    {
     "cell_type": "code",
     "collapsed": true,
     "input": [
      "out['Epoch'] = dm.dmarray(avtime) #doesn't matter which we take since they're the same"
     ],
     "language": "python",
     "metadata": {},
     "outputs": [],
     "prompt_number": 220
    },
    {
     "cell_type": "code",
     "collapsed": true,
     "input": [
      "out['Vsw'] = dm.dmarray(avSWdata)"
     ],
     "language": "python",
     "metadata": {},
     "outputs": [],
     "prompt_number": 221
    },
    {
     "cell_type": "markdown",
     "metadata": {},
     "source": [
      "We should probably keep any metadata these variables have."
     ]
    },
    {
     "cell_type": "code",
     "collapsed": true,
     "input": [
      "out['Vsw'].attrs = dm.dmcopy(omnidata['velo'].attrs)"
     ],
     "language": "python",
     "metadata": {},
     "outputs": [],
     "prompt_number": 222
    },
    {
     "cell_type": "code",
     "collapsed": true,
     "input": [
      "out['MLat'] = dm.dmarray(avdata, attrs=dm.dmcopy(data['MlatFromBoverBeq'].attrs))"
     ],
     "language": "python",
     "metadata": {},
     "outputs": [],
     "prompt_number": 223
    },
    {
     "cell_type": "code",
     "collapsed": false,
     "input": [
      "out.tree(attrs=True)"
     ],
     "language": "python",
     "metadata": {},
     "outputs": [
      {
       "output_type": "stream",
       "stream": "stdout",
       "text": [
        "+\n",
        ":|____Created By\n",
        "|____Epoch\n",
        "|____MLat\n",
        "    :|____DESCRIPTION\n",
        "    :|____FILL_VALUE\n",
        "    :|____LABEL\n",
        "    :|____NAME\n",
        "    :|____START_COLUMN\n",
        "    :|____TITLE\n",
        "    :|____UNITS\n",
        "|____Vsw"
       ]
      }
     ],
     "prompt_number": 224
    },
    {
     "cell_type": "markdown",
     "metadata": {},
     "source": [
      "We're still missing the magnetopause stand-off location."
     ]
    },
    {
     "cell_type": "code",
     "collapsed": true,
     "input": [
      "import spacepy.empiricals as emp"
     ],
     "language": "python",
     "metadata": {},
     "outputs": [],
     "prompt_number": 227
    },
    {
     "cell_type": "code",
     "collapsed": false,
     "input": [
      "mp_loc = emp.getMPstandoff(spt.Ticktock(avSWtime)) #most of SpacePy likes to use Ticktock to hold time"
     ],
     "language": "python",
     "metadata": {},
     "outputs": [],
     "prompt_number": 230
    },
    {
     "cell_type": "code",
     "collapsed": true,
     "input": [
      "out['ShueMP'] = dm.dmarray(mp_loc)"
     ],
     "language": "python",
     "metadata": {},
     "outputs": [],
     "prompt_number": 231
    },
    {
     "cell_type": "code",
     "collapsed": false,
     "input": [
      "dm.toCDF('DataForTheBoss.cdf', out)"
     ],
     "language": "python",
     "metadata": {},
     "outputs": [],
     "prompt_number": 232
    },
    {
     "cell_type": "markdown",
     "metadata": {},
     "source": [
      "If you have Autoplot (or if you have a functioning Java web start and launch Autoplot from their website), you should be able to view the contents of the CDF.\n",
      "\n",
      "So what if we're working and something goes wrong?\n",
      "(Has anyone here used the fabulous but maddening gdb?)\n",
      "\n",
      "Let's make something go wrong.\n",
      "We'll want a script to run, so copy the following into a file and save it with a .py extension.\n",
      "\n",
      "\n",
      "----\n",
      "\n",
      "import itertools as it\n",
      "\n",
      "for player in it.product(['Brazil', 'Netherlands'], range(1,12)):\n",
      "\n",
      "    print(player)\n",
      "\n",
      "    if player > 7:\n",
      "\n",
      "         player**2"
     ]
    },
    {
     "cell_type": "code",
     "collapsed": false,
     "input": [
      "run -i myscript.py"
     ],
     "language": "python",
     "metadata": {},
     "outputs": [
      {
       "ename": "TypeError",
       "evalue": "unsupported operand type(s) for ** or pow(): 'tuple' and 'int'",
       "output_type": "pyerr",
       "traceback": [
        "\u001b[0;31m---------------------------------------------------------------------------\u001b[0m\n\u001b[0;31mTypeError\u001b[0m                                 Traceback (most recent call last)",
        "\u001b[0;32m/usr/lib/python2.7/dist-packages/IPython/utils/py3compat.pyc\u001b[0m in \u001b[0;36mexecfile\u001b[0;34m(fname, *where)\u001b[0m\n\u001b[1;32m    173\u001b[0m             \u001b[0;32melse\u001b[0m\u001b[0;34m:\u001b[0m\u001b[0;34m\u001b[0m\u001b[0m\n\u001b[1;32m    174\u001b[0m                 \u001b[0mfilename\u001b[0m \u001b[0;34m=\u001b[0m \u001b[0mfname\u001b[0m\u001b[0;34m\u001b[0m\u001b[0m\n\u001b[0;32m--> 175\u001b[0;31m             \u001b[0m__builtin__\u001b[0m\u001b[0;34m.\u001b[0m\u001b[0mexecfile\u001b[0m\u001b[0;34m(\u001b[0m\u001b[0mfilename\u001b[0m\u001b[0;34m,\u001b[0m \u001b[0;34m*\u001b[0m\u001b[0mwhere\u001b[0m\u001b[0;34m)\u001b[0m\u001b[0;34m\u001b[0m\u001b[0m\n\u001b[0m",
        "\u001b[0;32m/home/steve/python-code/myscript.py\u001b[0m in \u001b[0;36m<module>\u001b[0;34m()\u001b[0m\n\u001b[1;32m      4\u001b[0m     \u001b[0;32mprint\u001b[0m\u001b[0;34m(\u001b[0m\u001b[0mplayer\u001b[0m\u001b[0;34m)\u001b[0m\u001b[0;34m\u001b[0m\u001b[0m\n\u001b[1;32m      5\u001b[0m     \u001b[0;32mif\u001b[0m \u001b[0mplayer\u001b[0m \u001b[0;34m>\u001b[0m \u001b[0;36m7\u001b[0m\u001b[0;34m:\u001b[0m\u001b[0;34m\u001b[0m\u001b[0m\n\u001b[0;32m----> 6\u001b[0;31m         \u001b[0mplayer\u001b[0m\u001b[0;34m**\u001b[0m\u001b[0;36m2\u001b[0m\u001b[0;34m\u001b[0m\u001b[0m\n\u001b[0m",
        "\u001b[0;31mTypeError\u001b[0m: unsupported operand type(s) for ** or pow(): 'tuple' and 'int'"
       ]
      },
      {
       "output_type": "stream",
       "stream": "stdout",
       "text": [
        "('Brazil', 1)"
       ]
      }
     ],
     "prompt_number": 234
    },
    {
     "cell_type": "markdown",
     "metadata": {},
     "source": [
      "So now we have an error we can inspect what was happening...\n",
      "\n",
      "Run the \"magic\" command %debug\n",
      "\n",
      "Then try typing \"help\"."
     ]
    }
   ],
   "metadata": {}
  }
 ]
}