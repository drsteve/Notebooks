{
 "metadata": {
  "name": "",
  "signature": "sha256:ac46f62210c2006b9a705144bb1e54ea40bb30d96f33fb5efcd2dd865e604b60"
 },
 "nbformat": 3,
 "nbformat_minor": 0,
 "worksheets": [
  {
   "cells": [
    {
     "cell_type": "heading",
     "level": 1,
     "metadata": {},
     "source": [
      "A brief tour of SpacePy"
     ]
    },
    {
     "cell_type": "markdown",
     "metadata": {},
     "source": [
      "This is a quick tour of SpacePy/Python. It's not comprehensive by any means.\n",
      "If at any time you want to get help on anything, type the command and put a question mark at the end.\n",
      "\n",
      "(I am assuming you're running iPython. If you're just in a plain Python interpreter, please do yourself a favor and quit. Go use iPython.)"
     ]
    },
    {
     "cell_type": "code",
     "collapsed": true,
     "input": [
      "%matplotlib inline #this is some ipython magic to make the plots appear in the tutorial, just ignore it for now"
     ],
     "language": "python",
     "metadata": {},
     "outputs": [],
     "prompt_number": 1
    },
    {
     "cell_type": "code",
     "collapsed": true,
     "input": [
      "list?"
     ],
     "language": "python",
     "metadata": {},
     "outputs": [],
     "prompt_number": 2
    },
    {
     "cell_type": "markdown",
     "metadata": {},
     "source": [
      "This will work for anything in Python, including SpacePy. SpacePy also has HTML documentation.\n",
      "Launch it by importing SpacePy, then calling the help function."
     ]
    },
    {
     "cell_type": "code",
     "collapsed": false,
     "input": [
      "import spacepy\n",
      "spacepy.help()"
     ],
     "language": "python",
     "metadata": {},
     "outputs": [
      {
       "output_type": "stream",
       "stream": "stdout",
       "text": [
        "This unreleased version of SpacePy is not supported by the SpacePy team.\n"
       ]
      }
     ],
     "prompt_number": 3
    },
    {
     "cell_type": "markdown",
     "metadata": {},
     "source": [
      "That'll work on the SpacePy releases out of the box. If you pulled from SpacePy's git repository and built it yourself then\n",
      "you'll need to explicitly build the documentation on install. The warning above will also only be seen if you aren't using an official release - if you don't have documentation built it will raise an exception.\n",
      "\n",
      "First let's grab some data from the web. Let's start with magnetic ephemeris data from the Van Allen Probes mission."
     ]
    },
    {
     "cell_type": "code",
     "collapsed": true,
     "input": [
      "import urllib, os\n",
      "siteurl = \"http://www.rbsp-ect.lanl.gov/data_pub/rbspa/MagEphem/def/2012\"\n",
      "filename = \"rbspa_def_MagEphem_TS04D_20121004_v2.1.0.txt\"\n",
      "urllib.urlretrieve(os.path.join(siteurl,filename), filename=filename)"
     ],
     "language": "python",
     "metadata": {},
     "outputs": [
      {
       "metadata": {},
       "output_type": "pyout",
       "prompt_number": 4,
       "text": [
        "('rbspa_def_MagEphem_TS04D_20121004_v2.1.0.txt',\n",
        " <httplib.HTTPMessage instance at 0x7f700a9435f0>)"
       ]
      }
     ],
     "prompt_number": 4
    },
    {
     "cell_type": "markdown",
     "metadata": {},
     "source": [
      "Now to do something with it. First we should open the data file in a text editor and take a look at the file.\n",
      "When that's done we'll go ahead and load it using SpacePy's \"datamodel\" module.\n",
      "This type of file is a JSON-headed ASCII file. The header contains all the metadata and is written using\n",
      "JSON - JavaScript Object Notation."
     ]
    },
    {
     "cell_type": "code",
     "collapsed": true,
     "input": [
      "import spacepy.datamodel as dm\n",
      "data = dm.readJSONheadedASCII('rbspa_def_MagEphem_TS04D_20121004_v2.1.0.txt', convert=True)"
     ],
     "language": "python",
     "metadata": {},
     "outputs": [],
     "prompt_number": 91
    },
    {
     "cell_type": "markdown",
     "metadata": {},
     "source": [
      "The \"convert\" keyword has some defaults set and will attempt to convert ISO format times to the Python\n",
      "native datetime format. You can specify your own dictionary of functions to pass in to convert data.\n",
      "We're not going to cover that, but please check out the documentation."
     ]
    },
    {
     "cell_type": "code",
     "collapsed": false,
     "input": [
      "data.tree()"
     ],
     "language": "python",
     "metadata": {},
     "outputs": [
      {
       "output_type": "stream",
       "stream": "stdout",
       "text": [
        "+\n",
        "|____Alpha\n",
        "|____ApogeePosGeod\n",
        "|____ApogeeTimes\n",
        "|____AscendingNodeTimes\n",
        "|____AscendingPosGeod\n",
        "|____Bfn_geo\n",
        "|____Bfn_gsm\n",
        "|____Bfs_geo\n",
        "|____Bfs_gsm\n",
        "|____Bm\n",
        "|____Bmin_gsm\n",
        "|____BoverBeq\n",
        "|____Bsc_gsm\n",
        "|____CDMAG_MLAT\n",
        "|____CDMAG_MLON\n",
        "|____CDMAG_MLT\n",
        "|____CDMAG_R\n",
        "|____DOY\n",
        "|____Date\n",
        "|____DateTime\n",
        "|____DipoleTiltAngle\n",
        "|____DriftShellType\n",
        "|____Dst\n",
        "|____EDMAG_MLAT\n",
        "|____EDMAG_MLON\n",
        "|____EDMAG_MLT\n",
        "|____EDMAG_R\n",
        "|____ExtModel\n",
        "|____FieldLineType\n",
        "|____GpsTime\n",
        "|____I\n",
        "|____InOut\n",
        "|____IntModel\n",
        "|____InvLat\n",
        "|____InvLat_eq\n",
        "|____JulianDate\n",
        "|____K\n",
        "|____Kappa\n",
        "|____Kp\n",
        "|____L\n",
        "|____Lm_eq\n",
        "|____Loss_Cone_Alpha_n\n",
        "|____Loss_Cone_Alpha_s\n",
        "|____Lsimple\n",
        "|____Lstar\n",
        "|____M_igrf\n",
        "|____M_ref\n",
        "|____M_used\n",
        "|____MlatFromBoverBeq\n",
        "|____OrbitNumber\n",
        "|____PerigeePosGeod\n",
        "|____PerigeeTimes\n",
        "|____Pfn_CD_MLAT\n",
        "|____Pfn_CD_MLON\n",
        "|____Pfn_CD_MLT\n",
        "|____Pfn_ED_MLAT\n",
        "|____Pfn_ED_MLON\n",
        "|____Pfn_ED_MLT\n",
        "|____Pfn_geo\n",
        "|____Pfn_geod_Height\n",
        "|____Pfn_geod_LatLon\n",
        "|____Pfn_gsm\n",
        "|____Pfs_CD_MLAT\n",
        "|____Pfs_CD_MLON\n",
        "|____Pfs_CD_MLT\n",
        "|____Pfs_ED_MLAT\n",
        "|____Pfs_ED_MLON\n",
        "|____Pfs_ED_MLT\n",
        "|____Pfs_geo\n",
        "|____Pfs_geod_Height\n",
        "|____Pfs_geod_LatLon\n",
        "|____Pfs_gsm\n",
        "|____Pmin_gsm\n",
        "|____RadiusOfCurv\n",
        "|____Rgei\n",
        "|____Rgeo\n",
        "|____Rgeod_Height\n",
        "|____Rgeod_LatLon\n",
        "|____Rgse\n",
        "|____Rgsm\n",
        "|____Rsm\n",
        "|____S_Bmin_to_sc\n",
        "|____S_pfs_to_Bmin\n",
        "|____S_sc_to_pfn\n",
        "|____S_sc_to_pfs\n",
        "|____S_total\n",
        "|____Sb\n",
        "|____Sb0\n",
        "|____Tb\n",
        "|____UTC\n",
        "|____d2B_ds2\n"
       ]
      }
     ],
     "prompt_number": 92
    },
    {
     "cell_type": "markdown",
     "metadata": {},
     "source": [
      "Each variable has associated metadata, and the \"tree\" method can display more information about that. Since thee are so many variables, let's cut it down a bit and only keep the ones we're going to explore here."
     ]
    },
    {
     "cell_type": "code",
     "collapsed": false,
     "input": [
      "allkeys = data.keys()\n",
      "keepme = ['DateTime', 'DipoleTiltAngle', 'MlatFromBoverBeq', 'Rgeo', 'Rgsm', 'Lstar']\n",
      "for key in allkeys:\n",
      "    if key not in keepme:\n",
      "        del data[key]\n",
      "    else:\n",
      "        pass #does nothing - often used as a placeholder of to make the flow of code easier to read"
     ],
     "language": "python",
     "metadata": {},
     "outputs": [],
     "prompt_number": 93
    },
    {
     "cell_type": "code",
     "collapsed": false,
     "input": [
      "data.tree(attrs=True, verbose=True)"
     ],
     "language": "python",
     "metadata": {},
     "outputs": [
      {
       "output_type": "stream",
       "stream": "stdout",
       "text": [
        "+\n",
        "|____DateTime (spacepy.datamodel.dmarray (289,))\n",
        "    :|____DESCRIPTION (unicode [47])\n",
        "    :|____LABEL (unicode [4])\n",
        "    :|____NAME (unicode [11])\n",
        "    :|____START_COLUMN (int)\n",
        "    :|____TITLE (unicode [12])\n",
        "    :|____UNITS (unicode [3])\n",
        "|____DipoleTiltAngle (spacepy.datamodel.dmarray (289,))\n",
        "    :|____DESCRIPTION (unicode [73])\n",
        "    :|____LABEL (unicode [27])\n",
        "    :|____NAME (unicode [15])\n",
        "    :|____START_COLUMN (int)\n",
        "    :|____TITLE (unicode [17])\n",
        "    :|____UNITS (unicode [7])\n",
        "|____Lstar (spacepy.datamodel.dmarray (289, 18))\n",
        "    :|____DEPEND_1 (unicode [5])\n",
        "    :|____DESCRIPTION (unicode [54])\n",
        "    :|____DIMENSION (list [1])\n",
        "    :|____ELEMENT_LABELS (list [18])\n",
        "    :|____ELEMENT_NAMES (list [18])\n",
        "    :|____FILL_VALUE (float)\n",
        "    :|____LABEL (unicode [12])\n",
        "    :|____NAME (unicode [5])\n",
        "    :|____START_COLUMN (int)\n",
        "    :|____TITLE (unicode [6])\n",
        "    :|____UNITS (unicode [13])\n",
        "|____MlatFromBoverBeq (spacepy.datamodel.dmarray (289,))\n",
        "    :|____DESCRIPTION (unicode [49])\n",
        "    :|____FILL_VALUE (float)\n",
        "    :|____LABEL (unicode [32])\n",
        "    :|____NAME (unicode [16])\n",
        "    :|____START_COLUMN (int)\n",
        "    :|____TITLE (unicode [16])\n",
        "    :|____UNITS (unicode [7])\n",
        "|____Rgeo (spacepy.datamodel.dmarray (289, 3))\n",
        "    :|____DESCRIPTION (unicode [45])\n",
        "    :|____DIMENSION (list [1])\n",
        "    :|____ELEMENT_LABELS (list [3])\n",
        "    :|____ELEMENT_NAMES (list [3])\n",
        "    :|____FILL_VALUE (float)\n",
        "    :|____LABEL (unicode [15])\n",
        "    :|____NAME (unicode [4])\n",
        "    :|____START_COLUMN (int)\n",
        "    :|____TITLE (unicode [30])\n",
        "    :|____UNITS (unicode [6])\n",
        "    :|____VALID_MAX (float)\n",
        "    :|____VALID_MIN (float)\n",
        "|____Rgsm (spacepy.datamodel.dmarray (289, 3))\n",
        "    :|____DESCRIPTION (unicode [55])\n",
        "    :|____DIMENSION (list [1])\n",
        "    :|____ELEMENT_LABELS (list [3])\n",
        "    :|____ELEMENT_NAMES (list [3])\n",
        "    :|____FILL_VALUE (float)\n",
        "    :|____LABEL (unicode [15])\n",
        "    :|____NAME (unicode [4])\n",
        "    :|____START_COLUMN (int)\n",
        "    :|____TITLE (unicode [40])\n",
        "    :|____UNITS (unicode [6])\n",
        "    :|____VALID_MAX (float)\n",
        "    :|____VALID_MIN (float)\n"
       ]
      }
     ],
     "prompt_number": 94
    },
    {
     "cell_type": "markdown",
     "metadata": {},
     "source": [
      "Assume that we want tilt angle in radians... is it already? How would we know?\n",
      "\n",
      "So let's check that the tilt angle is actually specified in degrees...\n",
      "\n",
      "* Note that everything here is stored in a SpaceData object or a dmarray object. We will briefly come back to these later."
     ]
    },
    {
     "cell_type": "code",
     "collapsed": false,
     "input": [
      "print(data['DipoleTiltAngle'].attrs['UNITS'])"
     ],
     "language": "python",
     "metadata": {},
     "outputs": [
      {
       "output_type": "stream",
       "stream": "stdout",
       "text": [
        "Degrees\n"
       ]
      }
     ],
     "prompt_number": 95
    },
    {
     "cell_type": "code",
     "collapsed": true,
     "input": [
      "import spacepy.toolbox as tb\n",
      "tb.pmm(data['DipoleTiltAngle'])"
     ],
     "language": "python",
     "metadata": {},
     "outputs": [
      {
       "metadata": {},
       "output_type": "pyout",
       "prompt_number": 96,
       "text": [
        "[[-14.3343253, 5.14875462]]"
       ]
      }
     ],
     "prompt_number": 96
    },
    {
     "cell_type": "markdown",
     "metadata": {},
     "source": [
      "SpacePy's toolbox function pmm prints the maximum and minimum of the input array. That's a decent sanity check on the values, since the metadata might not be trustworthy!\n",
      "\n",
      "Let's use numpy to convert the tilt angle to radians, then remember to update the metadata!"
     ]
    },
    {
     "cell_type": "code",
     "collapsed": true,
     "input": [
      "import numpy as np\n",
      "data['DipoleTiltAngle'][...] = np.deg2rad(data['DipoleTiltAngle'])\n",
      "data['DipoleTiltAngle'].attrs['UNITS'] = 'radians'"
     ],
     "language": "python",
     "metadata": {},
     "outputs": [],
     "prompt_number": 97
    },
    {
     "cell_type": "markdown",
     "metadata": {},
     "source": [
      "Note that we have a dictionary called \"attrs\" on our array of data!\n",
      "\n",
      "SpacePy's datamodel contains two basic datatypes:\n",
      "\n",
      "* SpaceData, which is a modified dictionary.\n",
      "* dmarray, which is a modified NumPy array.\n",
      "\n",
      "Both are modified to carry attributes, so you can combine the two to represent data and metadata stored in\n",
      "hierarchical self-describing formats like HDF5 or CDF.\n",
      "\n",
      "Anyway, back to what we were doing."
     ]
    },
    {
     "cell_type": "code",
     "collapsed": true,
     "input": [
      "tb.pmm(data['DipoleTiltAngle'])"
     ],
     "language": "python",
     "metadata": {},
     "outputs": [
      {
       "metadata": {},
       "output_type": "pyout",
       "prompt_number": 98,
       "text": [
        "[[-0.25018117253692396, 0.08986272049626949]]"
       ]
      }
     ],
     "prompt_number": 98
    },
    {
     "cell_type": "markdown",
     "metadata": {},
     "source": [
      "Now to do something with the data. I'm going to concentrate on the magnetic latitude.\n",
      "The data we've loaded are at 5 minute cadence, so first we should do a boxcar average of that and get it at 30 minute cadence. This is made simple with SpacePy's toolbox."
     ]
    },
    {
     "cell_type": "code",
     "collapsed": true,
     "input": [
      "import datetime as dt"
     ],
     "language": "python",
     "metadata": {},
     "outputs": [],
     "prompt_number": 60
    },
    {
     "cell_type": "code",
     "collapsed": false,
     "input": [
      "values, tt = data['MlatFromBoverBeq'], data['DateTime']\n",
      "starttime, overlap, winsize = dt.datetime(2012,10,4,0), dt.timedelta(0), dt.timedelta(minutes=30)\n",
      "avdata, avtime = tb.windowMean(values, tt, st_time=starttime, overlap=overlap, winsize=winsize)"
     ],
     "language": "python",
     "metadata": {},
     "outputs": [],
     "prompt_number": 61
    },
    {
     "cell_type": "markdown",
     "metadata": {},
     "source": [
      "So what did that give us?"
     ]
    },
    {
     "cell_type": "code",
     "collapsed": false,
     "input": [
      "avdata[:4], avtime[:4]"
     ],
     "language": "python",
     "metadata": {},
     "outputs": [
      {
       "metadata": {},
       "output_type": "pyout",
       "prompt_number": 62,
       "text": [
        "([-17.456842857142856,\n",
        "  -17.985885714285711,\n",
        "  -18.401028571428572,\n",
        "  -18.981457142857145],\n",
        " [datetime.datetime(2012, 10, 4, 0, 15),\n",
        "  datetime.datetime(2012, 10, 4, 0, 45),\n",
        "  datetime.datetime(2012, 10, 4, 1, 15),\n",
        "  datetime.datetime(2012, 10, 4, 1, 45)])"
       ]
      }
     ],
     "prompt_number": 62
    },
    {
     "cell_type": "markdown",
     "metadata": {},
     "source": [
      "It's probably time to visualize some of this. The de-facto standard plotting package for Python is MatPlotLib.\n",
      "The syntax (and output) will probably look eerily familar to MatLab users. This is by design."
     ]
    },
    {
     "cell_type": "code",
     "collapsed": true,
     "input": [
      "import matplotlib.pyplot as plt   # <---- If I hadn't done magic near the top, I'd need this to import plotting functions"
     ],
     "language": "python",
     "metadata": {},
     "outputs": [],
     "prompt_number": 63
    },
    {
     "cell_type": "code",
     "collapsed": true,
     "input": [
      "fig = plt.figure()\n",
      "ax0 = fig.add_subplot(111)\n",
      "ax0.plot(avtime, avdata, 'r--d')\n",
      "ax0.plot(data['DateTime'], data['MlatFromBoverBeq'], 'k-')"
     ],
     "language": "python",
     "metadata": {},
     "outputs": [
      {
       "metadata": {},
       "output_type": "pyout",
       "prompt_number": 78,
       "text": [
        "[<matplotlib.lines.Line2D at 0x7f7004ece450>]"
       ]
      },
      {
       "metadata": {},
       "output_type": "display_data",
       "png": "[encoded data removed]",
       "text": [
        "<matplotlib.figure.Figure at 0x7f70052bfb10>"
       ]
      }
     ],
     "prompt_number": 78
    },
    {
     "cell_type": "code",
     "collapsed": true,
     "input": [
      "#plt.show() #<--- and for those you you following along, to display the figure you might need this command\n",
      "#so that figures are always shown, and don't interrupt the console, use plt.ion()"
     ],
     "language": "python",
     "metadata": {},
     "outputs": [],
     "prompt_number": 79
    },
    {
     "cell_type": "markdown",
     "metadata": {},
     "source": [
      "Okay, that all looked good. The smoothed data preserves the mean, but we've lost the short term peaks and troughs.\n",
      "If you look at the help for windowMean you'll note that you can easily do running means too (using the overlap keyword).\n",
      "\n",
      "Next we'll take a look at **where** RBSP-A is."
     ]
    },
    {
     "cell_type": "code",
     "collapsed": false,
     "input": [
      "import spacepy.time as spt\n",
      "import spacepy.coordinates as spc\n",
      "import spacepy.irbempy as ib"
     ],
     "language": "python",
     "metadata": {},
     "outputs": [],
     "prompt_number": 80
    },
    {
     "cell_type": "markdown",
     "metadata": {},
     "source": [
      "SpacePy has modules that handle time format conversion and coordinate conversion. The latter uses the IRBEM library - a FORTRAN library quite widely used in the field. At LANL we have our own C-based library to do all the jobs IRBEM does (but at high precision), and that's what produced the data in the file. Let's compare some results."
     ]
    },
    {
     "cell_type": "code",
     "collapsed": true,
     "input": [
      "ticks = spt.Ticktock(data['DateTime'][:3], 'UTC')\n",
      "ticks"
     ],
     "language": "python",
     "metadata": {},
     "outputs": [
      {
       "metadata": {},
       "output_type": "pyout",
       "prompt_number": 81,
       "text": [
        "Ticktock( [datetime.datetime(2012, 10, 4, 0, 0) datetime.datetime(2012, 10, 4, 0, 5)\n",
        " datetime.datetime(2012, 10, 4, 0, 10)], dtype=UTC)"
       ]
      }
     ],
     "prompt_number": 81
    },
    {
     "cell_type": "markdown",
     "metadata": {},
     "source": [
      "To illustrate the sort of time system conversion available, we can print the first value out in several systems."
     ]
    },
    {
     "cell_type": "code",
     "collapsed": false,
     "input": [
      "print('Original time was {0}\\n\\nGPS time = {1}\\nJulian day = {2}\\nISO8601 format = {3}'\n",
      "      .format(ticks[0].data, ticks[0].GPS, ticks[0].JD, ticks[0].ISO))"
     ],
     "language": "python",
     "metadata": {},
     "outputs": [
      {
       "output_type": "stream",
       "stream": "stdout",
       "text": [
        "Original time was [datetime.datetime(2012, 10, 4, 0, 0)]\n",
        "\n",
        "GPS time = [  1.03334402e+09]\n",
        "Julian day = [ 2456204.5]\n",
        "ISO8601 format = ['2012-10-04T00:00:00']\n"
       ]
      }
     ],
     "prompt_number": 82
    },
    {
     "cell_type": "markdown",
     "metadata": {},
     "source": [
      "Let's get back on track and look at the ephemeris for this satellite in geocentric Cartesian coordinates"
     ]
    },
    {
     "cell_type": "code",
     "collapsed": true,
     "input": [
      "loci = spc.Coords(data['Rgeo'][:3,:], 'GEO', 'car')\n",
      "loci.ticks = ticks"
     ],
     "language": "python",
     "metadata": {},
     "outputs": [],
     "prompt_number": 83
    },
    {
     "cell_type": "markdown",
     "metadata": {},
     "source": [
      "We'll use the IRBEM library to calculate Roederer's generalized L (aka L*). You may remember that this is inversely proportional to the 3rd adiabatic invariant ($\\Phi$)."
     ]
    },
    {
     "cell_type": "code",
     "collapsed": false,
     "input": [
      "LS90 = ib.get_Lstar(ticks, loci, 90, extMag='T05')\n",
      "LS90"
     ],
     "language": "python",
     "metadata": {},
     "outputs": [
      {
       "metadata": {},
       "output_type": "pyout",
       "prompt_number": 84,
       "text": [
        "{'Bmin': array([ 116.02411042,  115.99801328,  116.13599689]),\n",
        " 'Bmirr': array([[ 172.48454832],\n",
        "        [ 173.01443811],\n",
        "        [ 173.77861693]]),\n",
        " 'Lm': array([[ 6.22553064],\n",
        "        [ 6.22699647],\n",
        "        [ 6.22640562]]),\n",
        " 'Lstar': array([[ 5.42743629],\n",
        "        [ 5.43698251],\n",
        "        [ 5.42745582]]),\n",
        " 'MLT': array([ 7.02932132,  7.08495634,  7.14073245]),\n",
        " 'Xj': array([[ 1.47800742],\n",
        "        [ 1.49471351],\n",
        "        [ 1.51242621]])}"
       ]
      }
     ],
     "prompt_number": 84
    },
    {
     "cell_type": "markdown",
     "metadata": {},
     "source": [
      "Print the difference between the two Lstar series.\n",
      "** Lstar data from the ephemeris file is in a 2-D array, so we need to pay attention to that.**"
     ]
    },
    {
     "cell_type": "code",
     "collapsed": false,
     "input": [
      "print(LS90['Lstar'].ravel()-data['Lstar'][:3,0]) #ravel flattens the array into a 1D row vector"
     ],
     "language": "python",
     "metadata": {},
     "outputs": [
      {
       "output_type": "stream",
       "stream": "stdout",
       "text": [
        "[-0.04553371 -0.03791749 -0.04415418]\n"
       ]
      }
     ],
     "prompt_number": 85
    },
    {
     "cell_type": "markdown",
     "metadata": {},
     "source": [
      "You can either trust this tutorial when it tells you that column 0 in the Lstar variable is for 90 degree pitch angle... or you can check yourself. There should be enough information in the variable \"attrs\" to convince yourself."
     ]
    },
    {
     "cell_type": "markdown",
     "metadata": {},
     "source": [
      "So now let's see what IRBEM gives us if we run at the maximum precision."
     ]
    },
    {
     "cell_type": "code",
     "collapsed": true,
     "input": [
      "LS90_HQ = ib.get_Lstar(ticks, loci, 90, extMag='T05', options=[1,1,9,9,0])"
     ],
     "language": "python",
     "metadata": {},
     "outputs": [],
     "prompt_number": 86
    },
    {
     "cell_type": "code",
     "collapsed": false,
     "input": [
      "print(LS90_HQ['Lstar'].ravel()-data['Lstar'][:3,0])"
     ],
     "language": "python",
     "metadata": {},
     "outputs": [
      {
       "output_type": "stream",
       "stream": "stdout",
       "text": [
        "[-0.02985712 -0.02994497 -0.02404014]\n"
       ]
      }
     ],
     "prompt_number": 87
    },
    {
     "cell_type": "markdown",
     "metadata": {},
     "source": [
      "Much closer. Testing on analytic magnetic field models has shown that as IRBEM runs at higher precision the answers converge to the expected values. LanlGeoMag reproduces the expected values to near machine-precision.\n",
      "\n",
      "Let's check out the coordinate conversions. We already used the geographic coordinates to calculate L*. Now we'll change to GSM (Geocentric Solar Magnetospheric) coordinates and compare that to the calculated values in the file."
     ]
    },
    {
     "cell_type": "code",
     "collapsed": true,
     "input": [
      "loci_GSM = loci.convert('GSM', 'car')"
     ],
     "language": "python",
     "metadata": {},
     "outputs": [],
     "prompt_number": 89
    },
    {
     "cell_type": "code",
     "collapsed": false,
     "input": [
      "print(loci_GSM.data - data['Rgsm'][:3,:])"
     ],
     "language": "python",
     "metadata": {},
     "outputs": [
      {
       "output_type": "stream",
       "stream": "stdout",
       "text": [
        "[[ 0.00051601  0.00021826 -0.00024754]\n",
        " [ 0.00051191  0.00022256 -0.00023337]\n",
        " [ 0.00050847  0.00022773 -0.00022074]]\n"
       ]
      }
     ],
     "prompt_number": 99
    },
    {
     "cell_type": "markdown",
     "metadata": {},
     "source": [
      "I'm a bit curious to see which latitudes Van Allen Probes sampled on that day. Let's plot a histogram of the latitudes sampled."
     ]
    },
    {
     "cell_type": "code",
     "collapsed": true,
     "input": [
      "binwidth, nbins = tb.binHisto(data['MlatFromBoverBeq'])"
     ],
     "language": "python",
     "metadata": {},
     "outputs": [],
     "prompt_number": 100
    },
    {
     "cell_type": "markdown",
     "metadata": {},
     "source": [
      "I'm going to have two plot windows in my figure, so I can compare different binning schemes. Choosing the right number of bins can be important for interpreting histogram data. SpacePy's toolbox implements the Freedman-Diaconis method for determining the optimal number of bins. It's good for most distributions (extreme value distributions may not give great results)."
     ]
    },
    {
     "cell_type": "code",
     "collapsed": false,
     "input": [
      "fig = plt.figure()\n",
      "ax = fig.add_subplot(211)\n",
      "ax2 = fig.add_subplot(212)\n",
      "ax.hist(data['MlatFromBoverBeq'])\n",
      "ax2.hist(data['MlatFromBoverBeq'], bins=nbins)\n",
      "#now to pretty the plot up... get it some labels, etc.\n",
      "date_str = '{0}'.format((data['DateTime'][0]).date().isoformat())\n",
      "fig.suptitle('Distribution of RBSP-A Magnetic Latitude on {0}'.format(date_str))\n",
      "ax.set_title('Default Bins')\n",
      "ax2.set_title('F-D Bins')\n",
      "ax2.set_xlabel('{0}'.format(data['MlatFromBoverBeq'].attrs['LABEL']))"
     ],
     "language": "python",
     "metadata": {},
     "outputs": [
      {
       "metadata": {},
       "output_type": "pyout",
       "prompt_number": 105,
       "text": [
        "<matplotlib.text.Text at 0x7f70048e81d0>"
       ]
      },
      {
       "metadata": {},
       "output_type": "display_data",
       "png": "[encoded data removed]",
       "text": [
        "<matplotlib.figure.Figure at 0x7f700494c810>"
       ]
      }
     ],
     "prompt_number": 105
    },
    {
     "cell_type": "markdown",
     "metadata": {},
     "source": [
      "I want to keep this figure, so we'll save it. Publication quality PNG?"
     ]
    },
    {
     "cell_type": "code",
     "collapsed": true,
     "input": [
      "plt.savefig('MLat_plot.png', dpi=300)"
     ],
     "language": "python",
     "metadata": {},
     "outputs": [
      {
       "metadata": {},
       "output_type": "display_data",
       "text": [
        "<matplotlib.figure.Figure at 0x7f70049f9250>"
       ]
      }
     ],
     "prompt_number": 106
    },
    {
     "cell_type": "markdown",
     "metadata": {},
     "source": [
      "And maybe as PDF too."
     ]
    },
    {
     "cell_type": "code",
     "collapsed": true,
     "input": [
      "plt.savefig('MLat_plot.pdf')"
     ],
     "language": "python",
     "metadata": {},
     "outputs": [
      {
       "metadata": {},
       "output_type": "display_data",
       "text": [
        "<matplotlib.figure.Figure at 0x7f7004a1f250>"
       ]
      }
     ],
     "prompt_number": 107
    },
    {
     "cell_type": "heading",
     "level": 3,
     "metadata": {},
     "source": [
      "Using the OMNI module"
     ]
    },
    {
     "cell_type": "markdown",
     "metadata": {},
     "source": [
      "What was the solar wind doing at this time? And how about some geomagnetic indices? Well, we could go fill in some web forms, but for a quick look we can just use SpacePy's omni module."
     ]
    },
    {
     "cell_type": "code",
     "collapsed": true,
     "input": [
      "import spacepy.omni as om"
     ],
     "language": "python",
     "metadata": {},
     "outputs": [],
     "prompt_number": 108
    },
    {
     "cell_type": "markdown",
     "metadata": {},
     "source": [
      "So let's grab the data for that day. I forget which day we were looking at, but I know where the timestamps are so we'll just use those."
     ]
    },
    {
     "cell_type": "code",
     "collapsed": true,
     "input": [
      "omnidata = om.get_omni(data['DateTime'])\n",
      "plt.plot(omnidata['UTC'], omnidata['velo'])"
     ],
     "language": "python",
     "metadata": {},
     "outputs": [
      {
       "metadata": {},
       "output_type": "pyout",
       "prompt_number": 109,
       "text": [
        "[<matplotlib.lines.Line2D at 0x7f7004757810>]"
       ]
      },
      {
       "metadata": {},
       "output_type": "display_data",
       "png": "[encoded data removed]",
       "text": [
        "<matplotlib.figure.Figure at 0x7f70049f9c90>"
       ]
      }
     ],
     "prompt_number": 109
    },
    {
     "cell_type": "markdown",
     "metadata": {},
     "source": [
      "Wow, those timestamps are a mess! Let's fix them up with a little magic."
     ]
    },
    {
     "cell_type": "code",
     "collapsed": false,
     "input": [
      "import spacepy.plot.utils as spu\n",
      "plt.plot(omnidata['UTC'], omnidata['velo'])\n",
      "messyaxis = plt.gca() #borrowed from MatLab, the gca (get current axis) function returns the handle for the current plot axis\n",
      "spu.applySmartTimeTicks(messyaxis, omnidata['UTC'])\n",
      "\n",
      "#and add an axis label...\n",
      "messyaxis.set_ylabel('Vsw [km s$^{-1}$]')"
     ],
     "language": "python",
     "metadata": {},
     "outputs": [
      {
       "metadata": {},
       "output_type": "pyout",
       "prompt_number": 110,
       "text": [
        "<matplotlib.text.Text at 0x7f7004475bd0>"
       ]
      },
      {
       "metadata": {},
       "output_type": "display_data",
       "png": "[encoded data removed]",
       "text": [
        "<matplotlib.figure.Figure at 0x7f700475d550>"
       ]
      }
     ],
     "prompt_number": 110
    },
    {
     "cell_type": "markdown",
     "metadata": {},
     "source": [
      "Now let's assume that we have a collaborator (or advisor) who really, really wants the smoothed magnetic latitude data in a CDF file.\n",
      "\n",
      "For some reason they also want the solar wind velocity on the same timebase, and the magnetopause stand-off location.\n",
      "\n",
      "***THE OMNI MODULE, BY DEFAULT, WORKS WITH HOURLY DATA. IT WILL INTERPOLATE HOURLY DATA TO WHATEVER TIMES YOU ASK FOR.***\n",
      "It's totally possible to use higher time resolution data with the omni module, but I'm not going to cover it here. Let me know if you want to know about that.\n",
      "\n",
      "If you've got the CDF library installed, great, otherwise assume that the mystery collaborator changed their mind and wants HDF5.\n",
      "Can we do this?\n",
      "\n",
      "***Of course!***"
     ]
    },
    {
     "cell_type": "code",
     "collapsed": true,
     "input": [
      "import spacepy.pycdf"
     ],
     "language": "python",
     "metadata": {},
     "outputs": [],
     "prompt_number": 111
    },
    {
     "cell_type": "markdown",
     "metadata": {},
     "source": [
      "Version check."
     ]
    },
    {
     "cell_type": "code",
     "collapsed": false,
     "input": [
      "spacepy.pycdf.lib.version"
     ],
     "language": "python",
     "metadata": {},
     "outputs": [
      {
       "metadata": {},
       "output_type": "pyout",
       "prompt_number": 112,
       "text": [
        "(3, 6, 0, '3')"
       ]
      }
     ],
     "prompt_number": 112
    },
    {
     "cell_type": "markdown",
     "metadata": {},
     "source": [
      "Remember, you can always find out what's in modules by tab-completing in the ipython interpreter.\n",
      "\n",
      "pycdf is great for the expert user, or for tricky jobs, but when you just want a file read or written quickly, head for the datamodel module."
     ]
    },
    {
     "cell_type": "code",
     "collapsed": true,
     "input": [
      "avSWdata, avSWtime = tb.windowMean(omnidata['velo'], omnidata['UTC'], st_time=dt.datetime(2012,10,4,0), overlap=dt.timedelta(0), winsize=dt.timedelta(minutes=30))"
     ],
     "language": "python",
     "metadata": {},
     "outputs": [],
     "prompt_number": 113
    },
    {
     "cell_type": "markdown",
     "metadata": {},
     "source": [
      "We should probably check that the timebase is the same..."
     ]
    },
    {
     "cell_type": "code",
     "collapsed": false,
     "input": [
      "avSWtime == avtime"
     ],
     "language": "python",
     "metadata": {},
     "outputs": [
      {
       "metadata": {},
       "output_type": "pyout",
       "prompt_number": 114,
       "text": [
        "True"
       ]
      }
     ],
     "prompt_number": 114
    },
    {
     "cell_type": "markdown",
     "metadata": {},
     "source": [
      "Phew.\n",
      "\n",
      "Time to put everything in a data structure."
     ]
    },
    {
     "cell_type": "code",
     "collapsed": true,
     "input": [
      "out = dm.SpaceData(attrs={'Created By': 'Me'}) #Good to have traceability\n",
      "out['Epoch'] = dm.dmarray(avtime) #doesn't matter which we take since they're the same\n",
      "out['Vsw'] = dm.dmarray(avSWdata)"
     ],
     "language": "python",
     "metadata": {},
     "outputs": [],
     "prompt_number": 115
    },
    {
     "cell_type": "markdown",
     "metadata": {},
     "source": [
      "We should probably keep any metadata these variables have."
     ]
    },
    {
     "cell_type": "code",
     "collapsed": true,
     "input": [
      "out['Vsw'].attrs = dm.dmcopy(omnidata['velo'].attrs)\n",
      "out['MLat'] = dm.dmarray(avdata, attrs=dm.dmcopy(data['MlatFromBoverBeq'].attrs))\n",
      "out.tree(attrs=True)"
     ],
     "language": "python",
     "metadata": {},
     "outputs": [
      {
       "output_type": "stream",
       "stream": "stdout",
       "text": [
        "+\n",
        ":|____Created By\n",
        "|____Epoch\n",
        "|____MLat\n",
        "    :|____DESCRIPTION\n",
        "    :|____FILL_VALUE\n",
        "    :|____LABEL\n",
        "    :|____NAME\n",
        "    :|____START_COLUMN\n",
        "    :|____TITLE\n",
        "    :|____UNITS\n",
        "|____Vsw\n"
       ]
      }
     ],
     "prompt_number": 116
    },
    {
     "cell_type": "markdown",
     "metadata": {},
     "source": [
      "We're still missing the magnetopause stand-off location."
     ]
    },
    {
     "cell_type": "code",
     "collapsed": true,
     "input": [
      "import spacepy.empiricals as emp\n",
      "mp_loc = emp.getMPstandoff(spt.Ticktock(avSWtime)) #most of SpacePy likes to use Ticktock to hold time\n",
      "out['ShueMP'] = dm.dmarray(mp_loc)"
     ],
     "language": "python",
     "metadata": {},
     "outputs": [],
     "prompt_number": 117
    },
    {
     "cell_type": "markdown",
     "metadata": {},
     "source": [
      "Let's quickly plot this up before we save it to a file..."
     ]
    },
    {
     "cell_type": "code",
     "collapsed": false,
     "input": [
      "plt.plot(out['ShueMP'])"
     ],
     "language": "python",
     "metadata": {},
     "outputs": [
      {
       "metadata": {},
       "output_type": "pyout",
       "prompt_number": 118,
       "text": [
        "[<matplotlib.lines.Line2D at 0x7f700418ff50>]"
       ]
      },
      {
       "metadata": {},
       "output_type": "display_data",
       "png": "[encoded data removed]",
       "text": [
        "<matplotlib.figure.Figure at 0x7f70042a0f90>"
       ]
      }
     ],
     "prompt_number": 118
    },
    {
     "cell_type": "code",
     "collapsed": false,
     "input": [
      "dm.toCDF('DataForTheBoss.cdf', out)"
     ],
     "language": "python",
     "metadata": {},
     "outputs": [],
     "prompt_number": 119
    },
    {
     "cell_type": "markdown",
     "metadata": {},
     "source": [
      "If you have Autoplot (or if you have a functioning Java web start and launch Autoplot from their website), you should be able to view the contents of the CDF. Or you can use the CDF command line utilities to inspect the file."
     ]
    }
   ],
   "metadata": {}
  }
 ]
}