{
 "metadata": {
  "name": "",
  "signature": "sha256:62cca2159770dce1420a8574a5e33447d2ce55e9c8b53e6384eb3b7ed8695037"
 },
 "nbformat": 3,
 "nbformat_minor": 0,
 "worksheets": [
  {
   "cells": [
    {
     "cell_type": "heading",
     "level": 1,
     "metadata": {},
     "source": [
      "An introduction to Python programming"
     ]
    },
    {
     "cell_type": "markdown",
     "metadata": {},
     "source": [
      "Let's start in the traditional place when exploring a programming language..."
     ]
    },
    {
     "cell_type": "heading",
     "level": 3,
     "metadata": {},
     "source": [
      "How do we display something on the screen?"
     ]
    },
    {
     "cell_type": "code",
     "collapsed": false,
     "input": [
      "print('Hello world!')"
     ],
     "language": "python",
     "metadata": {},
     "outputs": [
      {
       "output_type": "stream",
       "stream": "stdout",
       "text": [
        "Hello world!\n"
       ]
      }
     ],
     "prompt_number": 19
    },
    {
     "cell_type": "markdown",
     "metadata": {},
     "source": [
      "To print to screen we pass a string argument into the print function.\n",
      "We'll deal with functions shortly, but first a little more on strings..."
     ]
    },
    {
     "cell_type": "code",
     "collapsed": false,
     "input": [
      "mystring = 'Hello world!'"
     ],
     "language": "python",
     "metadata": {},
     "outputs": [],
     "prompt_number": 20
    },
    {
     "cell_type": "code",
     "collapsed": false,
     "input": [
      "print(mystring)"
     ],
     "language": "python",
     "metadata": {},
     "outputs": [
      {
       "output_type": "stream",
       "stream": "stdout",
       "text": [
        "Hello world!\n"
       ]
      }
     ],
     "prompt_number": 21
    },
    {
     "cell_type": "markdown",
     "metadata": {},
     "source": [
      "Great! It still works when I assign the string to a variable.\n",
      "\n",
      "Of course, I might have a problem if I want to use an apostrophe in my string"
     ]
    },
    {
     "cell_type": "code",
     "collapsed": false,
     "input": [
      "print('It's a fine day')"
     ],
     "language": "python",
     "metadata": {},
     "outputs": [
      {
       "ename": "SyntaxError",
       "evalue": "invalid syntax (<ipython-input-22-d7c8eb705546>, line 1)",
       "output_type": "pyerr",
       "traceback": [
        "\u001b[0;36m  File \u001b[0;32m\"<ipython-input-22-d7c8eb705546>\"\u001b[0;36m, line \u001b[0;32m1\u001b[0m\n\u001b[0;31m    print('It's a fine day')\u001b[0m\n\u001b[0m              ^\u001b[0m\n\u001b[0;31mSyntaxError\u001b[0m\u001b[0;31m:\u001b[0m invalid syntax\n"
       ]
      }
     ],
     "prompt_number": 22
    },
    {
     "cell_type": "markdown",
     "metadata": {},
     "source": [
      "We can use various quote types, single ('), double (\") or triple ('''); each quote type has different preferred uses but they are largely interchangeable."
     ]
    },
    {
     "cell_type": "code",
     "collapsed": false,
     "input": [
      "print(\"It's a fine day\")"
     ],
     "language": "python",
     "metadata": {},
     "outputs": [
      {
       "output_type": "stream",
       "stream": "stdout",
       "text": [
        "It's a fine day\n"
       ]
      }
     ],
     "prompt_number": 23
    },
    {
     "cell_type": "code",
     "collapsed": false,
     "input": [
      "print('''It's a fine day''')"
     ],
     "language": "python",
     "metadata": {},
     "outputs": [
      {
       "output_type": "stream",
       "stream": "stdout",
       "text": [
        "It's a fine day\n"
       ]
      }
     ],
     "prompt_number": 24
    },
    {
     "cell_type": "markdown",
     "metadata": {},
     "source": [
      "Alternatively, I can \"escape\" the apostrophe, since it's a special character"
     ]
    },
    {
     "cell_type": "code",
     "collapsed": false,
     "input": [
      "print('It\\'s a fine day')"
     ],
     "language": "python",
     "metadata": {},
     "outputs": [
      {
       "output_type": "stream",
       "stream": "stdout",
       "text": [
        "It's a fine day\n"
       ]
      }
     ],
     "prompt_number": 25
    },
    {
     "cell_type": "heading",
     "level": 2,
     "metadata": {},
     "source": [
      "Variable Assignment, Types and Basic Operations"
     ]
    },
    {
     "cell_type": "markdown",
     "metadata": {},
     "source": [
      "In Python, variables are \"dynamically typed\". Basically, variables do not need to be pre-declared or have their types declared. Variable names are case-sensitive in Python. Assignment is performed using the equals sign."
     ]
    },
    {
     "cell_type": "code",
     "collapsed": false,
     "input": [
      "counter = 0"
     ],
     "language": "python",
     "metadata": {},
     "outputs": [],
     "prompt_number": 26
    },
    {
     "cell_type": "code",
     "collapsed": false,
     "input": [
      "miles, name = 1000.0, 'bob' #the hash mark denotes a comment, and this line also illustrates multiple assignments"
     ],
     "language": "python",
     "metadata": {},
     "outputs": [],
     "prompt_number": 27
    },
    {
     "cell_type": "code",
     "collapsed": false,
     "input": [
      "kilometres = miles*1.609"
     ],
     "language": "python",
     "metadata": {},
     "outputs": [],
     "prompt_number": 28
    },
    {
     "cell_type": "code",
     "collapsed": false,
     "input": [
      "print('{0} miles is equal to {1} kilometres'.format(miles, kilometres))"
     ],
     "language": "python",
     "metadata": {},
     "outputs": [
      {
       "output_type": "stream",
       "stream": "stdout",
       "text": [
        "1000.0 miles is equal to 1609.0 kilometres\n"
       ]
      }
     ],
     "prompt_number": 29
    },
    {
     "cell_type": "markdown",
     "metadata": {},
     "source": [
      "To see how types are \"promoted\" when necessary..."
     ]
    },
    {
     "cell_type": "code",
     "collapsed": false,
     "input": [
      "counter += 1 #this is equivalent to counter = counter + 1\n",
      "print(counter, counter*2.4, type(counter), type(counter*2.4))"
     ],
     "language": "python",
     "metadata": {},
     "outputs": [
      {
       "output_type": "stream",
       "stream": "stdout",
       "text": [
        "(1, 2.4, <type 'int'>, <type 'float'>)\n"
       ]
      }
     ],
     "prompt_number": 30
    },
    {
     "cell_type": "markdown",
     "metadata": {},
     "source": [
      "'counter' was initially typed as an integer, when multiplied by a floating point number it became a float itself.\n",
      "NB: Python floats are always double precision."
     ]
    },
    {
     "cell_type": "heading",
     "level": 4,
     "metadata": {},
     "source": [
      "Lists"
     ]
    },
    {
     "cell_type": "code",
     "collapsed": false,
     "input": [
      "mylist = [1,2,'three',4.0] #lists can contain any type, or mix of types\n",
      "print(mylist[0]) #indexing in Python starts from zero"
     ],
     "language": "python",
     "metadata": {},
     "outputs": [
      {
       "output_type": "stream",
       "stream": "stdout",
       "text": [
        "1\n"
       ]
      }
     ],
     "prompt_number": 31
    },
    {
     "cell_type": "code",
     "collapsed": false,
     "input": [
      "mylist[2] #in the Python and iPython interpreter, the print function isn't required..."
     ],
     "language": "python",
     "metadata": {},
     "outputs": [
      {
       "metadata": {},
       "output_type": "pyout",
       "prompt_number": 32,
       "text": [
        "'three'"
       ]
      }
     ],
     "prompt_number": 32
    },
    {
     "cell_type": "markdown",
     "metadata": {},
     "source": [
      "Python also has negative indexing - the last index is numbered -1."
     ]
    },
    {
     "cell_type": "code",
     "collapsed": false,
     "input": [
      "mylist[-1], mylist[-2]"
     ],
     "language": "python",
     "metadata": {},
     "outputs": [
      {
       "metadata": {},
       "output_type": "pyout",
       "prompt_number": 33,
       "text": [
        "(4.0, 'three')"
       ]
      }
     ],
     "prompt_number": 33
    },
    {
     "cell_type": "markdown",
     "metadata": {},
     "source": [
      "And then there's \"slicing\" ..."
     ]
    },
    {
     "cell_type": "code",
     "collapsed": false,
     "input": [
      "print(mylist[0:3]) #this slice is exclusive, i.e. [0,3)"
     ],
     "language": "python",
     "metadata": {},
     "outputs": [
      {
       "output_type": "stream",
       "stream": "stdout",
       "text": [
        "[1, 2, 'three']\n"
       ]
      }
     ],
     "prompt_number": 34
    },
    {
     "cell_type": "code",
     "collapsed": false,
     "input": [
      "print(mylist[::2]) #steps through list returning every second element"
     ],
     "language": "python",
     "metadata": {},
     "outputs": [
      {
       "output_type": "stream",
       "stream": "stdout",
       "text": [
        "[1, 'three']\n"
       ]
      }
     ],
     "prompt_number": 35
    },
    {
     "cell_type": "markdown",
     "metadata": {},
     "source": [
      "And to reverse the list by indexing:"
     ]
    },
    {
     "cell_type": "code",
     "collapsed": false,
     "input": [
      "revlist = mylist[::-1]\n",
      "print(revlist)"
     ],
     "language": "python",
     "metadata": {},
     "outputs": [
      {
       "output_type": "stream",
       "stream": "stdout",
       "text": [
        "[4.0, 'three', 2, 1]\n"
       ]
      }
     ],
     "prompt_number": 36
    },
    {
     "cell_type": "markdown",
     "metadata": {},
     "source": [
      "Assignment directly to elements of a list is trivial, but indexing out of range will raise an error."
     ]
    },
    {
     "cell_type": "code",
     "collapsed": false,
     "input": [
      "mylist[0] = 'zero'\n",
      "mylist[4] = 4"
     ],
     "language": "python",
     "metadata": {},
     "outputs": [
      {
       "ename": "IndexError",
       "evalue": "list assignment index out of range",
       "output_type": "pyerr",
       "traceback": [
        "\u001b[0;31m---------------------------------------------------------------------------\u001b[0m\n\u001b[0;31mIndexError\u001b[0m                                Traceback (most recent call last)",
        "\u001b[0;32m<ipython-input-37-fb3de36486b7>\u001b[0m in \u001b[0;36m<module>\u001b[0;34m()\u001b[0m\n\u001b[1;32m      1\u001b[0m \u001b[0mmylist\u001b[0m\u001b[0;34m[\u001b[0m\u001b[0;36m0\u001b[0m\u001b[0;34m]\u001b[0m \u001b[0;34m=\u001b[0m \u001b[0;34m'zero'\u001b[0m\u001b[0;34m\u001b[0m\u001b[0m\n\u001b[0;32m----> 2\u001b[0;31m \u001b[0mmylist\u001b[0m\u001b[0;34m[\u001b[0m\u001b[0;36m4\u001b[0m\u001b[0;34m]\u001b[0m \u001b[0;34m=\u001b[0m \u001b[0;36m4\u001b[0m\u001b[0;34m\u001b[0m\u001b[0m\n\u001b[0m",
        "\u001b[0;31mIndexError\u001b[0m: list assignment index out of range"
       ]
      }
     ],
     "prompt_number": 37
    },
    {
     "cell_type": "markdown",
     "metadata": {},
     "source": [
      "Using tab-complete on \"mylist.\" in the iPython shell will show a range of options (called methods). We can append to the list, extend the list, pop items, count, sort, etc.\n",
      "\n",
      "All variables in Python are objects, every object has methods that act upon it. These are similar to calling a function on the object, but allow for far more flexibility in programming."
     ]
    },
    {
     "cell_type": "code",
     "collapsed": false,
     "input": [
      "mylist.reverse() #a method can have arguments, so always requires brackets, even if you aren't passing any arguments\n",
      "print(mylist)"
     ],
     "language": "python",
     "metadata": {},
     "outputs": [
      {
       "output_type": "stream",
       "stream": "stdout",
       "text": [
        "[4.0, 'three', 2, 'zero']\n"
       ]
      }
     ],
     "prompt_number": 38
    },
    {
     "cell_type": "code",
     "collapsed": false,
     "input": [
      "mylist.reverse() #let's put it back how it was...\n",
      "mylist.count(2)"
     ],
     "language": "python",
     "metadata": {},
     "outputs": [
      {
       "metadata": {},
       "output_type": "pyout",
       "prompt_number": 39,
       "text": [
        "1"
       ]
      }
     ],
     "prompt_number": 39
    },
    {
     "cell_type": "markdown",
     "metadata": {},
     "source": [
      "So we can see the rather obvious result that mylist has 1 occurrence of the value 2."
     ]
    },
    {
     "cell_type": "code",
     "collapsed": false,
     "input": [
      "mylist.append(5)\n",
      "print(mylist)"
     ],
     "language": "python",
     "metadata": {},
     "outputs": [
      {
       "output_type": "stream",
       "stream": "stdout",
       "text": [
        "['zero', 2, 'three', 4.0, 5]\n"
       ]
      }
     ],
     "prompt_number": 40
    },
    {
     "cell_type": "code",
     "collapsed": false,
     "input": [
      "mylist.extend(['six', 7])"
     ],
     "language": "python",
     "metadata": {},
     "outputs": [],
     "prompt_number": 41
    },
    {
     "cell_type": "code",
     "collapsed": false,
     "input": [
      "print(mylist)"
     ],
     "language": "python",
     "metadata": {},
     "outputs": [
      {
       "output_type": "stream",
       "stream": "stdout",
       "text": [
        "['zero', 2, 'three', 4.0, 5, 'six', 7]\n"
       ]
      }
     ],
     "prompt_number": 42
    },
    {
     "cell_type": "code",
     "collapsed": false,
     "input": [
      "del mylist[0]"
     ],
     "language": "python",
     "metadata": {},
     "outputs": [],
     "prompt_number": 43
    },
    {
     "cell_type": "code",
     "collapsed": false,
     "input": [
      "mylist.insert(0, 1) #inserts 1 at the zeroth index"
     ],
     "language": "python",
     "metadata": {},
     "outputs": [],
     "prompt_number": 44
    },
    {
     "cell_type": "code",
     "collapsed": false,
     "input": [
      "print(mylist)"
     ],
     "language": "python",
     "metadata": {},
     "outputs": [
      {
       "output_type": "stream",
       "stream": "stdout",
       "text": [
        "[1, 2, 'three', 4.0, 5, 'six', 7]\n"
       ]
      }
     ],
     "prompt_number": 45
    },
    {
     "cell_type": "markdown",
     "metadata": {},
     "source": [
      "It's pretty important to note that variable names point to an object, so if you need to modify variables then care can be required:"
     ]
    },
    {
     "cell_type": "code",
     "collapsed": false,
     "input": [
      "notacopy = mylist\n",
      "mylist[0] = \"I only changed this in mylist\"\n",
      "print(notacopy)"
     ],
     "language": "python",
     "metadata": {},
     "outputs": [
      {
       "output_type": "stream",
       "stream": "stdout",
       "text": [
        "['I only changed this in mylist', 2, 'three', 4.0, 5, 'six', 7]\n"
       ]
      }
     ],
     "prompt_number": 46
    },
    {
     "cell_type": "markdown",
     "metadata": {},
     "source": [
      "Thus demonstrating that notacopy is, in fact, not a copy - it's a different name for the same data. There are a few ways to ensure you have a copy. Let's use two here."
     ]
    },
    {
     "cell_type": "code",
     "collapsed": false,
     "input": [
      "mylist = [1, 2, 'three', 4.0, 5, 'six', 7]\n",
      "isacopy = mylist[:]\n",
      "import copy\n",
      "alsoacopy = copy.copy(mylist)\n",
      "mylist[0] = 'how about now?'\n",
      "print('mylist = {0}\\n\\nisacopy = {1}\\nalsoacopy = {2}'.format(mylist, isacopy, alsoacopy))"
     ],
     "language": "python",
     "metadata": {},
     "outputs": [
      {
       "output_type": "stream",
       "stream": "stdout",
       "text": [
        "mylist = ['how about now?', 2, 'three', 4.0, 5, 'six', 7]\n",
        "\n",
        "isacopy = [1, 2, 'three', 4.0, 5, 'six', 7]\n",
        "alsoacopy = [1, 2, 'three', 4.0, 5, 'six', 7]\n"
       ]
      }
     ],
     "prompt_number": 47
    },
    {
     "cell_type": "heading",
     "level": 3,
     "metadata": {},
     "source": [
      "Looping, conditionals, etc."
     ]
    },
    {
     "cell_type": "code",
     "collapsed": false,
     "input": [
      "for el in [1,2,3,4]:\n",
      "    print(el)"
     ],
     "language": "python",
     "metadata": {},
     "outputs": [
      {
       "output_type": "stream",
       "stream": "stdout",
       "text": [
        "1\n",
        "2\n",
        "3\n",
        "4\n"
       ]
      }
     ],
     "prompt_number": 48
    },
    {
     "cell_type": "code",
     "collapsed": false,
     "input": [
      "for el in 'Hi Bob!':\n",
      "    print('{0}'.format(el))"
     ],
     "language": "python",
     "metadata": {},
     "outputs": [
      {
       "output_type": "stream",
       "stream": "stdout",
       "text": [
        "H\n",
        "i\n",
        " \n",
        "B\n",
        "o\n",
        "b\n",
        "!\n"
       ]
      }
     ],
     "prompt_number": 49
    },
    {
     "cell_type": "markdown",
     "metadata": {},
     "source": [
      "So both lists and strings are \"iterable\"... iterating on a list returns each element in turn, whereas iterating on a string returns each character in turn. To return the words separately, we need to break the string up and store each word in a list. Fortunately, this is easy!"
     ]
    },
    {
     "cell_type": "code",
     "collapsed": false,
     "input": [
      "test = 'Hi Bob!'.split()"
     ],
     "language": "python",
     "metadata": {},
     "outputs": [],
     "prompt_number": 50
    },
    {
     "cell_type": "code",
     "collapsed": false,
     "input": [
      "for el in test:\n",
      "    print(el)"
     ],
     "language": "python",
     "metadata": {},
     "outputs": [
      {
       "output_type": "stream",
       "stream": "stdout",
       "text": [
        "Hi\n",
        "Bob!\n"
       ]
      }
     ],
     "prompt_number": 51
    },
    {
     "cell_type": "markdown",
     "metadata": {},
     "source": [
      "On to the while construct, which I only rarely find an actual need for..."
     ]
    },
    {
     "cell_type": "code",
     "collapsed": false,
     "input": [
      "i = 0"
     ],
     "language": "python",
     "metadata": {},
     "outputs": [],
     "prompt_number": 52
    },
    {
     "cell_type": "code",
     "collapsed": true,
     "input": [
      "while i < 40:\n",
      "    i += 1\n",
      "    if i % 5 != 0:\n",
      "        continue\n",
      "    print(i)"
     ],
     "language": "python",
     "metadata": {},
     "outputs": [
      {
       "output_type": "stream",
       "stream": "stdout",
       "text": [
        "5\n",
        "10\n",
        "15\n",
        "20\n",
        "25\n",
        "30\n",
        "35\n",
        "40\n"
       ]
      }
     ],
     "prompt_number": 53
    },
    {
     "cell_type": "markdown",
     "metadata": {},
     "source": [
      "What will this code output?\n",
      "\n",
      "Click on the box under the code snippet to see the answer!"
     ]
    },
    {
     "cell_type": "markdown",
     "metadata": {},
     "source": [
      "For lists can often be written in one line as a \"list comprehensions\" that returns a list of results"
     ]
    },
    {
     "cell_type": "code",
     "collapsed": false,
     "input": [
      "[i**2 for i in range(6)]"
     ],
     "language": "python",
     "metadata": {},
     "outputs": [
      {
       "metadata": {},
       "output_type": "pyout",
       "prompt_number": 54,
       "text": [
        "[0, 1, 4, 9, 16, 25]"
       ]
      }
     ],
     "prompt_number": 54
    },
    {
     "cell_type": "code",
     "collapsed": false,
     "input": [
      "[i**2 for i in range(6) if i % 2 == 0] # and now just for the even elements in [0,6)"
     ],
     "language": "python",
     "metadata": {},
     "outputs": [
      {
       "metadata": {},
       "output_type": "pyout",
       "prompt_number": 55,
       "text": [
        "[0, 4, 16]"
       ]
      }
     ],
     "prompt_number": 55
    },
    {
     "cell_type": "heading",
     "level": 3,
     "metadata": {},
     "source": [
      "Functions"
     ]
    },
    {
     "cell_type": "code",
     "collapsed": false,
     "input": [
      "def timesTwo(x):\n",
      "    x *= 2\n",
      "    return x"
     ],
     "language": "python",
     "metadata": {},
     "outputs": [],
     "prompt_number": 56
    },
    {
     "cell_type": "code",
     "collapsed": false,
     "input": [
      "timesTwo(4)"
     ],
     "language": "python",
     "metadata": {},
     "outputs": [
      {
       "metadata": {},
       "output_type": "pyout",
       "prompt_number": 57,
       "text": [
        "8"
       ]
      }
     ],
     "prompt_number": 57
    },
    {
     "cell_type": "code",
     "collapsed": false,
     "input": [
      "timesTwo(test) #So how will this work on a list?? Click below to find out..."
     ],
     "language": "python",
     "metadata": {},
     "outputs": [
      {
       "metadata": {},
       "output_type": "pyout",
       "prompt_number": 58,
       "text": [
        "['Hi', 'Bob!', 'Hi', 'Bob!']"
       ]
      }
     ],
     "prompt_number": 58
    },
    {
     "cell_type": "code",
     "collapsed": false,
     "input": [
      "def myPower(x, index=2):\n",
      "    return x**index"
     ],
     "language": "python",
     "metadata": {},
     "outputs": [],
     "prompt_number": 59
    },
    {
     "cell_type": "code",
     "collapsed": false,
     "input": [
      "myPower(2)"
     ],
     "language": "python",
     "metadata": {},
     "outputs": [
      {
       "metadata": {},
       "output_type": "pyout",
       "prompt_number": 60,
       "text": [
        "4"
       ]
      }
     ],
     "prompt_number": 60
    },
    {
     "cell_type": "code",
     "collapsed": false,
     "input": [
      "myPower(2, index=3)"
     ],
     "language": "python",
     "metadata": {},
     "outputs": [
      {
       "metadata": {},
       "output_type": "pyout",
       "prompt_number": 61,
       "text": [
        "8"
       ]
      }
     ],
     "prompt_number": 61
    },
    {
     "cell_type": "markdown",
     "metadata": {},
     "source": [
      "But be careful... there's no error checking in this function!"
     ]
    },
    {
     "cell_type": "code",
     "collapsed": false,
     "input": [
      "myPower(2, index=test)"
     ],
     "language": "python",
     "metadata": {},
     "outputs": [
      {
       "ename": "TypeError",
       "evalue": "unsupported operand type(s) for ** or pow(): 'int' and 'list'",
       "output_type": "pyerr",
       "traceback": [
        "\u001b[0;31m---------------------------------------------------------------------------\u001b[0m\n\u001b[0;31mTypeError\u001b[0m                                 Traceback (most recent call last)",
        "\u001b[0;32m<ipython-input-62-7040b8bc4c20>\u001b[0m in \u001b[0;36m<module>\u001b[0;34m()\u001b[0m\n\u001b[0;32m----> 1\u001b[0;31m \u001b[0mmyPower\u001b[0m\u001b[0;34m(\u001b[0m\u001b[0;36m2\u001b[0m\u001b[0;34m,\u001b[0m \u001b[0mindex\u001b[0m\u001b[0;34m=\u001b[0m\u001b[0mtest\u001b[0m\u001b[0;34m)\u001b[0m\u001b[0;34m\u001b[0m\u001b[0m\n\u001b[0m",
        "\u001b[0;32m<ipython-input-59-b883c5cf42a1>\u001b[0m in \u001b[0;36mmyPower\u001b[0;34m(x, index)\u001b[0m\n\u001b[1;32m      1\u001b[0m \u001b[0;32mdef\u001b[0m \u001b[0mmyPower\u001b[0m\u001b[0;34m(\u001b[0m\u001b[0mx\u001b[0m\u001b[0;34m,\u001b[0m \u001b[0mindex\u001b[0m\u001b[0;34m=\u001b[0m\u001b[0;36m2\u001b[0m\u001b[0;34m)\u001b[0m\u001b[0;34m:\u001b[0m\u001b[0;34m\u001b[0m\u001b[0m\n\u001b[0;32m----> 2\u001b[0;31m     \u001b[0;32mreturn\u001b[0m \u001b[0mx\u001b[0m\u001b[0;34m**\u001b[0m\u001b[0mindex\u001b[0m\u001b[0;34m\u001b[0m\u001b[0m\n\u001b[0m",
        "\u001b[0;31mTypeError\u001b[0m: unsupported operand type(s) for ** or pow(): 'int' and 'list'"
       ]
      }
     ],
     "prompt_number": 62
    },
    {
     "cell_type": "markdown",
     "metadata": {},
     "source": [
      "So let's do this the \"Pythonic\" way... we could test what type our input variables have, or we can use exceptions. Let's showcase this with a division function:"
     ]
    },
    {
     "cell_type": "code",
     "collapsed": false,
     "input": [
      "def myDivide(a,b):\n",
      "    try:\n",
      "        c = a/b\n",
      "    except ZeroDivisionError:\n",
      "        c = 0 #not exactly desired behaviour, but this is an example!\n",
      "    return c"
     ],
     "language": "python",
     "metadata": {},
     "outputs": [],
     "prompt_number": 63
    },
    {
     "cell_type": "code",
     "collapsed": false,
     "input": [
      "myDivide(21.4,3)"
     ],
     "language": "python",
     "metadata": {},
     "outputs": [
      {
       "metadata": {},
       "output_type": "pyout",
       "prompt_number": 64,
       "text": [
        "7.133333333333333"
       ]
      }
     ],
     "prompt_number": 64
    },
    {
     "cell_type": "code",
     "collapsed": false,
     "input": [
      "myDivide(21.4,0)"
     ],
     "language": "python",
     "metadata": {},
     "outputs": [
      {
       "metadata": {},
       "output_type": "pyout",
       "prompt_number": 65,
       "text": [
        "0"
       ]
      }
     ],
     "prompt_number": 65
    },
    {
     "cell_type": "markdown",
     "metadata": {},
     "source": [
      "If I'd done that with a regular division..."
     ]
    },
    {
     "cell_type": "code",
     "collapsed": false,
     "input": [
      "21.4/0"
     ],
     "language": "python",
     "metadata": {},
     "outputs": [
      {
       "ename": "ZeroDivisionError",
       "evalue": "float division by zero",
       "output_type": "pyerr",
       "traceback": [
        "\u001b[0;31m---------------------------------------------------------------------------\u001b[0m\n\u001b[0;31mZeroDivisionError\u001b[0m                         Traceback (most recent call last)",
        "\u001b[0;32m<ipython-input-66-ad5be3f831d0>\u001b[0m in \u001b[0;36m<module>\u001b[0;34m()\u001b[0m\n\u001b[0;32m----> 1\u001b[0;31m \u001b[0;36m21.4\u001b[0m\u001b[0;34m/\u001b[0m\u001b[0;36m0\u001b[0m\u001b[0;34m\u001b[0m\u001b[0m\n\u001b[0m",
        "\u001b[0;31mZeroDivisionError\u001b[0m: float division by zero"
       ]
      }
     ],
     "prompt_number": 66
    },
    {
     "cell_type": "markdown",
     "metadata": {},
     "source": [
      "Of course, my error handling here isn't great - there's still room to break things!"
     ]
    },
    {
     "cell_type": "code",
     "collapsed": false,
     "input": [
      "myDivide(21.4,test)"
     ],
     "language": "python",
     "metadata": {},
     "outputs": [
      {
       "ename": "TypeError",
       "evalue": "unsupported operand type(s) for /: 'float' and 'list'",
       "output_type": "pyerr",
       "traceback": [
        "\u001b[0;31m---------------------------------------------------------------------------\u001b[0m\n\u001b[0;31mTypeError\u001b[0m                                 Traceback (most recent call last)",
        "\u001b[0;32m<ipython-input-67-fcaa5f950b44>\u001b[0m in \u001b[0;36m<module>\u001b[0;34m()\u001b[0m\n\u001b[0;32m----> 1\u001b[0;31m \u001b[0mmyDivide\u001b[0m\u001b[0;34m(\u001b[0m\u001b[0;36m21.4\u001b[0m\u001b[0;34m,\u001b[0m\u001b[0mtest\u001b[0m\u001b[0;34m)\u001b[0m\u001b[0;34m\u001b[0m\u001b[0m\n\u001b[0m",
        "\u001b[0;32m<ipython-input-63-437eb98747b1>\u001b[0m in \u001b[0;36mmyDivide\u001b[0;34m(a, b)\u001b[0m\n\u001b[1;32m      1\u001b[0m \u001b[0;32mdef\u001b[0m \u001b[0mmyDivide\u001b[0m\u001b[0;34m(\u001b[0m\u001b[0ma\u001b[0m\u001b[0;34m,\u001b[0m\u001b[0mb\u001b[0m\u001b[0;34m)\u001b[0m\u001b[0;34m:\u001b[0m\u001b[0;34m\u001b[0m\u001b[0m\n\u001b[1;32m      2\u001b[0m     \u001b[0;32mtry\u001b[0m\u001b[0;34m:\u001b[0m\u001b[0;34m\u001b[0m\u001b[0m\n\u001b[0;32m----> 3\u001b[0;31m         \u001b[0mc\u001b[0m \u001b[0;34m=\u001b[0m \u001b[0ma\u001b[0m\u001b[0;34m/\u001b[0m\u001b[0mb\u001b[0m\u001b[0;34m\u001b[0m\u001b[0m\n\u001b[0m\u001b[1;32m      4\u001b[0m     \u001b[0;32mexcept\u001b[0m \u001b[0mZeroDivisionError\u001b[0m\u001b[0;34m:\u001b[0m\u001b[0;34m\u001b[0m\u001b[0m\n\u001b[1;32m      5\u001b[0m         \u001b[0mc\u001b[0m \u001b[0;34m=\u001b[0m \u001b[0;36m0\u001b[0m \u001b[0;31m#not exactly desired behaviour, but this is an example!\u001b[0m\u001b[0;34m\u001b[0m\u001b[0m\n",
        "\u001b[0;31mTypeError\u001b[0m: unsupported operand type(s) for /: 'float' and 'list'"
       ]
      }
     ],
     "prompt_number": 67
    },
    {
     "cell_type": "markdown",
     "metadata": {},
     "source": [
      "Clearly there's more to do here, but we'll save that. Just know that the error handling is available and is very powerful."
     ]
    },
    {
     "cell_type": "heading",
     "level": 3,
     "metadata": {},
     "source": [
      "Other Data Types in Python"
     ]
    },
    {
     "cell_type": "markdown",
     "metadata": {},
     "source": [
      "So far we've seen lists, integers, floats and strings. We've also seen modules, functions and list comprehensions.\n",
      "Now we'll take a quick look at tuples, dictionaries and numpy arrays."
     ]
    },
    {
     "cell_type": "code",
     "collapsed": false,
     "input": [
      "mytuple  = (1,2,3,4) #making a tuple is like making a list, but uses round brackets instead of square"
     ],
     "language": "python",
     "metadata": {},
     "outputs": [],
     "prompt_number": 68
    },
    {
     "cell_type": "code",
     "collapsed": false,
     "input": [
      "mytuple[1]"
     ],
     "language": "python",
     "metadata": {},
     "outputs": [
      {
       "metadata": {},
       "output_type": "pyout",
       "prompt_number": 69,
       "text": [
        "2"
       ]
      }
     ],
     "prompt_number": 69
    },
    {
     "cell_type": "markdown",
     "metadata": {},
     "source": [
      "But the big difference is that tuples, unlike lists, are \"immutable\". That is, they can't be modified in place; strings work this way too."
     ]
    },
    {
     "cell_type": "code",
     "collapsed": false,
     "input": [
      "mytuple[1] = 9"
     ],
     "language": "python",
     "metadata": {},
     "outputs": [
      {
       "ename": "TypeError",
       "evalue": "'tuple' object does not support item assignment",
       "output_type": "pyerr",
       "traceback": [
        "\u001b[0;31m---------------------------------------------------------------------------\u001b[0m\n\u001b[0;31mTypeError\u001b[0m                                 Traceback (most recent call last)",
        "\u001b[0;32m<ipython-input-70-a2258f2fde43>\u001b[0m in \u001b[0;36m<module>\u001b[0;34m()\u001b[0m\n\u001b[0;32m----> 1\u001b[0;31m \u001b[0mmytuple\u001b[0m\u001b[0;34m[\u001b[0m\u001b[0;36m1\u001b[0m\u001b[0;34m]\u001b[0m \u001b[0;34m=\u001b[0m \u001b[0;36m9\u001b[0m\u001b[0;34m\u001b[0m\u001b[0m\n\u001b[0m",
        "\u001b[0;31mTypeError\u001b[0m: 'tuple' object does not support item assignment"
       ]
      }
     ],
     "prompt_number": 70
    },
    {
     "cell_type": "code",
     "collapsed": false,
     "input": [
      "mydict = {'key1': 'item1', 'key2': 2.0, 3: [1,2,3]}\n",
      "mydict[3]"
     ],
     "language": "python",
     "metadata": {},
     "outputs": [
      {
       "metadata": {},
       "output_type": "pyout",
       "prompt_number": 71,
       "text": [
        "[1, 2, 3]"
       ]
      }
     ],
     "prompt_number": 71
    },
    {
     "cell_type": "markdown",
     "metadata": {},
     "source": [
      "Dictionaries are also iterable, but the keys are not returned in any guaranteed order."
     ]
    },
    {
     "cell_type": "code",
     "collapsed": false,
     "input": [
      "for key in mydict:\n",
      "    print(mydict[key])"
     ],
     "language": "python",
     "metadata": {},
     "outputs": [
      {
       "output_type": "stream",
       "stream": "stdout",
       "text": [
        "2.0\n",
        "item1\n",
        "[1, 2, 3]\n"
       ]
      }
     ],
     "prompt_number": 72
    },
    {
     "cell_type": "markdown",
     "metadata": {},
     "source": [
      "Dictionaries, like lists and tuples, can contain any data type. They can even contain themselves. To illustrate, I'll import the numpy module. Numpy is a de facto standard numerics library for Python."
     ]
    },
    {
     "cell_type": "code",
     "collapsed": false,
     "input": [
      "import numpy as np\n",
      "mydict = {'mean': np.mean, 'median': np.median, 'sum': np.sum}\n",
      "def applyFunc(x, func):\n",
      "    return func(x)"
     ],
     "language": "python",
     "metadata": {},
     "outputs": [],
     "prompt_number": 73
    },
    {
     "cell_type": "code",
     "collapsed": false,
     "input": [
      "applyFunc([1,1,3,4], mydict['mean'])"
     ],
     "language": "python",
     "metadata": {},
     "outputs": [
      {
       "metadata": {},
       "output_type": "pyout",
       "prompt_number": 74,
       "text": [
        "2.25"
       ]
      }
     ],
     "prompt_number": 74
    },
    {
     "cell_type": "code",
     "collapsed": false,
     "input": [
      "applyFunc([1,1,3,4], mydict['sum'])"
     ],
     "language": "python",
     "metadata": {},
     "outputs": [
      {
       "metadata": {},
       "output_type": "pyout",
       "prompt_number": 75,
       "text": [
        "9"
       ]
      }
     ],
     "prompt_number": 75
    },
    {
     "cell_type": "markdown",
     "metadata": {},
     "source": [
      "Most numpy functionality is available as array methods."
     ]
    },
    {
     "cell_type": "code",
     "collapsed": false,
     "input": [
      "array1 = np.array([1,2,3,4])\n",
      "array1 + 1"
     ],
     "language": "python",
     "metadata": {},
     "outputs": [
      {
       "metadata": {},
       "output_type": "pyout",
       "prompt_number": 76,
       "text": [
        "array([2, 3, 4, 5])"
       ]
      }
     ],
     "prompt_number": 76
    },
    {
     "cell_type": "code",
     "collapsed": false,
     "input": [
      "array1.sum()"
     ],
     "language": "python",
     "metadata": {},
     "outputs": [
      {
       "metadata": {},
       "output_type": "pyout",
       "prompt_number": 77,
       "text": [
        "10"
       ]
      }
     ],
     "prompt_number": 77
    },
    {
     "cell_type": "markdown",
     "metadata": {},
     "source": [
      "Other than methods, arrays (like other objects) can have \"attributes. These are called much like methods, but do not require brackets. To find out the dimensions of an array:"
     ]
    },
    {
     "cell_type": "code",
     "collapsed": false,
     "input": [
      "array1.shape"
     ],
     "language": "python",
     "metadata": {},
     "outputs": [
      {
       "metadata": {},
       "output_type": "pyout",
       "prompt_number": 78,
       "text": [
        "(4,)"
       ]
      }
     ],
     "prompt_number": 78
    },
    {
     "cell_type": "code",
     "collapsed": false,
     "input": [
      "array2 = np.array([[1,2,3],[4,5,6]])"
     ],
     "language": "python",
     "metadata": {},
     "outputs": [],
     "prompt_number": 79
    },
    {
     "cell_type": "code",
     "collapsed": false,
     "input": [
      "print(array2)"
     ],
     "language": "python",
     "metadata": {},
     "outputs": [
      {
       "output_type": "stream",
       "stream": "stdout",
       "text": [
        "[[1 2 3]\n",
        " [4 5 6]]\n"
       ]
      }
     ],
     "prompt_number": 80
    },
    {
     "cell_type": "code",
     "collapsed": false,
     "input": [
      "array2[0] * 2"
     ],
     "language": "python",
     "metadata": {},
     "outputs": [
      {
       "metadata": {},
       "output_type": "pyout",
       "prompt_number": 81,
       "text": [
        "array([2, 4, 6])"
       ]
      }
     ],
     "prompt_number": 81
    },
    {
     "cell_type": "code",
     "collapsed": false,
     "input": [
      "array2.shape"
     ],
     "language": "python",
     "metadata": {},
     "outputs": [
      {
       "metadata": {},
       "output_type": "pyout",
       "prompt_number": 82,
       "text": [
        "(2, 3)"
       ]
      }
     ],
     "prompt_number": 82
    },
    {
     "cell_type": "markdown",
     "metadata": {},
     "source": [
      "Note that Python, like C, is row-major. Consecutive elements in a row are stored contiguously in memory, further the first index is rows (not columns)."
     ]
    },
    {
     "cell_type": "code",
     "collapsed": false,
     "input": [
      "array2[0] #returns the zeroth row"
     ],
     "language": "python",
     "metadata": {},
     "outputs": [
      {
       "metadata": {},
       "output_type": "pyout",
       "prompt_number": 83,
       "text": [
        "array([1, 2, 3])"
       ]
      }
     ],
     "prompt_number": 83
    },
    {
     "cell_type": "code",
     "collapsed": false,
     "input": [
      "array2[:,0] #returns all rows, but only column zero"
     ],
     "language": "python",
     "metadata": {},
     "outputs": [
      {
       "metadata": {},
       "output_type": "pyout",
       "prompt_number": 84,
       "text": [
        "array([1, 4])"
       ]
      }
     ],
     "prompt_number": 84
    },
    {
     "cell_type": "markdown",
     "metadata": {},
     "source": [
      "All data in arrays must have the same type. The datatype in an array is stored as an attribute ('dtype'). The data type in an array can be promoted where necessary, just like other Python numeric types. It can also be user-specified, if the application requires it."
     ]
    },
    {
     "cell_type": "code",
     "collapsed": false,
     "input": [
      "array2.dtype"
     ],
     "language": "python",
     "metadata": {},
     "outputs": [
      {
       "metadata": {},
       "output_type": "pyout",
       "prompt_number": 85,
       "text": [
        "dtype('int64')"
       ]
      }
     ],
     "prompt_number": 85
    },
    {
     "cell_type": "code",
     "collapsed": false,
     "input": [
      "objArray = array2.astype(object) #makes the required datatype the generic object, so anything can be stored in the array"
     ],
     "language": "python",
     "metadata": {},
     "outputs": [],
     "prompt_number": 86
    },
    {
     "cell_type": "markdown",
     "metadata": {},
     "source": [
      "Times are something that can be difficult to deal with using standard numeric types. Python has the datetime module that specifically handles time, SpacePy also has a module that handles time system conversions which uses datetime heavily."
     ]
    },
    {
     "cell_type": "code",
     "collapsed": false,
     "input": [
      "import datetime as dt\n",
      "time1 = dt.datetime(2002,9,21,12) #datetime takes yr, mon, day, hh, mm, ss, microsec; anything excluded is assumed to be zero\n",
      "time2 = dt.datetime.now() #makes a datetime object for the current time\n",
      "timevec = [time1, time2] #put them in a list\n",
      "objArray[:,0] = timevec #assigns the list of times directly to the first column of our array\n",
      "print(objArray)"
     ],
     "language": "python",
     "metadata": {},
     "outputs": [
      {
       "output_type": "stream",
       "stream": "stdout",
       "text": [
        "[[datetime.datetime(2002, 9, 21, 12, 0) 2 3]\n",
        " [datetime.datetime(2015, 6, 9, 15, 35, 59, 767585) 5 6]]\n"
       ]
      }
     ],
     "prompt_number": 87
    },
    {
     "cell_type": "markdown",
     "metadata": {},
     "source": [
      "And what was the time, in some human-friendly format, when I wrote that code snippet?"
     ]
    },
    {
     "cell_type": "code",
     "collapsed": false,
     "input": [
      "print(time2.isoformat())"
     ],
     "language": "python",
     "metadata": {},
     "outputs": [
      {
       "output_type": "stream",
       "stream": "stdout",
       "text": [
        "2015-06-09T15:35:59.767585\n"
       ]
      }
     ],
     "prompt_number": 88
    },
    {
     "cell_type": "markdown",
     "metadata": {},
     "source": [
      "Time durations are also supported with the timedelta object, basic operations can be performed:"
     ]
    },
    {
     "cell_type": "code",
     "collapsed": false,
     "input": [
      "time2 - time1"
     ],
     "language": "python",
     "metadata": {},
     "outputs": [
      {
       "metadata": {},
       "output_type": "pyout",
       "prompt_number": 89,
       "text": [
        "datetime.timedelta(4644, 12959, 767585)"
       ]
      }
     ],
     "prompt_number": 89
    },
    {
     "cell_type": "markdown",
     "metadata": {},
     "source": [
      "So what do those numbers even mean?\n",
      "\n",
      "The first is the integer number of days, the second is the integer number of seconds, and the last is the integer number of microseconds."
     ]
    },
    {
     "cell_type": "heading",
     "level": 3,
     "metadata": {},
     "source": [
      "Scripts, modules, classes and namespace"
     ]
    },
    {
     "cell_type": "markdown",
     "metadata": {},
     "source": [
      "Python is an interpreted language (not compiled), so a Python program is a \"script\".\n",
      "\n",
      "A Python module is simply a script that provides classes, functions, etc., but isn't designed to actually run by itself. We saw this with numpy earlier. Numpy contains a lot of Python scripts (and some C code), but importing it just makes a library of functinality available, it doesn't *do* anything by itself.\n",
      "\n",
      "The following code defines a class, if you copy it into a file (call it dogs.py) then it's a script! The last bit of code will only run if you run the script... if you import the script you'll have access to the class, but the code at the end won't run."
     ]
    },
    {
     "cell_type": "code",
     "collapsed": false,
     "input": [
      "version = '0.99' #This is marking the version number for our Dog module\n",
      "class Dog(list):\n",
      "    '''This is where documentation for the dog goes...\n",
      "    \n",
      "    Note that Dog sub-classes list, so it will inherit list methods\n",
      "    '''\n",
      "    def __init__(self, name):\n",
      "        self.name = name\n",
      "    def add_trick(self, trick):\n",
      "        self.append(trick)\n",
      "    def __str__(self):\n",
      "        return '<Dog(\"{0}\") = {1}>'.format(self.name, list(self))\n",
      "\n",
      "def myFunc():\n",
      "    pass #functions can go here too... this one will do nothing\n",
      "\n",
      "if __name__=='__main__':\n",
      "    dog1 = Dog('Fido')\n",
      "    dog1.add_trick('sit')\n",
      "    print(dog1)"
     ],
     "language": "python",
     "metadata": {},
     "outputs": [
      {
       "output_type": "stream",
       "stream": "stdout",
       "text": [
        "<Dog(\"Fido\") = ['sit']>\n"
       ]
      }
     ],
     "prompt_number": 94
    },
    {
     "cell_type": "markdown",
     "metadata": {},
     "source": [
      "So why does it run in-place in the interpreter?\n",
      "\n",
      "Well, `__name__` asks for the \"namespace\" that we're running in. `__main__` is the base namespace.\n",
      "\n",
      "If we import something we can only access it by referencing the namespace:"
     ]
    },
    {
     "cell_type": "code",
     "collapsed": false,
     "input": [
      "import sys #system module, has lots of useful stuff\n",
      "sys.version\n"
     ],
     "language": "python",
     "metadata": {},
     "outputs": [
      {
       "metadata": {},
       "output_type": "pyout",
       "prompt_number": 95,
       "text": [
        "'2.7.8 (default, Oct 20 2014, 15:05:19) \\n[GCC 4.9.1]'"
       ]
      }
     ],
     "prompt_number": 95
    },
    {
     "cell_type": "markdown",
     "metadata": {},
     "source": [
      "Now if you try:\n",
      "\n",
      "`import dogs`\n",
      "\n",
      "`dogs.version`\n",
      "\n",
      "You should see '0.99'. This is handy because names of variables and functions won't clash.\n",
      "\n",
      "\n",
      "Numpy also has version information... but that has multiple namespaces. Numpy's sub-module `version` contains a range of version information."
     ]
    },
    {
     "cell_type": "code",
     "collapsed": false,
     "input": [
      "np.version.version"
     ],
     "language": "python",
     "metadata": {},
     "outputs": [
      {
       "metadata": {},
       "output_type": "pyout",
       "prompt_number": 96,
       "text": [
        "'1.8.2'"
       ]
      }
     ],
     "prompt_number": 96
    },
    {
     "cell_type": "heading",
     "level": 3,
     "metadata": {},
     "source": [
      "More Resources"
     ]
    },
    {
     "cell_type": "markdown",
     "metadata": {},
     "source": [
      "Official and unofficial tutorials and documentation:\n",
      "\n",
      "https://www.python.org/about/gettingstarted/\n",
      "\n",
      "http://www.diveintopython.net/\n",
      "\n",
      "http://greenteapress.com/thinkpython/html/index.html\n",
      "\n",
      "IPython resources and some interesting notebooks:\n",
      "\n",
      "http://ipython.org/\n",
      "\n",
      "http://nbviewer.ipython.org/\n",
      "\n",
      "http://nbviewer.ipython.org/github/ipython/ipython/blob/1.x/examples/notebooks/Trapezoid%20Rule.ipynb"
     ]
    }
   ],
   "metadata": {}
  }
 ]
}